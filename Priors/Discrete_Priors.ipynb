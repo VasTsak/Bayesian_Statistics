{
 "cells": [
  {
   "cell_type": "markdown",
   "metadata": {},
   "source": [
    "\n",
    "### Bernoulli / Binomial data\n",
    "\n",
    "#### Uniform Prior\n",
    "\n",
    "When we use a uniform prior for a Bernoulli likelihood, we get a beta posterior.\n",
    "$$f(y|\\theta) = \\theta^{\\sum y_{i}}(1-\\theta)^{n-\\sum y_{i}}, \\ f(\\theta) = I_{\\{0\\leq \\theta \\leq 1\\}}$$\n",
    "$$f(\\theta|y) = \\dfrac{f(y|\\theta)f(\\theta)}{\\int f(y|\\theta)f(\\theta)d\\theta} = \\dfrac{\\theta^{\\sum y_{i}}(1-\\theta)^{n - \\sum y_{i}}I_{\\{0\\leq \\theta \\leq 1\\}}}{\\int_{0}^{1} \\theta^{\\sum y_{i}}(1-\\theta)^{n - \\sum y_{i}}I_{\\{0\\leq \\theta \\leq 1\\}}d\\theta}$$\n",
    "$$=\\dfrac{\\theta^{\\sum y_{i}}(1-\\theta)^{n - \\sum y_{i}}I_{\\{0\\leq \\theta \\leq 1\\}}}{ \\dfrac{\\Gamma(\\sum (y_{i} +1))\\Gamma(\\sum (n - y_{i} +1))}{\\Gamma(n+z)}\\int_{0}^{1}\\dfrac{\\Gamma(n+z)}{\\Gamma(\\sum (y_{i} +1))\\Gamma(\\sum (n - y_{i} +1))}\\theta^{\\sum (y_{i}}(1-\\theta)^{(n-\\sum (y_{i})}d\\theta}$$\n",
    "$$= \\dfrac{\\sum (y_{i})}{\\Gamma(\\sum (y_{i} +1))\\Gamma(\\sum (n - y_{i} +1))}\\theta^{\\sum (y_{i}}(1-\\theta)^{(n-\\sum (y_{i})}I_{\\{0\\leq \\theta \\leq 1\\}}$$\n",
    "\n",
    "Thus we see the posterior for $\\theta | y \\sim Beta(\\sum y_{i} + 1, n - \\sum y_{i} + 1)$.\n",
    "\n",
    "### Conjugate priors\n",
    "In fact, the uniform distribution, is a $Beta(1,1)$. And any beta distribution, is conjugate for the Bernoulli distribution. Any beta prior, will give a beta posterior. \n",
    "\n",
    "We call the beta prior, Looks like $f(\\theta) = \\dfrac{\\Gamma(\\alpha + \\beta)}{\\Gamma(\\alpha)\\Gamma(\\beta)}\\theta^{\\alpha - 1}(1-\\theta)^{\\beta-1}I_{\\{0\\leq \\theta \\leq 1\\}}$\n",
    "\n",
    "We look the posterior for $\\theta$: $$P(\\theta|y) \\propto f(y|\\theta)f(\\theta) = \\theta^{\\sum y_{i}}(1-\\theta)^{n- \\sum y_{i}}\\dfrac{\\Gamma(\\alpha + \\beta)}{\\Gamma(\\alpha)\\Gamma(\\beta)}\\theta^{\\alpha - 1}(1-\\theta)^{\\beta-1}I_{\\{0\\leq \\theta \\leq 1\\}}$$\n",
    "$$\\propto \\theta^{\\alpha + \\sum y_{i}-1}(1-\\theta)^{\\beta + n - \\sum y_{i}-1} I_{\\{0\\leq \\theta \\leq 1\\}}$$\n",
    "\n",
    "The posterior distribution for $\\theta$ (given that the prior is $Beta(\\alpha, \\beta)$) is $Beta(\\alpha + \\sum y_{i},\\beta + n - \\sum y_{i}$)\n",
    "\n",
    "This whole concept now of starting with the beta prior and getting a beta posterior is a really convenient one. \n",
    "\n",
    "This whole process where we choose a particular form of prior that works with a likelihood is called using a **conjugate family**.\n",
    "\n",
    "A family of distributions is referred to as conjugate if when you use a member of that family as a prior, you get another member of that family as your posterior. \n",
    "\n",
    "The beta distribution is conjugate for the Bernoulli distribution. It's also conjugate for the binomial distribution. The only difference in the binomial likelihood is that there is an $n \\choose x$, since that does not depend on $\\theta$ then we get the same posterior.\n",
    "\n",
    "We often use conjugate priors because they make life much more simpler. \n",
    "\n",
    "As we're working out posteriors, if we can't recognize this form, we get some intractable integral in the denominator. And trying to work out that integral can be problematic. It can get complicated really quickly. So sticking to conjugate families allows us to get closed form solutions. \n",
    "\n",
    "If the family is flexible enough, then you can find a member of that family that closely enough represents your beliefs. We can represent this model as a **hierarchy**.\n",
    "\n",
    "$$Y_{1}\\dots Y_{m} \\sim B(\\theta)$$\n",
    "$$\\theta | \\alpha, \\beta \\sim Beta(\\alpha, \\beta) : prior$$\n",
    "$$\\alpha , \\beta = \\alpha_{o}, \\beta_{o} : hyperparameters$$\n",
    "\n",
    "In a more complicated problem instead of setting values to $\\alpha$ and $\\beta$ we want to have more flexibility by putting priors on $\\alpha$ and/or $\\beta$. \n",
    "\n",
    "\n",
    "### Posterior mean and effective sample size\n",
    "\n",
    " Recall that the expected value of a beta:\n",
    " $$\\dfrac{\\alpha}{\\alpha + \\beta}$$\n",
    " For the case of posterior, it is:\n",
    " $$\\dfrac{\\alpha + \\sum y_{i}}{\\alpha + \\sum y_{i} + \\beta + n - \\sum y_{i}} = \\dfrac{\\alpha + \\sum y_{i}}{\\alpha + \\beta + n}$$\n",
    " $$= \\dfrac{\\alpha + \\beta}{\\alpha + \\beta + n}\\dfrac{\\alpha}{\\alpha + \\beta}+\\dfrac{n}{\\alpha + \\beta + n}\\dfrac{\\sum y_{i}}{n}$$\n",
    " $$= prior \\ weight \\times prior \\ mean + data \\ weight \\times data \\ mean$$\n",
    "The weight for the prior, and the weight for the data add up to one, so they are weights. And so the posterior mean is the weighted average of the prior mean and the data mean. \n",
    "\n",
    "We can also see here, here's the **n** for our sample size, and so the corresponding term over here, tells us the effective sample size of the prior. Thus the affected sample size of the prior for beta prior on Bernoulli or a binomial likelihood is $\\alpha + \\beta$. \n",
    "\n",
    "This effective sample size also gives you an idea of how much data you would need to make sure that you're prior doesn't have much influence on your posterior. \n",
    "\n",
    "If $\\alpha + \\beta$ is small compared to $n$. And the posterior will largely just be driven by the data. If $\\alpha + \\beta$ is large relative to $n$, then your posterior will be largely driven by the prior. \n",
    "\n",
    "** Example **\n",
    "\n",
    " Suppose we are giving two students a multiple-choice exam with 40 questions, \n",
    " where each question has four choices. We don't know how much the students\n",
    " have studied for this exam, but we think that they will do better than just\n",
    " guessing randomly. \n",
    " \n",
    " 1) What are the parameters of interest?\n",
    " \n",
    " 2) What is our likelihood?\n",
    " \n",
    " 3) What prior should we use?\n",
    " \n",
    " 4) What is the prior probability P(theta>.25)? P(theta>.5)? P(theta>.8)?\n",
    " \n",
    " 5) Suppose the first student gets 33 questions right. What is the posterior\n",
    "    distribution for theta1? P(theta1>.25)? P(theta1>.5)? P(theta1>.8)?\n",
    "    \n",
    "    What is a 95% posterior credible interval for theta1?\n",
    "    \n",
    " 6) Suppose the second student gets 24 questions right. What is the posterior\n",
    "    distribution for theta2? P(theta2>.25)? P(theta2>.5)? P(theta2>.8)?\n",
    "    \n",
    "    What is a 95% posterior credible interval for theta2?\n",
    "    \n",
    " 7) What is the posterior probability that theta1>theta2, i.e., that the \n",
    "    first student has a better chance of getting a question right than\n",
    "    the second student?"
   ]
  },
  {
   "cell_type": "code",
   "execution_count": 1,
   "metadata": {
    "collapsed": false
   },
   "outputs": [
    {
     "data": {
      "image/png": "[encoded data removed]",
      "text/plain": [
       "plot without title"
      ]
     },
     "metadata": {},
     "output_type": "display_data"
    },
    {
     "data": {
      "image/png": "[encoded data removed]",
      "text/plain": [
       "plot without title"
      ]
     },
     "metadata": {},
     "output_type": "display_data"
    },
    {
     "data": {
      "text/html": [
       "0.998811721801758"
      ],
      "text/latex": [
       "0.998811721801758"
      ],
      "text/markdown": [
       "0.998811721801758"
      ],
      "text/plain": [
       "[1] 0.9988117"
      ]
     },
     "metadata": {},
     "output_type": "display_data"
    },
    {
     "data": {
      "text/html": [
       "0.88671875"
      ],
      "text/latex": [
       "0.88671875"
      ],
      "text/markdown": [
       "0.88671875"
      ],
      "text/plain": [
       "[1] 0.8867188"
      ]
     },
     "metadata": {},
     "output_type": "display_data"
    },
    {
     "data": {
      "text/html": [
       "0.1611392"
      ],
      "text/latex": [
       "0.1611392"
      ],
      "text/markdown": [
       "0.1611392"
      ],
      "text/plain": [
       "[1] 0.1611392"
      ]
     },
     "metadata": {},
     "output_type": "display_data"
    },
    {
     "data": {
      "text/html": [
       "0.788461538461538"
      ],
      "text/latex": [
       "0.788461538461538"
      ],
      "text/markdown": [
       "0.788461538461538"
      ],
      "text/plain": [
       "[1] 0.7884615"
      ]
     },
     "metadata": {},
     "output_type": "display_data"
    },
    {
     "data": {
      "text/html": [
       "0.825"
      ],
      "text/latex": [
       "0.825"
      ],
      "text/markdown": [
       "0.825"
      ],
      "text/plain": [
       "[1] 0.825"
      ]
     },
     "metadata": {},
     "output_type": "display_data"
    },
    {
     "data": {
      "image/png": "[encoded data removed]",
      "text/plain": [
       "plot without title"
      ]
     },
     "metadata": {},
     "output_type": "display_data"
    },
    {
     "data": {
      "text/html": [
       "1"
      ],
      "text/latex": [
       "1"
      ],
      "text/markdown": [
       "1"
      ],
      "text/plain": [
       "[1] 1"
      ]
     },
     "metadata": {},
     "output_type": "display_data"
    },
    {
     "data": {
      "text/html": [
       "0.999992631142057"
      ],
      "text/latex": [
       "0.999992631142057"
      ],
      "text/markdown": [
       "0.999992631142057"
      ],
      "text/plain": [
       "[1] 0.9999926"
      ]
     },
     "metadata": {},
     "output_type": "display_data"
    },
    {
     "data": {
      "text/html": [
       "0.444404382568797"
      ],
      "text/latex": [
       "0.444404382568797"
      ],
      "text/markdown": [
       "0.444404382568797"
      ],
      "text/plain": [
       "[1] 0.4444044"
      ]
     },
     "metadata": {},
     "output_type": "display_data"
    },
    {
     "data": {
      "text/html": [
       "0.668842648747071"
      ],
      "text/latex": [
       "0.668842648747071"
      ],
      "text/markdown": [
       "0.668842648747071"
      ],
      "text/plain": [
       "[1] 0.6688426"
      ]
     },
     "metadata": {},
     "output_type": "display_data"
    },
    {
     "data": {
      "text/html": [
       "0.887109400250257"
      ],
      "text/latex": [
       "0.887109400250257"
      ],
      "text/markdown": [
       "0.887109400250257"
      ],
      "text/plain": [
       "[1] 0.8871094"
      ]
     },
     "metadata": {},
     "output_type": "display_data"
    },
    {
     "data": {
      "text/html": [
       "0.615384615384615"
      ],
      "text/latex": [
       "0.615384615384615"
      ],
      "text/markdown": [
       "0.615384615384615"
      ],
      "text/plain": [
       "[1] 0.6153846"
      ]
     },
     "metadata": {},
     "output_type": "display_data"
    },
    {
     "data": {
      "text/html": [
       "0.6"
      ],
      "text/latex": [
       "0.6"
      ],
      "text/markdown": [
       "0.6"
      ],
      "text/plain": [
       "[1] 0.6"
      ]
     },
     "metadata": {},
     "output_type": "display_data"
    },
    {
     "data": {
      "image/png": "[encoded data removed]",
      "text/plain": [
       "plot without title"
      ]
     },
     "metadata": {},
     "output_type": "display_data"
    },
    {
     "data": {
      "text/html": [
       "0.999999986313041"
      ],
      "text/latex": [
       "0.999999986313041"
      ],
      "text/markdown": [
       "0.999999986313041"
      ],
      "text/plain": [
       "[1] 1"
      ]
     },
     "metadata": {},
     "output_type": "display_data"
    },
    {
     "data": {
      "text/html": [
       "0.954042725092073"
      ],
      "text/latex": [
       "0.954042725092073"
      ],
      "text/markdown": [
       "0.954042725092073"
      ],
      "text/plain": [
       "[1] 0.9540427"
      ]
     },
     "metadata": {},
     "output_type": "display_data"
    },
    {
     "data": {
      "text/html": [
       "0.00124818985803987"
      ],
      "text/latex": [
       "0.00124818985803987"
      ],
      "text/markdown": [
       "0.00124818985803987"
      ],
      "text/plain": [
       "[1] 0.00124819"
      ]
     },
     "metadata": {},
     "output_type": "display_data"
    },
    {
     "data": {
      "text/html": [
       "0.480802158241963"
      ],
      "text/latex": [
       "0.480802158241963"
      ],
      "text/markdown": [
       "0.480802158241963"
      ],
      "text/plain": [
       "[1] 0.4808022"
      ]
     },
     "metadata": {},
     "output_type": "display_data"
    },
    {
     "data": {
      "text/html": [
       "0.741556364717817"
      ],
      "text/latex": [
       "0.741556364717817"
      ],
      "text/markdown": [
       "0.741556364717817"
      ],
      "text/plain": [
       "[1] 0.7415564"
      ]
     },
     "metadata": {},
     "output_type": "display_data"
    },
    {
     "data": {
      "text/html": [
       "0.972"
      ],
      "text/latex": [
       "0.972"
      ],
      "text/markdown": [
       "0.972"
      ],
      "text/plain": [
       "[1] 0.972"
      ]
     },
     "metadata": {},
     "output_type": "display_data"
    },
    {
     "data": {
      "image/png": "[encoded data removed]",
      "text/plain": [
       "plot without title"
      ]
     },
     "metadata": {},
     "output_type": "display_data"
    }
   ],
   "source": [
    "# Solutions:\n",
    "\n",
    "# 1) Parameters of interest are theta1=true probability the first student\n",
    "#    will answer a question correctly, and theta2=true probability the second\n",
    "#    student will answer a question correctly.\n",
    "\n",
    "# 2) Likelihood is Binomial(40, theta), if we assume that each question is \n",
    "#    independent and that the probability a student gets each question right \n",
    "#    is the same for all questions for that student.\n",
    "\n",
    "# 3) The conjugate prior is a beta prior. Plot the density with dbeta.\n",
    "theta=seq(from=0,to=1,by=.01)\n",
    "plot(theta,dbeta(theta,1,1),type=\"l\")\n",
    "plot(theta,dbeta(theta,4,2),type=\"l\")\n",
    "plot(theta,dbeta(theta,8,4),type=\"l\")\n",
    "\n",
    "# 4) Find probabilities using the pbeta function.\n",
    "1-pbeta(.25,8,4)\n",
    "1-pbeta(.5,8,4)\n",
    "1-pbeta(.8,8,4)\n",
    "\n",
    "# 5) Posterior is Beta(8+33,4+40-33) = Beta(41,11)\n",
    "41/(41+11)  # posterior mean\n",
    "33/40       # MLE\n",
    "\n",
    "lines(theta,dbeta(theta,41,11))\n",
    "\n",
    "# plot posterior first to get the right scale on the y-axis\n",
    "plot(theta,dbeta(theta,41,11),type=\"l\")\n",
    "lines(theta,dbeta(theta,8,4),lty=2)\n",
    "# plot likelihood\n",
    "lines(theta,dbinom(33,size=40,p=theta),lty=3)\n",
    "# plot scaled likelihood\n",
    "lines(theta,44*dbinom(33,size=40,p=theta),lty=3)\n",
    "\n",
    "# posterior probabilities\n",
    "1-pbeta(.25,41,11)\n",
    "1-pbeta(.5,41,11)\n",
    "1-pbeta(.8,41,11)\n",
    "\n",
    "# equal-tailed 95% credible interval\n",
    "qbeta(.025,41,11)\n",
    "qbeta(.975,41,11)\n",
    "\n",
    "# 6) Posterior is Beta(8+24,4+40-24) = Beta(32,20)\n",
    "32/(32+20)  # posterior mean\n",
    "24/40       # MLE\n",
    "\n",
    "plot(theta,dbeta(theta,32,20),type=\"l\")\n",
    "lines(theta,dbeta(theta,8,4),lty=2)\n",
    "lines(theta,44*dbinom(24,size=40,p=theta),lty=3)\n",
    "\n",
    "1-pbeta(.25,32,20)\n",
    "1-pbeta(.5,32,20)\n",
    "1-pbeta(.8,32,20)\n",
    "\n",
    "qbeta(.025,32,20)\n",
    "qbeta(.975,32,20)\n",
    "\n",
    "# 7) Estimate by simulation: draw 1,000 samples from each and see how often \n",
    "#    we observe theta1>theta2\n",
    "\n",
    "theta1=rbeta(1000,41,11)\n",
    "theta2=rbeta(1000,32,20)\n",
    "mean(theta1>theta2)\n",
    "\n",
    "\n",
    "# Note for other distributions:\n",
    "# dgamma,pgamma,qgamma,rgamma\n",
    "# dnorm,pnorm,qnorm,rnorm"
   ]
  },
  {
   "cell_type": "markdown",
   "metadata": {},
   "source": [
    "** Question 1 **\n",
    "\n",
    "Suppose we use a Bernoulli likelihood for each coin flip, i.e., f(yi∣θ)=θyi(1−θ)1−yiI{0≤θ≤1} for yi=0 or yi=1, and a uniform prior for θ.\n",
    "\n",
    "What is the posterior distribution for θ if we observe the following sequence: (T, T, T, T) where H denotes heads (Y=1) and T denotes tails (Y=0)?\n",
    "\n",
    "**Answer 1**\n",
    "$Beta(\\alpha + \\sum y_{i},\\beta + n - \\sum y_{i})$\n",
    "\n",
    "Beta(1, 5)\n",
    "\n",
    "**Question 2**\n",
    "\n",
    "What is the maximum likelihood estimate (MLE) of θ if we observe the sequence (T, T, T, T)?\n",
    "\n",
    "**Answer 2**\n",
    "\n",
    "0\n",
    "\n",
    "** Question 3**\n",
    "\n",
    "What is the maximum likelihood estimate (MLE) of θ if we observe the sequence (T, T, T, T)?\n",
    "\n",
    "**Answer 3**"
   ]
  },
  {
   "cell_type": "code",
   "execution_count": 2,
   "metadata": {
    "collapsed": false
   },
   "outputs": [
    {
     "data": {
      "text/html": [
       "0.166666666666667"
      ],
      "text/latex": [
       "0.166666666666667"
      ],
      "text/markdown": [
       "0.166666666666667"
      ],
      "text/plain": [
       "[1] 0.1666667"
      ]
     },
     "metadata": {},
     "output_type": "display_data"
    }
   ],
   "source": [
    "alpha <- 1\n",
    "beta <- 5\n",
    "alpha/(alpha + beta)"
   ]
  },
  {
   "cell_type": "markdown",
   "metadata": {},
   "source": [
    "** Question 4**\n",
    "\n",
    "Find the posterior probability that $\\theta < 0.5$ if we observe the sequence (T,T,T,T).\n",
    "\n",
    "**Answer 4**"
   ]
  },
  {
   "cell_type": "code",
   "execution_count": 3,
   "metadata": {
    "collapsed": false
   },
   "outputs": [
    {
     "data": {
      "text/html": [
       "0.96875"
      ],
      "text/latex": [
       "0.96875"
      ],
      "text/markdown": [
       "0.96875"
      ],
      "text/plain": [
       "[1] 0.96875"
      ]
     },
     "metadata": {},
     "output_type": "display_data"
    }
   ],
   "source": [
    "pbeta(q=0.5, 1, 5)"
   ]
  },
  {
   "cell_type": "markdown",
   "metadata": {},
   "source": [
    "An engineer wants to assess the reliability of a new chemical refinement process by measuring θ, the proportion of samples that fail a battery of tests. These tests are expensive, and the budget only allows 20 tests on randomly selected samples. Assuming each test is independent, she assigns a binomial likelihood where X counts the samples which fail. Historically, new processes pass about half of the time, so she assigns a Beta(2,2) prior for θ (prior mean 0.5 and prior sample size 4). The outcome of the tests is 6 fails and 14 passes.\n",
    "\n",
    "\n",
    "** Question 5 **\n",
    "\n",
    "What is the posterior distribution for θ?\n",
    "\n",
    "**Answer 5**\n",
    "\n",
    "$Beta \\sim (16, 8)$\n",
    "\n",
    "** Question 6**\n",
    "Calculate the upper end of an equal-tailed 95% credible interval for θ\n",
    "\n",
    "**Answer 6**"
   ]
  },
  {
   "cell_type": "code",
   "execution_count": 4,
   "metadata": {
    "collapsed": false
   },
   "outputs": [
    {
     "data": {
      "text/html": [
       "0.529191666008507"
      ],
      "text/latex": [
       "0.529191666008507"
      ],
      "text/markdown": [
       "0.529191666008507"
      ],
      "text/plain": [
       "[1] 0.5291917"
      ]
     },
     "metadata": {},
     "output_type": "display_data"
    }
   ],
   "source": [
    "alpha <- 8\n",
    "beta <- 16\n",
    "qbeta(p=0.975, alpha, beta)"
   ]
  },
  {
   "cell_type": "markdown",
   "metadata": {},
   "source": [
    "The engineer tells you that the process is considered promising and can proceed to another phase of testing if we are 90% sure that the failure rate is less than .35.\n",
    "\n",
    "**Question 7**\n",
    "\n",
    "Calculate the posterior probability P(θ<.35∣x). In your role as the statistician, would you say that this new chemical should pass?\n",
    "\n",
    "**Answer 7**"
   ]
  },
  {
   "cell_type": "code",
   "execution_count": 5,
   "metadata": {
    "collapsed": false
   },
   "outputs": [
    {
     "data": {
      "text/html": [
       "0.586431031445081"
      ],
      "text/latex": [
       "0.586431031445081"
      ],
      "text/markdown": [
       "0.586431031445081"
      ],
      "text/plain": [
       "[1] 0.586431"
      ]
     },
     "metadata": {},
     "output_type": "display_data"
    }
   ],
   "source": [
    "pbeta(q=0.35, alpha, beta)"
   ]
  },
  {
   "cell_type": "markdown",
   "metadata": {},
   "source": [
    "It is discovered that the budget will allow five more samples to be tested. These tests are conducted and none of them fail.\n",
    "\n",
    "**Question 8**\n",
    "\n",
    "Calculate the new posterior probability P(θ<.35∣x1,x2). In your role as the statistician, would you say that this new chemical should pass (with the same requirement as in the previous question)?\n",
    "\n",
    "Hint: You can use the posterior from the previous analysis as the prior for this analysis. Assuming independence of tests, this yields the same posterior as the analysis in which we begin with the Beta(2,2) prior and use all 25 tests as the data.\n",
    "\n",
    "**Answer 8**"
   ]
  },
  {
   "cell_type": "code",
   "execution_count": 6,
   "metadata": {
    "collapsed": false
   },
   "outputs": [
    {
     "data": {
      "text/html": [
       "0.817906445569061"
      ],
      "text/latex": [
       "0.817906445569061"
      ],
      "text/markdown": [
       "0.817906445569061"
      ],
      "text/plain": [
       "[1] 0.8179064"
      ]
     },
     "metadata": {},
     "output_type": "display_data"
    }
   ],
   "source": [
    "pbeta(q=0.35, alpha+0, beta+5)"
   ]
  },
  {
   "cell_type": "markdown",
   "metadata": {},
   "source": [
    "## Poisson data\n",
    "\n",
    "Let's consider Poisson data. For example, think about chocolate chip cookies.  In mass produced chocolate chip cookies, they make a large amount of dough. They mix in a large number of chips, mix it up really well and then chunk out individual cookies. In this process the number of chips per cookie approximately falls a Poisson distribution. \n",
    "\n",
    "If we were to assume that chips have high volume then this would be exactly a Poisson practice and follow exactly a Poisson distribution. But in practice chips are not that big and so they follow approximately a Poisson distribution for number of chips per cookie. \n",
    "\n",
    "So: $Y_{i} \\sim Pois(\\lambda)$, \n",
    "\n",
    "likelihood shall be :\n",
    "$$\\dfrac{\\lambda ^{\\sum y_{i}}e^{-n\\lambda}}{\\prod_{i = 1}y_{i}}$$\n",
    "For this we need lambda to be positive valued. \n",
    "\n",
    "Now our parameter has to be positive valued. What type of prior should we put on lambda? It would be convenient if we could but a conjugate prior. So we can ask, what distribution looks like $\\lambda$ to the something $e$ to the minus something $\\lambda$? \n",
    "\n",
    "That distribution is the gamma distribution. \n",
    "$$\\lambda \\sim \\Gamma(\\alpha, \\beta)$$\n",
    "$$f(\\lambda) = \\dfrac{\\beta^{\\alpha}}{\\Gamma(\\alpha)}\\lambda^{\\alpha -1}e^{-\\beta \\lambda}$$\n",
    "$$f(\\lambda | y) \\propto f(y|\\lambda)f(\\lambda)\\propto \\lambda^{\\sum y_{i}}$$\n",
    "$$\\propto \\lambda^{\\alpha + \\sum y_{i}}e^{-(\\beta + n)\\lambda}$$\n",
    "\n",
    "The posterior is: $$\\Gamma(\\alpha + \\sum Y_{i}, \\beta + n)$$\n",
    "\n",
    "The mean of gamma is: $$\\dfrac{\\alpha}{\\beta}$$\n",
    "\n",
    "The posterior mean is: $$\\dfrac{\\alpha + \\sum y_{i}}{\\beta + n}$$\n",
    "$$= \\dfrac{\\beta}{\\beta + n} \\dfrac{\\alpha}{\\beta} + \\dfrac{n}{\\beta + n} \\dfrac{\\sum y_{i}}{n}$$\n",
    "\n",
    "\n",
    "How would we chose a particular prior, a particular alpha and beta we need to specify values for?Let's take a look of two strategies. Under the first strategy, we want to include information into our prior, based on our personal knowledge. \n",
    "We can start by thinking about what is the prior mean? Prior mean in this case is: $$\\dfrac{\\alpha}{\\beta}$$.\n",
    "\n",
    "We can think, what do we think our prior mean is for the number of chips per cookie.\n",
    "\n",
    "The strategy now involves we have to specify a second thing because there are two parameters. So if we specify two things we can solve for alpha and beta. One possible second thing we could specify is our prior standard deviation or prior variance. \n",
    "We can specify a prior standard deviation and that would be:\n",
    "$$\\dfrac{\\sqrt{\\alpha}}{\\beta}$$\n",
    "\n",
    "Another way of specifying our confidence or uncertainty in our prior is to think about the effective sample size. \n",
    "\n",
    "As we see here, the effective sample size is $\\beta$. And so we can specify how many units of information, we think we have in our prior. How sure we are in that sense versus \n",
    "\n",
    "\n",
    "The second strategy shall be to represent ignorance with a vague prior. \n",
    "\n",
    "In Bayesian statistics, a vague prior refers to one that's relatively flat across much of the space. In this case, we can think about some small $\\epsilon$.So $\\epsilon$ is some small number that is strictly positive. And then we can have: $$\\Gamma(\\epsilon, \\epsilon)$$\n",
    "\n",
    "As long as these are both strictly positive, this is a proper prior, it's a proper distribution.  \n",
    "\n",
    "We think about what the posterior mean looks like under this prior. The posterior mean would be:\n",
    "$$\\dfrac{\\epsilon + \\sum y_{i}}{\\epsilon+n} \\propto \\dfrac{\\sum y_{i}}{n}$$. \n",
    "\n",
    "If $\\epsilon$ is really small then this is approximately the $\\dfrac{\\sum y_{i}}{n}$, just the data mean. \n",
    "\n",
    "**Review**\n",
    "\n",
    "As in the lesson, we use a Poisson likelihood to model the number of chips per cookie, and a conjugate gamma prior on λ, the expected number of chips per cookie. Suppose your prior expectation for λ is 8.\n",
    "\n",
    "**Question 1**\n",
    "\n",
    "The conjugate prior with mean 8 and effective sample size of 2 is Gamma(a,2). Find the value of a.\n",
    "\n",
    "**Answer 1**\n",
    "\n",
    "16\n",
    "\n",
    "**Question 2**\n",
    "\n",
    "The conjugate prior with mean 8 and standard deviation 1 is Gamma(a,8). Find the value of a.\n",
    "\n",
    "**Answer 2** \n",
    "\n",
    "64\n",
    "\n",
    "**Question 3**\n",
    "\n",
    "Suppose you are not very confident in your prior guess of 8, so you want to use a prior effective sample size of 1/100 cookies. Then the conjugate prior is Gamma(a,0.01). Find the value of a. Round your answer to two decimal places.\n",
    "\n",
    "**Answer 3**\n",
    "\n",
    "0.08\n",
    "\n",
    "**Question 4**\n",
    "\n",
    "Suppose you decide on the prior Gamma(8, 1), which has prior mean 8 and effective sample size of one cookie.\n",
    "\n",
    "We collect data, sampling five cookies and counting the chips in each. We find 9, 12, 10, 15, and 13 chips.\n",
    "\n",
    "What is the posterior distribution for λ?"
   ]
  },
  {
   "cell_type": "code",
   "execution_count": 7,
   "metadata": {
    "collapsed": false
   },
   "outputs": [
    {
     "data": {
      "text/html": [
       "67"
      ],
      "text/latex": [
       "67"
      ],
      "text/markdown": [
       "67"
      ],
      "text/plain": [
       "[1] 67"
      ]
     },
     "metadata": {},
     "output_type": "display_data"
    },
    {
     "data": {
      "text/html": [
       "6"
      ],
      "text/latex": [
       "6"
      ],
      "text/markdown": [
       "6"
      ],
      "text/plain": [
       "[1] 6"
      ]
     },
     "metadata": {},
     "output_type": "display_data"
    }
   ],
   "source": [
    "alpha <- 8\n",
    "beta <- 1 \n",
    "cookies <- c(9, 12, 10, 15, 13)\n",
    "n <- 5\n",
    "posterior_a <- alpha + sum(cookies); posterior_a\n",
    "posterior_b <- beta + n; posterior_b"
   ]
  },
  {
   "cell_type": "markdown",
   "metadata": {},
   "source": [
    "**Question 5**\n",
    "\n",
    "Continuing the previous question, what of the following graphs shows the prior density (dotted line) and posterior density (solid line) of λ?\n",
    "\n",
    "**Answer 5**"
   ]
  },
  {
   "cell_type": "code",
   "execution_count": 8,
   "metadata": {
    "collapsed": false
   },
   "outputs": [
    {
     "data": {
      "image/png": "[encoded data removed]",
      "text/plain": [
       "plot without title"
      ]
     },
     "metadata": {},
     "output_type": "display_data"
    }
   ],
   "source": [
    "x <- 1:20\n",
    "y <- dgamma(x, alpha, beta)\n",
    "y_post <- dgamma(x, posterior_a, posterior_b)\n",
    "plot(x, y, ylim=c(0,max(y_post))) \n",
    "lines(x, y_post)"
   ]
  },
  {
   "cell_type": "markdown",
   "metadata": {},
   "source": [
    "**Question 6**\n",
    "\n",
    "What is the posterior mean for $\\lambda$? \n",
    "\n",
    "**Answer 6**"
   ]
  },
  {
   "cell_type": "code",
   "execution_count": 9,
   "metadata": {
    "collapsed": false
   },
   "outputs": [
    {
     "data": {
      "text/html": [
       "11.1666666666667"
      ],
      "text/latex": [
       "11.1666666666667"
      ],
      "text/markdown": [
       "11.1666666666667"
      ],
      "text/plain": [
       "[1] 11.16667"
      ]
     },
     "metadata": {},
     "output_type": "display_data"
    }
   ],
   "source": [
    "posterior_mean <- (posterior_a)/(posterior_b); posterior_mean"
   ]
  },
  {
   "cell_type": "markdown",
   "metadata": {},
   "source": [
    "**Question 7**\n",
    "\n",
    "Find the lower end of a 90% equal-tailed credible interval for λ.\n",
    "\n",
    "**Answer 7**"
   ]
  },
  {
   "cell_type": "code",
   "execution_count": 10,
   "metadata": {
    "collapsed": false
   },
   "outputs": [
    {
     "data": {
      "text/html": [
       "9.02138196638713"
      ],
      "text/latex": [
       "9.02138196638713"
      ],
      "text/markdown": [
       "9.02138196638713"
      ],
      "text/plain": [
       "[1] 9.021382"
      ]
     },
     "metadata": {},
     "output_type": "display_data"
    }
   ],
   "source": [
    "qgamma(p=0.05, posterior_a, posterior_b)"
   ]
  },
  {
   "cell_type": "markdown",
   "metadata": {},
   "source": [
    "** Question 8**\n",
    "\n",
    "Continuing Question 4, suppose that in addition to the five cookies reported, we observe an additional ten cookies with 109 total chips. What is the new posterior distribution for λ, the expected number of chips per cookie?\n",
    "\n",
    "**Answer 8**"
   ]
  },
  {
   "cell_type": "code",
   "execution_count": 11,
   "metadata": {
    "collapsed": false
   },
   "outputs": [
    {
     "data": {
      "text/html": [
       "176"
      ],
      "text/latex": [
       "176"
      ],
      "text/markdown": [
       "176"
      ],
      "text/plain": [
       "[1] 176"
      ]
     },
     "metadata": {},
     "output_type": "display_data"
    },
    {
     "data": {
      "text/html": [
       "11"
      ],
      "text/latex": [
       "11"
      ],
      "text/markdown": [
       "11"
      ],
      "text/plain": [
       "[1] 11"
      ]
     },
     "metadata": {},
     "output_type": "display_data"
    }
   ],
   "source": [
    "post_a <- posterior_a + 109 ;post_a\n",
    "post_b <- posterior_b + 5 ; post_b"
   ]
  },
  {
   "cell_type": "markdown",
   "metadata": {},
   "source": [
    "A retailer notices that a certain type of customer tends to call their customer service hotline more often than other customers, so they begin keeping track. They decide a Poisson process model is appropriate for counting calls, with calling rate θ calls per customer per day.\n",
    "\n",
    "The model for the total number of calls is then Y∼Poisson(n⋅t⋅θ) where n is the number of customers in the group and t is the number of days. That is, if we observe the calls from a group with 24 customers for 5 days, the expected number of calls would be 24⋅5⋅θ=120⋅θ.\n",
    "\n",
    "**Question 9** \n",
    "\n",
    "Following the same procedure outlined in the lesson, find the posterior distribution for $\\theta$.\n",
    "\n",
    "**Answer 9**\n",
    "\n",
    "$\\Gamma(a+y,b+nt)$\n",
    "\n",
    "**Queston 10**\n",
    "\n",
    "Poisson process:\n",
    "\n",
    "\n",
    "On average, the retailer receives 0.01 calls per customer per day. To give this group the benefit of the doubt, they set the prior mean for $\\theta$ at 0.01 with standard deviation 0.5. This yields a $\\Gamma(\\dfrac{1}{2500},\\dfrac{1}{25})$ prior for $\\theta$.\n",
    "\n",
    "Suppose there are $n=24$ customers in this particular group of interest, and the retailer monitors calls from these customers for $t=5$ days. They observe a total of $y=6$ calls from this group.\n",
    "\n",
    "The following graph shows the resulting $\\Gamma(6.0004,120.04)$ posterior for $\\theta$, the calling rate for this group. The vertical dashed line shows the average calling rate of 0.01."
   ]
  },
  {
   "cell_type": "code",
   "execution_count": 12,
   "metadata": {
    "collapsed": false
   },
   "outputs": [
    {
     "data": {
      "image/png": "[encoded data removed]",
      "text/plain": [
       "plot without title"
      ]
     },
     "metadata": {},
     "output_type": "display_data"
    }
   ],
   "source": [
    "a <- 6.0004\n",
    "b <- 120.04\n",
    "x <- seq(0,0.3, 0.01)\n",
    "y <- dgamma(x, a, b)\n",
    "plot(x, y) "
   ]
  },
  {
   "cell_type": "markdown",
   "metadata": {},
   "source": [
    "**Answer 10**\n",
    "\n",
    "Yes, most of the posterior mass (probability) is concentrated on values of θ greater than 0.01."
   ]
  },
  {
   "cell_type": "markdown",
   "metadata": {},
   "source": [
    "** Advanced questions **\n",
    "\n",
    "**Question 1**\n",
    "\n",
    "Identify which of the following conditions (possibly more than one) must be true for the sum of n Bernoulli random variables (with success probability p) to follow a binomial distribution.\n",
    "\n",
    "a) the sum must exceed n\n",
    "\n",
    "b) the sum must be greater than zero\n",
    "\n",
    "c) p must be the same for each of the Bernoulli random variables\n",
    "\n",
    "d) p must be less than .5\n",
    "\n",
    "e) each Bernoulli random variable is independent of all others\n",
    "\n",
    "\n",
    "** Answer 1** \n",
    "\n",
    "c, e\n",
    "\n",
    "\n",
    "We have found that the prior predictive distribution for a Bernoulli trial under a uniform prior on the success probability $\\theta$. We now derive the prior predictive distribution when the prior is any conjugate beta distribution.\n",
    "\n",
    "There are two straightforward ways to to this. The first approach is the same as before. The marginal distribution of $y$ is $f(y)= \\int_{0}^{1}f(y|\\theta)f(\\theta)d\\theta$. Now $f(\\theta)$ is a beta PDF, but the same principles apply: we can move constants out of the integral and find a new normalizing constant to make the integral evaluate to 1.\n",
    "\n",
    "Another approach is to notice that we can write Bayes' theorem as $f(\\theta|y)=\\dfrac{f(y|\\theta)f(\\theta)}{f(y)}$. If we multiply both sides by $f(y)$ and divide both sides by $f(\\theta|y)$, then we get $f(y)=\\dfrac{f(y|\\theta)f(\\theta)}{f(\\theta|y)}$ where $f(\\theta)$ is the beta prior PDF and $f(\\theta|y)$ is the updated beta posterior PDF.\n",
    "\n",
    "** Question 2**\n",
    "\n",
    "Both approaches yield the same answer. What is the prior predictive distribution $f(y)$ for this model when the prior for $\\theta$ is $Beta(a,b)$?\n",
    "\n",
    "**Answer 2**\n",
    "\n",
    "\n",
    "$$f(y) = \\dfrac{\\Gamma(a+b)}{\\Gamma(a + b + 1)} \\dfrac{\\Gamma(a + y)}{\\Gamma(a)}\\dfrac{\\Gamma(b + 1 - y)}{\\Gamma(b)}, for y = 0, 1 $$ \n",
    "\n"
   ]
  },
  {
   "cell_type": "code",
   "execution_count": 13,
   "metadata": {
    "collapsed": true
   },
   "outputs": [],
   "source": [
    "form <- function(a, b, y){\n",
    "    return((factorial(a+b-1)/factorial(a+b))*(factorial(a+y-1)/factorial(a-1))*(factorial(b+1-y-1)/factorial(b-1)))\n",
    "}"
   ]
  },
  {
   "cell_type": "markdown",
   "metadata": {},
   "source": [
    "**Question 3**\n",
    "\n",
    "Beta-Bernoulli predictive distribution:\n",
    "\n",
    "Now suppose the prior for $\\theta$ is Beta(2,2). What is the prior predictive probability that $y∗=1$ for a new observation $y∗$? Round your answer to one decimal place.\n",
    "\n",
    "**Answer 3**"
   ]
  },
  {
   "cell_type": "code",
   "execution_count": 14,
   "metadata": {
    "collapsed": false
   },
   "outputs": [
    {
     "data": {
      "text/html": [
       "0.5"
      ],
      "text/latex": [
       "0.5"
      ],
      "text/markdown": [
       "0.5"
      ],
      "text/plain": [
       "[1] 0.5"
      ]
     },
     "metadata": {},
     "output_type": "display_data"
    }
   ],
   "source": [
    "a <- 2\n",
    "b <- 2\n",
    "form(a, b, 1)"
   ]
  },
  {
   "cell_type": "markdown",
   "metadata": {},
   "source": [
    "All we do, is plugging the a and b to the formula from question 2. The answer to the question is 0.5.\n",
    "\n",
    "**Question 4**\n",
    "\n",
    "Beta-Bernoulli predictive distribution:\n",
    "\n",
    "After specifying our Beta(2,2) prior for θ, we observe 10 Bernoulli trials, 3 of which are successes.\n",
    "\n",
    "What is the posterior predictive probability that $y∗=1$ for the next (11th) observation $y∗$? Round your answer to two decimal places.\n",
    "\n",
    "**Answer 4**\n",
    "\n",
    "First, we need to calculate the posterior Beta, which is $Beta(a + \\sum y_{i}, b + n - \\sum y_{i})$ 9) and we will just plug the new a and b to the formula from question 2. \n"
   ]
  },
  {
   "cell_type": "code",
   "execution_count": 15,
   "metadata": {
    "collapsed": false
   },
   "outputs": [
    {
     "data": {
      "text/html": [
       "5"
      ],
      "text/latex": [
       "5"
      ],
      "text/markdown": [
       "5"
      ],
      "text/plain": [
       "[1] 5"
      ]
     },
     "metadata": {},
     "output_type": "display_data"
    },
    {
     "data": {
      "text/html": [
       "9"
      ],
      "text/latex": [
       "9"
      ],
      "text/markdown": [
       "9"
      ],
      "text/plain": [
       "[1] 9"
      ]
     },
     "metadata": {},
     "output_type": "display_data"
    },
    {
     "data": {
      "text/html": [
       "0.357142857142857"
      ],
      "text/latex": [
       "0.357142857142857"
      ],
      "text/markdown": [
       "0.357142857142857"
      ],
      "text/plain": [
       "[1] 0.3571429"
      ]
     },
     "metadata": {},
     "output_type": "display_data"
    }
   ],
   "source": [
    "post_a <- a + 3;post_a\n",
    "post_b <- b + 7;post_b\n",
    "form(post_a, post_b, 1)"
   ]
  },
  {
   "cell_type": "code",
   "execution_count": null,
   "metadata": {
    "collapsed": true
   },
   "outputs": [],
   "source": []
  }
 ],
 "metadata": {
  "kernelspec": {
   "display_name": "R",
   "language": "R",
   "name": "ir"
  },
  "language_info": {
   "codemirror_mode": "r",
   "file_extension": ".r",
   "mimetype": "text/x-r-source",
   "name": "R",
   "pygments_lexer": "r",
   "version": "3.3.2"
  }
 },
 "nbformat": 4,
 "nbformat_minor": 2
}
