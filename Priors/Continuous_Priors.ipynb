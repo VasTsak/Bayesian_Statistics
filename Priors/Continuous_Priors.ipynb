{
 "cells": [
  {
   "cell_type": "markdown",
   "metadata": {},
   "source": [
    "## Exponential data\n",
    "\n",
    "\n",
    "Let's consider the case of exponential data. For example, suppose you're waiting for a bus that you think comes on average once every ten minutes, but you're not sure exactly how often it comes. We'll say $Y \\sim Exp(\\lambda)$. Your waiting time has a prior expectation of one over lambda. It turns out, the gamma distribution is conjugate for an exponential likelihood. Gammas actually are conjugate for a number of different things.  \n",
    "\n",
    "Your waiting time has a prior expectation of $\\dfrac{1}{\\lambda}$. It turns out, the gamma distribution is conjugate for an exponential likelihood. \n",
    "We need to specify a prior, so a particular gamma in this case. If we think that the buses come on average every ten minutes, that's a rate of $\\dfrac{1}{10}$. So our prior mean should be $\\dfrac{1}{10}$. Thus, we'll want to specify a gamma distribution, this first parameter divided by a second parameter is $\\dfrac{1}{10}$.  \n",
    "\n",
    "We can think that about our variability. Perhaps you want to specify a prior, which is a $\\Gamma(100,1000)$. This will indeed have prior mean of $$\\dfrac{1}{10}$$, and it'll have a prior standard deviation, Of $$\\dfrac{1}{10}$$ Thus if we think as a rough approximate of a mean plus or minus two standard deviations as a rough interval for our prior, we would say we're looking at $0.1$ plus or minus $0.02$ as a possible range for this rate parameter. \n",
    "\n",
    "So, here's a particular prior we could specify. \n",
    "\n",
    "Now, you want to update you posterior for $\\lambda$ about how often this bus will arrive. So : $$P(\\lambda|y) \\propto P(y|\\lambda) P(\\lambda) $$$$\\propto \\lambda e^{-\\lambda y} \\lambda^{\\alpha -1} e^{-\\beta\\lambda}$$ $$\\propto \\lambda^{\\alpha +1} e^{-(\\beta + y)\\lambda}$$\n",
    "\n",
    "We can now say that lambda given $y|\\lambda \\sim \\Gamma(\\alpha + 1, \\beta + y)$.\n",
    "\n",
    "Suppose that we wait for $12$ minutes, and a bus arrives. \n",
    "\n",
    "$$\\Gamma(101, 1012)$$ \n",
    "posterior mean : $\\dfrac{101}{1012} = 0.998 = \\dfrac{1}{10.12}$\n",
    "\n",
    "**Review Exponential Data **\n",
    "\n",
    "**Question 1**\n",
    "\n",
    "Recall that we used the conjugate gamma prior for $\\lambda$, the arrival rate in busses per minute. Suppose our prior belief about this rate is that it should have mean $\\dfrac{1}{20}$ arrivals per minute with standard deviation $\\dfrac{1}{5}$. Then the prior is $Gamma(a,b)$ with $a=\\dfrac{1}{16}$.\n",
    "\n",
    "Find the value of b.\n",
    "\n",
    "**Answer 1**"
   ]
  },
  {
   "cell_type": "code",
   "execution_count": 34,
   "metadata": {
    "collapsed": false
   },
   "outputs": [
    {
     "data": {
      "text/html": [
       "1.25"
      ],
      "text/latex": [
       "1.25"
      ],
      "text/markdown": [
       "1.25"
      ],
      "text/plain": [
       "[1] 1.25"
      ]
     },
     "metadata": {},
     "output_type": "display_data"
    }
   ],
   "source": [
    "mean <- 1/20\n",
    "std <- 1/5\n",
    "a <- 1/16\n",
    "b <- a/mean\n",
    "b"
   ]
  },
  {
   "cell_type": "markdown",
   "metadata": {},
   "source": [
    "Bus waiting times:\n",
    "\n",
    "Suppose that we wish to use a prior with the same mean $\\dfrac{1}{20}$, but with effective sample size of one arrival. Then the prior for $\\lambda$ is $Gamma(1,20)$. \n",
    "\n",
    "In addition to the original $Y_{1}=12$, we observe the waiting times for four additional busses: $Y_{2}=15$, $Y_{3}=8$, $Y_{4}=13.5$, $Y_{5}=25$.\n",
    "\n",
    "Recall that with multiple (independent) observations, the posterior for $\\lambda$ is $Gamma(\\alpha,\\beta)$ where $\\alpha=a+n$ and $\\beta=b+\\sum y_{i}$.\n",
    "\n",
    "** Question 2**\n",
    "\n",
    "What is the posterior mean for λ?\n",
    "\n",
    "**Answer 2**\n"
   ]
  },
  {
   "cell_type": "code",
   "execution_count": 35,
   "metadata": {
    "collapsed": false
   },
   "outputs": [
    {
     "data": {
      "text/html": [
       "6"
      ],
      "text/latex": [
       "6"
      ],
      "text/markdown": [
       "6"
      ],
      "text/plain": [
       "[1] 6"
      ]
     },
     "metadata": {},
     "output_type": "display_data"
    },
    {
     "data": {
      "text/html": [
       "93.5"
      ],
      "text/latex": [
       "93.5"
      ],
      "text/markdown": [
       "93.5"
      ],
      "text/plain": [
       "[1] 93.5"
      ]
     },
     "metadata": {},
     "output_type": "display_data"
    },
    {
     "data": {
      "text/html": [
       "0.0641711229946524"
      ],
      "text/latex": [
       "0.0641711229946524"
      ],
      "text/markdown": [
       "0.0641711229946524"
      ],
      "text/plain": [
       "[1] 0.06417112"
      ]
     },
     "metadata": {},
     "output_type": "display_data"
    }
   ],
   "source": [
    "mean <- 1/20\n",
    "a <- 1\n",
    "b <- a/mean\n",
    "waiting_times <- c(15, 8, 13.5, 25)\n",
    "alpha <- a + length(waiting_times)+1\n",
    "beta <- b + sum(waiting_times)+12\n",
    "post_mean <- alpha/beta\n",
    "post_mean\n"
   ]
  },
  {
   "cell_type": "markdown",
   "metadata": {},
   "source": [
    "**Question 3**\n",
    "Find the posterior probability that $\\lambda<1/10$.\n",
    "\n",
    "**Answer 3**"
   ]
  },
  {
   "cell_type": "code",
   "execution_count": 36,
   "metadata": {
    "collapsed": false
   },
   "outputs": [
    {
     "data": {
      "text/html": [
       "0.903969878638193"
      ],
      "text/latex": [
       "0.903969878638193"
      ],
      "text/markdown": [
       "0.903969878638193"
      ],
      "text/plain": [
       "[1] 0.9039699"
      ]
     },
     "metadata": {},
     "output_type": "display_data"
    }
   ],
   "source": [
    "pgamma(q=1/10, shape=alpha, rate=beta)"
   ]
  },
  {
   "cell_type": "markdown",
   "metadata": {},
   "source": [
    "The United States Geological Survey maintains a list of significant earthquakes worldwide. We will model the rate of earthquakes of magnitude 4.0+ in the state of California during 2015. An iid exponential model on the waiting time between significant earthquakes is appropriate if we assume:\n",
    "\n",
    "    1. earthquake events are independent,\n",
    "    2. the rate at which earthquakes occur does not change during the year, and\n",
    "    3. the earthquake hazard rate does not change (i.e., the probability of an earthquake happening tomorrow is constant regardless of whether the previous earthquake was yesterday or 100 days ago).\n",
    "\n",
    "Let $Y_{i}$ denote the waiting time in days between the ith earthquake and the following earthquake. Our model is $Yi\\stackrel{iid}{\\sim} Exp(\\lambda)$ where the expected waiting time between earthquakes is $E(Y)=\\dfrac{1}{\\lambda}$ days.\n",
    "\n",
    "Assume the conjugate prior $\\lambda∼Gamma(a,b)$. Suppose our prior expectation for $\\lambda$ is $\\dfrac{1}{30}$, and we wish to use a prior effective sample size of one interval between earthquakes.\n",
    "\n",
    "** Question 4**\n",
    "\n",
    "What is the value of a?\n",
    "\n",
    "**Answer 4**"
   ]
  },
  {
   "cell_type": "code",
   "execution_count": 37,
   "metadata": {
    "collapsed": false
   },
   "outputs": [
    {
     "data": {
      "text/html": [
       "1"
      ],
      "text/latex": [
       "1"
      ],
      "text/markdown": [
       "1"
      ],
      "text/plain": [
       "[1] 1"
      ]
     },
     "metadata": {},
     "output_type": "display_data"
    }
   ],
   "source": [
    "eff_sample <- 1\n",
    "a <- eff_sample\n",
    "a"
   ]
  },
  {
   "cell_type": "markdown",
   "metadata": {},
   "source": [
    "** Question 5**\n",
    "\n",
    "What is the value of b?\n",
    "\n",
    "**Answer 5**"
   ]
  },
  {
   "cell_type": "code",
   "execution_count": 38,
   "metadata": {
    "collapsed": false
   },
   "outputs": [
    {
     "data": {
      "text/html": [
       "30"
      ],
      "text/latex": [
       "30"
      ],
      "text/markdown": [
       "30"
      ],
      "text/plain": [
       "[1] 30"
      ]
     },
     "metadata": {},
     "output_type": "display_data"
    }
   ],
   "source": [
    "lambda <- 1/30\n",
    "b <- a/lambda\n",
    "b"
   ]
  },
  {
   "cell_type": "markdown",
   "metadata": {},
   "source": [
    "The significant earthquakes of magnitude 4.0+ in the state of California during 2015 occurred on the following dates (http://earthquake.usgs.gov/earthquakes/browse/significant.php?year=2015):\n",
    "\n",
    "January 4, January 20, January 28, May 22, July 21, July 25, August 17, September 16, December 30.\n",
    "\n",
    "**Questiom 6**\n",
    "\n",
    "Recall that we are modeling the waiting times between earthquakes in days. Which is our data vector?\n",
    "\n",
    "**Answer 6**"
   ]
  },
  {
   "cell_type": "code",
   "execution_count": 39,
   "metadata": {
    "collapsed": true
   },
   "outputs": [],
   "source": [
    "y <- c(16, 8, 114, 60, 4, 23, 30, 105)"
   ]
  },
  {
   "cell_type": "markdown",
   "metadata": {},
   "source": [
    "**Question 7** \n",
    "\n",
    "The posterior distribution is λ∣y∼Gamma(α,β). What is the value of α?\n",
    "\n",
    "**Answer 7**"
   ]
  },
  {
   "cell_type": "code",
   "execution_count": 40,
   "metadata": {
    "collapsed": false
   },
   "outputs": [
    {
     "data": {
      "text/html": [
       "9"
      ],
      "text/latex": [
       "9"
      ],
      "text/markdown": [
       "9"
      ],
      "text/plain": [
       "[1] 9"
      ]
     },
     "metadata": {},
     "output_type": "display_data"
    }
   ],
   "source": [
    "post_a <- a + length(y); post_a\n"
   ]
  },
  {
   "cell_type": "markdown",
   "metadata": {},
   "source": [
    "**Question 8** \n",
    "\n",
    "The posterior distribution is λ∣y∼Gamma(α,β). What is the value of β?\n",
    "\n",
    "**Answer 8**"
   ]
  },
  {
   "cell_type": "code",
   "execution_count": 41,
   "metadata": {
    "collapsed": false
   },
   "outputs": [
    {
     "data": {
      "text/html": [
       "390"
      ],
      "text/latex": [
       "390"
      ],
      "text/markdown": [
       "390"
      ],
      "text/plain": [
       "[1] 390"
      ]
     },
     "metadata": {},
     "output_type": "display_data"
    }
   ],
   "source": [
    "post_b <- b + sum(y); post_b"
   ]
  },
  {
   "cell_type": "markdown",
   "metadata": {},
   "source": [
    "**Question 9**\n",
    "\n",
    "Calculate the upper end of the 95% equal-tailed credible interval for λ, the rate of major earthquakes in events per day. Round your answer to two decimal places.\n",
    "\n",
    "**Answer 9**"
   ]
  },
  {
   "cell_type": "code",
   "execution_count": 42,
   "metadata": {
    "collapsed": false
   },
   "outputs": [
    {
     "data": {
      "text/html": [
       "0.0404184338979316"
      ],
      "text/latex": [
       "0.0404184338979316"
      ],
      "text/markdown": [
       "0.0404184338979316"
      ],
      "text/plain": [
       "[1] 0.04041843"
      ]
     },
     "metadata": {},
     "output_type": "display_data"
    }
   ],
   "source": [
    "qgamma(p=0.975, shape=post_a, rate=post_b)"
   ]
  },
  {
   "cell_type": "markdown",
   "metadata": {},
   "source": [
    "The posterior predictive density for a new waiting time y^{∗} in days is:\n",
    "\n",
    "$f(y^{∗}∣y)=\\int f(y^{∗}∣λ)⋅f(λ∣y)dλ=\\dfrac{β^{α}Γ(α+1)}{(β+y^{∗})^{α+1}Γ(α)}I_{\\{y^{∗}≥0\\}}=\\dfrac{β^{α}α}{(β+y^{∗})^{α+1}}I{\\{y∗≥0\\}}$\n",
    "\n",
    "where $f(λ∣y)$ is the Gamma(α,β) posterior found earlier.\n",
    "\n",
    "**Question 10**\n",
    "\n",
    "Plot the graph that  shows the posterior predictive distribution for y^{∗}\n"
   ]
  },
  {
   "cell_type": "code",
   "execution_count": 43,
   "metadata": {
    "collapsed": false
   },
   "outputs": [
    {
     "data": {
      "text/html": [
       "0.0230769230769231"
      ],
      "text/latex": [
       "0.0230769230769231"
      ],
      "text/markdown": [
       "0.0230769230769231"
      ],
      "text/plain": [
       "[1] 0.02307692"
      ]
     },
     "metadata": {},
     "output_type": "display_data"
    },
    {
     "data": {
      "image/png": "[encoded data removed]",
      "text/plain": [
       "plot without title"
      ]
     },
     "metadata": {},
     "output_type": "display_data"
    }
   ],
   "source": [
    "x <- 1:120\n",
    "post_lambda <- post_a/post_b\n",
    "y <- dexp(x, rate = 1/post_lambda)\n",
    "plot(x, y)\n",
    "post_lambda"
   ]
  },
  {
   "cell_type": "markdown",
   "metadata": {},
   "source": [
    "## Normal Data\n",
    "\n",
    "### Normal likelihood with variance known\n",
    "\n",
    "The normal distribution arises in a wide variety of contexts. Including heights of people, manufacturing industrial processes and as a result of the central limit theorem. \n",
    "\n",
    "Let's take the occasion that we know the variation. This is the situation that often arises in monitoring of industrial production processes. So we'll say  $X_{i} \\stackrel{iid}{\\sim}N(\\mu, \\sigma^{2})$. \n",
    "\n",
    "How would we choose a prior for mu? \n",
    "\n",
    "We'd like to use a conjugate prior, it would be convenient. It turns out the normal is conjugate for itself for its mean parameter. \n",
    "\n",
    "So we'll specify a prior for mu, $\\mu \\stackrel{iid}{\\sim}N(m, s^{2})$.\n",
    "\n",
    "I'm putting on noughts to specify particular values in this case. That these are not parameters. The posterior then mu given the data x. \n",
    "\n",
    "The posterior then mu given the data x shall be: \n",
    "\n",
    "$$f(\\mu|x) \\propto f(x|\\mu) f(\\mu) $$\n",
    "\n",
    "After conducting many calculations which are beyond the scope of this document we derive that : \n",
    "$$\\mu | x \\sim N(\\dfrac{\\dfrac{n\\bar{x}}{\\sigma^{2}} + \\dfrac{m}{s^{2}}}{\\dfrac{n}{\\sigma^{2}}+\\dfrac{1}{s}} \\dfrac{1}{\\dfrac{n}{\\sigma^{2}}+\\dfrac{1}{s^{2}}}, \\dfrac{1}{\\dfrac{n}{\\sigma^{2}}+\\dfrac{1}{s^{2}}})$$\n",
    "\n",
    "\n",
    "This posterior mean, we can rewrite as:\n",
    "\n",
    "$$\\dfrac{\\dfrac{n}{\\sigma^{2}}}{\\dfrac{n}{\\sigma^{2}} + \\dfrac{1}{s^{2}}}\\bar{x} + \\dfrac{\\dfrac{1}{s^{2}}}{\\dfrac{n}{\\sigma^{2}}+\\dfrac{1}{s^{2}}}m$$\n",
    "\n",
    "$$= \\dfrac{n}{n + \\dfrac{\\sigma^{2}}{s^{2}}}\\bar{x} + \\dfrac{\\dfrac{\\sigma^{2}}{s^{2}}}{n + \\dfrac{\\sigma^{2}}{s^{2}}}m$$ \n",
    "\n",
    "This makes sense because, the larger the variance of the prior the less information that's in it. The smaller the variation of the prior, the more information that's in it. \n",
    "\n",
    "### Normal likelihood with variance unknown\n",
    "\n",
    "Let's take the occasion that we don't know the variation., we can specify a conjugate prior in a hierarchical fashion.\n",
    "\n",
    "Let: $$X_{i}|\\mu,\\sigma^{2}\\stackrel{iid}{\\sim}N(\\mu, \\sigma^{2})$$. We then specify a prior for $\\mu$ conditional on the value for $\\sigma^{2}$ to be: $$\\mu|\\sigma^{2} \\stackrel{iid}{\\sim}N(M, \\dfrac{\\sigma^{2}}{W})$$ \n",
    "\n",
    "In this case here,is going to be the ratio of sigma squared and some variance for the normal distribution: $$W = \\dfrac{\\sigma^{2}}{\\sigma_{M}^{2}} = \\text{effective sample size of the prior}$$\n",
    "\n",
    "Finally, the last step is to specify a prior for $\\sigma^{2}$. The conjugate prior here is an $I\\Gamma(\\alpha, \\beta)$. Lots of calculations later, we can get a posterior, $$\\sigma^{2}|X \\sim I\\Gamma(\\alpha+\\dfrac{ N}{2}, \\beta + \\dfrac{(\\sum x_{i} - \\bar{x})^{2}}{2}+\\dfrac{nw}{2(n+w)}(\\bar{x} - m)^{2})$$\n",
    "\n",
    "\n",
    "$$\\mu|\\sigma^{2},X \\sim N(\\dfrac{n\\bar{x}+wm}{n+w}, \\dfrac{\\sigma^{2}}{n + w})$$\n",
    "$$\\text{where:} \\dfrac{n\\bar{x}+wm}{n+w} = \\dfrac{w}{n+w}m + \\dfrac{n}{n+w}\\bar{x}$$\n",
    "\n",
    "In many cases, all we care about is $\\mu$ and we may want it such that it doesn't depend on $\\sigma^{2}$. We can marginalize that sigma squared, integrating it out. And at the end of the day, we get a $\\mu|x \\sim t$\n",
    "\n",
    "Finally, I note that we can extend this in various directions, this is going to be extended multi, normal case, that requires vector and matrix notation. This can also be extended in a hierarchical fashion if we want to specify prior strain of M, W, and beta. \n",
    "\n",
    "** Example 1**\n",
    "\n",
    "Suppose you are trying to calibrate a thermometer by testing the temperature it reads when water begins to boil. Because of natural variation, you take n independent measurements (experiments) to estimate θ, the mean temperature reading for this thermometer at the boiling point. Assume a normal likelihood for these data, with mean θ and known variance σ2=0.25 (which corresponds to a standard deviation of 0.5 degrees Celsius).\n",
    "\n",
    "Suppose your prior for θ is (conveniently) the conjugate normal. You know that at sea level, water should boil at 100 degrees Celsius, so you set the prior mean at m0=100.\n",
    "\n",
    "** Question 1**\n",
    "\n",
    "If you specify a prior variance $s_{0}^{2}$ for θ,  describe the model for your measurements Yi, i=1,…,n?\n",
    "\n",
    "**Answer 1**\n",
    "\n",
    "$$Yi∣θ\\stackrel{iid}{\\sim}N(θ,0.25) ; θ\\sim N(100,s02)$$\n",
    "\n",
    "**Question 2**\n",
    "\n",
    "You decide you want the prior to be equivalent (in effective sample size) to one measurement.\n",
    "\n",
    "What value should you select for $s_{0}^{2}$ the prior variance of θ? Round your answer to two decimal places.\n",
    "\n",
    "**Answer 2**\n",
    "\n",
    "0.25\n",
    "\n",
    "The prior effective sample size is: $$\\dfrac{\\sigma^{2}}{s_{0}^{2}}= \\dfrac{0.25}{0.25}=1$$\n",
    "\n",
    "\n",
    "**Question 3**\n",
    "\n",
    "You collect the following n=5 measurements: (94.6, 95.4, 96.2, 94.9, 95.9).\n",
    "\n",
    "What is the posterior distribution for θ?"
   ]
  },
  {
   "cell_type": "code",
   "execution_count": 10,
   "metadata": {
    "collapsed": false
   },
   "outputs": [
    {
     "data": {
      "text/html": [
       "96.1666666666667"
      ],
      "text/latex": [
       "96.1666666666667"
      ],
      "text/markdown": [
       "96.1666666666667"
      ],
      "text/plain": [
       "[1] 96.16667"
      ]
     },
     "metadata": {},
     "output_type": "display_data"
    },
    {
     "data": {
      "text/html": [
       "0.0416666666666667"
      ],
      "text/latex": [
       "0.0416666666666667"
      ],
      "text/markdown": [
       "0.0416666666666667"
      ],
      "text/plain": [
       "[1] 0.04166667"
      ]
     },
     "metadata": {},
     "output_type": "display_data"
    }
   ],
   "source": [
    "measurements <- c(94.6, 95.4, 96.2, 94.9, 95.9)\n",
    "m <- 100\n",
    "n <- length(measurements)\n",
    "x_bar <- mean(measurements)\n",
    "sigma <- 0.25\n",
    "s <- 0.25\n",
    "avg <- (n/(n + (sigma/s)))*x_bar+((sigma/s)/(n + (sigma/s)))*m\n",
    "avg\n",
    "sd <- 1/((n/sigma)+(1/s))\n",
    "sd"
   ]
  },
  {
   "cell_type": "markdown",
   "metadata": {},
   "source": [
    "**Question 4**\n",
    "\n",
    "Find the upper end of a 95% equal-tailed credible interval for θ.\n",
    "\n",
    "**Answer 4**"
   ]
  },
  {
   "cell_type": "code",
   "execution_count": 11,
   "metadata": {
    "collapsed": false
   },
   "outputs": [
    {
     "data": {
      "text/html": [
       "96.2483318326892"
      ],
      "text/latex": [
       "96.2483318326892"
      ],
      "text/markdown": [
       "96.2483318326892"
      ],
      "text/plain": [
       "[1] 96.24833"
      ]
     },
     "metadata": {},
     "output_type": "display_data"
    }
   ],
   "source": [
    "qnorm(p=0.975, avg, sd)"
   ]
  },
  {
   "cell_type": "markdown",
   "metadata": {},
   "source": [
    "**Question 5**\n",
    "\n",
    "After collecting these data, is it reasonable to conclude that the thermometer is biased toward low values?\n",
    "\n",
    "**Answer 5**\n",
    "\n",
    "Yes, we have $P(θ<100∣y)>0.9999$"
   ]
  },
  {
   "cell_type": "code",
   "execution_count": 12,
   "metadata": {
    "collapsed": false
   },
   "outputs": [
    {
     "data": {
      "text/html": [
       "0.999999999996531"
      ],
      "text/latex": [
       "0.999999999996531"
      ],
      "text/markdown": [
       "0.999999999996531"
      ],
      "text/plain": [
       "[1] 1"
      ]
     },
     "metadata": {},
     "output_type": "display_data"
    }
   ],
   "source": [
    "pnorm(q=100, mean=a, sd=sqrt(b))"
   ]
  },
  {
   "cell_type": "markdown",
   "metadata": {},
   "source": [
    "**Question 6**\n",
    "\n",
    "What is the posterior predictive distribution of a single future observation Y∗?\n",
    "\n",
    "**Answer 6**\n",
    "\n",
    "N(96.17,0.292)\n",
    "\n",
    "This is the posterior distribution with the variance increased by the value of known data variance.\n"
   ]
  },
  {
   "cell_type": "code",
   "execution_count": 14,
   "metadata": {
    "collapsed": false
   },
   "outputs": [
    {
     "data": {
      "text/html": [
       "0.292"
      ],
      "text/latex": [
       "0.292"
      ],
      "text/markdown": [
       "0.292"
      ],
      "text/plain": [
       "[1] 0.292"
      ]
     },
     "metadata": {},
     "output_type": "display_data"
    }
   ],
   "source": [
    "round(sigma + sd, 3)"
   ]
  },
  {
   "cell_type": "markdown",
   "metadata": {},
   "source": [
    "\n",
    "**Example 2**\n",
    "\n",
    "Your friend moves from city A to city B and is delighted to find her favorite restaurant chain at her new location. After several meals, however, she suspects that the restaurant in city B is less generous. She decides to investigate.\n",
    "\n",
    "She orders the main dish on 30 randomly selected days throughout the year and records each meal's weight in grams. You still live in city A, so you assist by performing the same experiment at your restaurant. Assume that the dishes are served on identical plates (measurements subtract the plate's weight), and that your scale and your friend’s scale are consistent.\n",
    "\n",
    "**Question 8**\n",
    "\n",
    "Your friend investigates the three observations above 700 grams and discovers that she had ordered the incorrect meal on those dates. She removes these observations from the data set and proceeds with the analysis using n=27.\n",
    "\n",
    "She assumes a normal likelihood for the data with unknown mean μ and unknown variance $σ^{2}$. She uses the model presented in Lesson 10.2 where, conditional on $σ^{2}$, the prior for $μ \\sim(m,\\dfrac{σ^{2}}{w})$. Next, the marginal prior for $σ^{2}$ is Inverse-Gamma(a,b).\n",
    "\n",
    "Your friend's prior guess on the mean dish weight is 500 grams, so we set m=500. She is not very confident with this guess, so we set the prior effective sample size w=0.1. Finally, she sets a=3 and b=200.\n",
    "\n",
    "We can learn more about this inverse-gamma prior by simulating draws from it. If a random variable X follows a Gamma(a,b) distribution, then 1X follows an Inverse-Gamma(a,b) distribution. Hence, we can simulate draws from a gamma distribution and take their reciprocals, which will be draws from an inverse-gamma."
   ]
  },
  {
   "cell_type": "markdown",
   "metadata": {},
   "source": [
    "**Question 7**\n",
    "\n",
    "Simulate a large number of draws (at least 300) from the prior for σ2 and report your approximate prior mean from these draws. It does not need to be exact.\n",
    "\n",
    "**Answer 7**"
   ]
  },
  {
   "cell_type": "code",
   "execution_count": 15,
   "metadata": {
    "collapsed": false
   },
   "outputs": [
    {
     "data": {
      "text/html": [
       "109.506543719791"
      ],
      "text/latex": [
       "109.506543719791"
      ],
      "text/markdown": [
       "109.506543719791"
      ],
      "text/plain": [
       "[1] 109.5065"
      ]
     },
     "metadata": {},
     "output_type": "display_data"
    }
   ],
   "source": [
    "w <- 0.1\n",
    "n <- 27\n",
    "m <- 500 \n",
    "a <- 3\n",
    "b <- 200\n",
    "\n",
    "z <- rgamma(n=300, shape=a, rate=b)\n",
    "x <- 1/z\n",
    "mean(x)"
   ]
  },
  {
   "cell_type": "code",
   "execution_count": null,
   "metadata": {
    "collapsed": true
   },
   "outputs": [],
   "source": []
  }
 ],
 "metadata": {
  "kernelspec": {
   "display_name": "R",
   "language": "R",
   "name": "ir"
  },
  "language_info": {
   "codemirror_mode": "r",
   "file_extension": ".r",
   "mimetype": "text/x-r-source",
   "name": "R",
   "pygments_lexer": "r",
   "version": "3.3.2"
  }
 },
 "nbformat": 4,
 "nbformat_minor": 2
}
