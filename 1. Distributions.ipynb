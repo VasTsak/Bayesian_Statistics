{
 "cells": [
  {
   "cell_type": "markdown",
   "metadata": {},
   "source": [
    "# Central Limit Theorem \n",
    "\n",
    "The central limit theorem states that given a distribution with a mean $\\mu$ and variance $\\sigma^2$, the sampling distribution of the mean approaches a normal distribution with a mean $\\mu$ and a variance $\\dfrac{\\sigma^2}{N}$ where $N$ is the sample size for each mean and not the number of samples. The fascinating thing about the central limit theorem is that no matter what the shape of the original distribution, the sampling distribution of the mean approaches a normal distribution. \n",
    "Two important properties of $N$ are:\n",
    "\n",
    "    1) the more it increases, the distribution looks more like a normal distribution \n",
    "    2) the variance decreases.\n",
    "\n",
    "\n",
    "# Confidence Interval\n",
    "A confidence interval (CI) is a type of interval estimate (of a population parameter) that is computed from the observed data.\n",
    "\n",
    "Let assume that we toss a coin 100 times and the result is 42 heads and 58 tails. \n",
    "We can say that $X_{i} \\sim B(p)$ \n",
    "\n",
    "We can ask:\n",
    "\n",
    "    1) What is the best estimate of p\n",
    "    2) How confident are we of that estimate?.\n",
    "    \n",
    "Let's apply the Central Limit Theorem. By CLT we know that $\\sum_{i = 1}^{100} X_{i} \\underset{\\cdot}{\\overset{.}{\\sim}} N(100p, 100p(p-1)$\n",
    "\n",
    "So , 95% of the time we expect $p$ to be between $100p - 1.96 \\sqrt{100p(1-p)}$ and $100p + 1.96 \\sqrt{100p(1-p)}$\n",
    "\n",
    "In our case we have observed 42 heads, so we estimate p as $\\hat{p} = \\dfrac{42}{100} = 0.42$\n",
    "The CI will be $42 +- 1.96 \\sqrt{42 \\times 0.58} = (32.33, 51.67)$\n",
    "So we can say that we're 95% confident that p is in the interval .3233 to .5167. We're 95% confident that the true probability of getting a head is in this interval. So if we want to ask a question do we think this is a fair coin. That it is reasonable that this is a fair coin because one half is in this interval.\n",
    "\n",
    "What does it mean when I say we're 95% confident? \n",
    "\n",
    "Under the frequentist paradigm, what this means is we have to think back to our infinite hypothetical sequence of events. So if we were to repeat this trial an infinite number of times, or an arbitrary large number of times. Each time we create a confidence interval in this way based on the data we observe. Than on average 95% of the intervals we make will contain the true value of p. \n",
    "\n",
    "\n",
    "# Cumulative distribution function\n",
    "\n",
    "\n",
    "The cumulative distribution function (CDF) exists for every distribution. We define it as $F(x) = P(X\\leq x)$ for random variable X. If X is discrete-valued, then the CDF is computed with summation $F(x) = \\sum_{t = -\\inf}^{x}f(t)$ where $f(t) = P(X = x)$ is the probability mass function (PMF) that we have already seen. If X is continuous, the CDF is computed with an integral $F(x) = \\int_{t = -\\inf}^{x}f(t)dt$ where f(t) is the probability density function (PDF). \n",
    "The examples below use binomial (discrete) distribution and an exponential (continuous) distribution.\n",
    "**Example**: Suppose $$Y \\sim Binomial(5, 0.6)$$. Then $$F(1) = P(X\\leq 1) = \\sum_{-\\inf}^{1}f(t) = \\sum_{-\\inf}^{-1}0 + \\sum_{0}^{1}{5 \\choose t} ^{t}(1-0.6)^{5-t}$$ $$= {5 \\choose 0} ^{0}(1-0.6)^{5-0} + {5 \\choose 1} ^{1}(1-0.6)^{5-1} = 0.4^{5} + 5(0.6)(0.4)^{4} \\approx 0.087$$\n",
    "\n",
    "**Example** Suppose $Y \\sim Exp(1)$. Then $F(2) = P(Y \\leq 2) = \\int_{-\\inf}{2} e^{-t}I_{\\{t \\geq 0\\}}dt = \\int_{0}{2} e^{-t}dt = -e^{-t}\\bigg\\rvert_{t = 0}^{t =2} = -(e^{-2}- e^{0}) = 1 - e^{-2} \\approx 0.865$\n",
    "\n",
    "The CDF is convenient for calculating probabilities of intervals. Let a and b be any real numbers with $a < b$\n",
    "Then the probability that X falls between a and b is equal to $P(a<X≤b) =P(X≤b)−P(X≤a)=F(b)−F(a).$\n",
    "\n",
    "# Quantile function \n",
    "\n",
    "The CDF takes a value for a random variable and returns a probability. Suppose instead that we start with a number between 0 and 1, call it p, and we wish to find the value\n",
    "x so that P(X≤x) =p.The value x which satisfies this equation is called the p quantile (or 100 p percentile) of the distribution of X.\n",
    "\n",
    "**Example**:\n",
    "In a standardized test, the 97th percentile of scores among all test-takers is 23.\n",
    "Then 23 is the score you must achieve on the test in order to score higher than 97% of all\n",
    "test-takers. We could equivalently call\n",
    "q = 23 the .97 quantile of the distribution of test\n",
    "scores.\n",
    "\n",
    "**Example**:\n",
    "The middle 50% of probability mass for a continuous random variable is found\n",
    "between the .25 and .75 quantiles of its distribution. If\n",
    "$Z\\sim N(0,1)$, then the .25 quantile is −0.674 and the .75 quantile is 0.674. Therefore, $P(−0.674< Z < 0.674) =0.5$.\n",
    "\n",
    "\n",
    "# Distributions\n",
    "\n",
    "\n",
    "## Discrete Distributions\n",
    "\n",
    "A discrete random variable X is described by a probability mass functions (PMF), which we will also call “distributions,” f(x)=P(X =x). The set of x-values for which f (x) > 0 is called the support. Note, if the distribution depends on unknown parameter(s) θ we can write it as f (x; θ) (preferred by frequentists) or f(x| θ) (preferred by Bayesians). The difference between the frequentist and Bayesian paradigm will be covered later.\n",
    "\n",
    "### Bernoulli Distribution\n",
    "It's used when we have two possible outcomes, or the cases where we have a success or a failure. \n",
    "\n",
    "Well, to denote this, let's say a random variable $x$ follows a Bernoulli distribution with probability $p$, where $p$ is probability of success $X\\sim B(p)$. The failure or tales, x = 0 has probability $1- p$. \n",
    "\n",
    "We can write this as a function for all the different possible outcomes. \n",
    "\n",
    "And say what's the probability that the random variable x takes a value of little x given a specific value of p?\n",
    "\n",
    "$f(X  = x \\mid p) = f(x \\mid p) = p^{x}(1 - p)^{1 - x} I _{x \\in {0, 1}}(x)$. This is referred to as the probability mass function. It gives the probability of different outcomes of the random variable. \n",
    "\n",
    "The indicator function takes precedence in the order of operations so we always evaluate it first, this is a way we can avoid doing things such as taking the log or the square root of a negative number. \n",
    "\n",
    "The expected value of x as we sum over all possible outcomes. Little x, we sum up x times the probability random variable takes up variable x. \n",
    "\n",
    "$E[X] = \\sum_{x}P(X = x) = (1)p + (0)(1 - p)  = p$\n",
    "\n",
    "One possible outcome is one, it takes that with the probability of p. Another possible outcome is 0, it takes that with the probability 1- p. So the expected value for Bernoulli is just the probability p.\n",
    "\n",
    "Similarly we can talk about the variance which is the square root of the standard deviation. \n",
    "\n",
    "$Var(X) = p(1 - p)$ \n",
    "\n"
   ]
  },
  {
   "cell_type": "code",
   "execution_count": 64,
   "metadata": {},
   "outputs": [
    {
     "data": {
      "text/plain": [
       "[Text(0,0.5,'Frequency'), Text(0.5,0,'Bernoulli')]"
      ]
     },
     "execution_count": 64,
     "metadata": {},
     "output_type": "execute_result"
    },
    {
     "data": {
      "image/png": "[encoded data removed]",
      "text/plain": [
       "<matplotlib.figure.Figure at 0x7f8dcb8974a8>"
      ]
     },
     "metadata": {},
     "output_type": "display_data"
    }
   ],
   "source": [
    "from scipy.stats import bernoulli\n",
    "import matplotlib.pyplot as plt\n",
    "import seaborn as sns\n",
    "import warnings\n",
    "warnings.filterwarnings('ignore')\n",
    "%matplotlib inline\n",
    "\n",
    "#load numpy\n",
    "bern_dist = bernoulli.rvs(0.3, size=1000)\n",
    "ax= sns.distplot(bern_dist,\n",
    "                 kde=False,\n",
    "                 color=\"skyblue\",\n",
    "                 hist_kws={\"linewidth\": 15,'alpha':1})\n",
    "ax.set(xlabel='Bernoulli', ylabel='Frequency')"
   ]
  },
  {
   "cell_type": "markdown",
   "metadata": {},
   "source": [
    "\n",
    "### Binomial Distribution \n",
    "\n",
    "The generalization of the Bernoulli when we have N repeated trials is a binomial. It fits to repeated trials each with a dichotomous outcome such as success-failure, healthy-disease, heads-tails.\n",
    "\n",
    "Binomial is just the sum of the N independent Bernoullis. We can say X follows a binomial distribution with parameters n and p ($X\\sim Bin(n, p)$). In this case, the probability function, probability that X takes some value little x is given p. \n",
    "\n",
    "\n",
    "$$f(X  = x \\mid p) = {n \\choose x} p^{x}(1 - p)^{n - x}$$\n",
    "$${n \\choose x} =  \\dfrac{n!}{x!(n-x)!}$$ for $$x \\in \\{1,...,n\\}$$\n",
    "\n",
    "The expected value for binomial is $$E[X] = np$$ The variance for binomial is $$Var[X] = np(1- p)$$ "
   ]
  },
  {
   "cell_type": "code",
   "execution_count": 65,
   "metadata": {},
   "outputs": [
    {
     "data": {
      "text/plain": [
       "[Text(0,0.5,'Frequency'), Text(0.5,0,'Binomial')]"
      ]
     },
     "execution_count": 65,
     "metadata": {},
     "output_type": "execute_result"
    },
    {
     "data": {
      "image/png": "[encoded data removed]",
      "text/plain": [
       "<matplotlib.figure.Figure at 0x7f8dcb30dd68>"
      ]
     },
     "metadata": {},
     "output_type": "display_data"
    }
   ],
   "source": [
    "from scipy.stats import binom\n",
    "# 10 tosses of coin, 0.5 probability of success, 10000 trials \n",
    "data_binom =binom.rvs(n=10,p=0.5,size=10000)\n",
    "ax = sns.distplot(data_binom,\n",
    "                  kde=False,\n",
    "                  color='skyblue',\n",
    "                  hist_kws={\"linewidth\": 15,'alpha':1})\n",
    "ax.set(xlabel='Binomial', ylabel='Frequency')\n"
   ]
  },
  {
   "cell_type": "markdown",
   "metadata": {},
   "source": [
    "**Example** \n",
    "\n",
    "Let that that a coin $X\\sim Bin(100, 0.43)$. Compute the following: "
   ]
  },
  {
   "cell_type": "code",
   "execution_count": 66,
   "metadata": {},
   "outputs": [
    {
     "name": "stdout",
     "output_type": "stream",
     "text": [
      "The Probability mass function for X = 48 is:\n",
      "0.04802029649166173\n",
      "The Probability mass function for X >= 45 is:\n",
      "0.37940324367066913\n",
      "The Probability mass function for X < 40 is:\n",
      "0.2406282858942399\n",
      "The Probability mass function for 40 <= X <= 50 is:\n",
      "0.7157958935931372\n",
      "The 2.5% quantile is:\n",
      "33.0\n"
     ]
    }
   ],
   "source": [
    "n = 100 \n",
    "p = 0.43\n",
    "# P(X  = 48) # 4.8%\n",
    "p_x_48 = binom.pmf(48, n, p, loc=0)\n",
    "print(\"The Probability mass function for X = 48 is:\")\n",
    "print(p_x_48)\n",
    "# P(X  >= 45) # 37.9%\n",
    "p_x_45 =  1 - binom.cdf(44, n, p)\n",
    "print(\"The Probability mass function for X >= 45 is:\")\n",
    "print(p_x_45)\n",
    "# P(X < 40) # 24%\n",
    "p_x_40 =  binom.cdf(39, n, p)\n",
    "print(\"The Probability mass function for X < 40 is:\")\n",
    "print(p_x_40)\n",
    "# P(40 <= X <= 50) # 71.5%\n",
    "p_x_40_50 =  binom.cdf(51, n, p) - binom.cdf(39, n, p)\n",
    "print(\"The Probability mass function for 40 <= X <= 50 is:\")\n",
    "print(p_x_40_50)\n",
    "#Find the quantiles 0.025 \n",
    "q_0025 = binom.ppf(0.025, n, p) # 33\n",
    "print(\"The 2.5% quantile is:\")\n",
    "print(q_0025)"
   ]
  },
  {
   "cell_type": "markdown",
   "metadata": {},
   "source": [
    "### Geometric Distribution\n",
    "\n",
    "The geometric distribution is the number of trials needed to get the first success, i.e., the number of Bernoulli events until a success is observed, such as the first head when flipping a coin. It takes values on the positive integers starting with one (since at least one trial is needed to observe a success).\n",
    "$$X\\sim Geo(p)$$\n",
    "$$P(X  = x \\mid p) = p(1 - p)^{x - 1}$$\n",
    "for $$x = 1,2...$$\n",
    "$$E[X] = \\dfrac{1}{p}$$\n",
    "If the probability of getting a success is p, then the expected number of trials until the first\n",
    "success is $\\dfrac{1}{p}$.\n",
    "\n",
    "\n",
    "**Example:** What is the probability that we flip a fair coin four times and don’t see any heads?\n",
    "This is the same as asking what is $P (X > 4)$ where $X \\sim  Geo(1/2)$. $$P (X > 4) = 1 − P (X =\n",
    "1)−P (X = 2)−P (X = 3)−P (X = 4) $$ $$= 1−(1/2)−(1/2)(1/2)−(1/2)(1/2)^{2} −(1/2)(1/2)^{3}$$ $$=\n",
    "1/16$$. Of course, we could also have just computed it directly, but here we see an example\n",
    "of using the geometric distribution and we can also see that we got the right answer."
   ]
  },
  {
   "cell_type": "code",
   "execution_count": 67,
   "metadata": {},
   "outputs": [
    {
     "data": {
      "text/plain": [
       "6.0"
      ]
     },
     "execution_count": 67,
     "metadata": {},
     "output_type": "execute_result"
    }
   ],
   "source": [
    "from scipy.stats import geom\n",
    "p = 0.5\n",
    "\n",
    "# P(X  > 4)\n",
    "1 - geom.cdf(4, p)\n",
    "\n",
    "#Find the quantiles 0.975\n",
    "geom.ppf(0.975, p)"
   ]
  },
  {
   "cell_type": "code",
   "execution_count": 74,
   "metadata": {},
   "outputs": [
    {
     "name": "stdout",
     "output_type": "stream",
     "text": [
      "The probability to have your first toss after 4 tosses is:\n",
      "0.03125\n",
      "The 97.5% quantile is:\n",
      "6.0\n"
     ]
    },
    {
     "data": {
      "text/plain": [
       "[Text(0,0.5,'Frequency'), Text(0.5,0,'Geometric')]"
      ]
     },
     "execution_count": 74,
     "metadata": {},
     "output_type": "execute_result"
    },
    {
     "data": {
      "image/png": "[encoded data removed]",
      "text/plain": [
       "<matplotlib.figure.Figure at 0x7f8dcafec160>"
      ]
     },
     "metadata": {},
     "output_type": "display_data"
    }
   ],
   "source": [
    "p = 0.5\n",
    "\n",
    "# P(X  > 4)\n",
    "x_4 = 1 - geom.cdf(5, p)\n",
    "print('The probability to have your first toss after 4 tosses is:')\n",
    "print(x_4)\n",
    "\n",
    "#Find the quantiles 0.975\n",
    "q_975 = geom.ppf(0.975, p) # 5 tosses\n",
    "print('The 97.5% quantile is:')\n",
    "print(q_975)\n",
    "\n",
    "# Let's take a look at it\n",
    "\n",
    "data_geom =geom.rvs(p=0.5,size=1000)\n",
    "ax = sns.distplot(data_geom,\n",
    "                  kde=False,\n",
    "                  color='skyblue',\n",
    "                  hist_kws={\"linewidth\": 15,'alpha':1})\n",
    "ax.set(xlabel='Geometric', ylabel='Frequency')"
   ]
  },
  {
   "cell_type": "markdown",
   "metadata": {},
   "source": [
    "### Multinomial Distribution\n",
    "\n",
    "Another generalization of the Bernoulli and the binomial is the multinomial distribution,\n",
    "which is like a binomial when there are more than two possible outcomes. Suppose we have\n",
    "$n$ trials and there are $k$ different possible outcomes which occur with probabilities $p_{1}$ , , $p_{k}$ .\n",
    "For example, we are rolling a six-sided die that might be loaded so that the sides are not\n",
    "equally likely, then $n$ is the total number of rolls, $k = 6, p_{1}$ is the probability of rolling a one,\n",
    "and we denote by $x_{1}$ , . . . , $x_{6}$ a possible outcome for the number of times we observe rolls of each of one through six, where $\\sum_{i = 1}^{6}x_{i} = n$ and $\\sum_{i = 1}^{6}p_{i} = 1$.\n",
    "$$p(x_1,...,x_n\\mid p_1,...,p_n) = \\dfrac{n!}{x_{1}!...x_{k}!}p_{1}^{x_1}...p_{k}^{x_k}$$\n",
    "The expected number of observations in category i is \n",
    "$$E[X_{i}] = np_{i}$$\n",
    "$$Var[X_{i}] = np_{i}(1- p_{i})$$\n",
    "\n",
    "**Example**\n",
    "\n",
    "Let's assume that we have observed a player of paper-rock-scissor and have calculated the followng probabilities for each move : $P_{paper} = 0.2$, $P_{rock} = 0.3$, $P_{scissor} = 0.5$. "
   ]
  },
  {
   "cell_type": "code",
   "execution_count": 82,
   "metadata": {},
   "outputs": [
    {
     "name": "stdout",
     "output_type": "stream",
     "text": [
      "The probability of the other player playing scissors is:\n",
      "0.5\n",
      "The probability for the other player playing 5 of each is: \n",
      "0.018389170800000073\n",
      "The probability for the other player playing 5 of each is: \n",
      "0.0019531249999999985\n"
     ]
    }
   ],
   "source": [
    "from scipy.stats import multinomial\n",
    "\n",
    "p1, p2,p3 = 0.2, 0.3, 0.5\n",
    "\n",
    "\n",
    "# Find the probability of the other player playing scissors\n",
    "p_1_sc = multinomial.pmf(x = [0, 0, 1], n = 1, p = [p1, p2, p3])\n",
    "print(\"The probability of the other player playing scissors is:\")\n",
    "print(p_1_sc)\n",
    "\n",
    "# Find the probability for the other player playing 5 of each\n",
    "p_5_each = multinomial.pmf(x = [5, 5, 5], n = 15, p = [p1, p2, p3])\n",
    "print(\"The probability for the other player playing 5 of each is: \")\n",
    "print(p_5_each)\n",
    "\n",
    "# Find the probability for the other player playing 9 times scissor\n",
    "p_9_sc = multinomial.pmf(x = [0, 0, 9], n = 9, p = [p1, p2, p3])\n",
    "print(\"The probability for the other player playing 5 of each is: \")\n",
    "print(p_9_sc)\n"
   ]
  },
  {
   "cell_type": "markdown",
   "metadata": {},
   "source": [
    "### Poisson Distribution\n",
    "\n",
    "The Poisson distribution is used for counts, and arises in a variety of situations. The parameter $\\lambda > 0$ is the rate at which we expect to observe the thing we are counting.\n",
    "$$X\\sim Pois(\\lambda)$$\n",
    "$$P(X  = x \\mid \\lambda) = \\dfrac{\\lambda^{x}\\exp(-\\lambda)}{x!}$$ for for x = 0, 1, 2, . . .\n",
    "$$E[X] = \\lambda$$\n",
    "$$Var[X] = \\lambda$$\n",
    "\n",
    "** Example** \n",
    "If there are twelve cars crossing a bridge per minute on average. Compute the following: "
   ]
  },
  {
   "cell_type": "code",
   "execution_count": 89,
   "metadata": {},
   "outputs": [
    {
     "name": "stdout",
     "output_type": "stream",
     "text": [
      "The probability of having sixteen or less cars crossing the bridge in a particular minute is:\n",
      "0.8987089925601621\n",
      "The probability more than 17 cars crossing the bridge in a minute is:\n",
      "0.10129100743983788\n"
     ]
    },
    {
     "data": {
      "text/plain": [
       "[Text(0,0.5,'Frequency'), Text(0.5,0,'Poisson')]"
      ]
     },
     "execution_count": 89,
     "metadata": {},
     "output_type": "execute_result"
    },
    {
     "data": {
      "image/png": "[encoded data removed]",
      "text/plain": [
       "<matplotlib.figure.Figure at 0x7f8dcaec4e10>"
      ]
     },
     "metadata": {},
     "output_type": "display_data"
    }
   ],
   "source": [
    "from scipy.stats import poisson\n",
    "\n",
    "lam = 12\n",
    "# Find the probability of having sixteen or less cars crossing the bridge in a particular minute.\n",
    "p_16 = poisson.cdf(16, lam)\n",
    "print(\"The probability of having sixteen or less cars crossing the bridge in a particular minute is:\")\n",
    "print(p_16)\n",
    "\n",
    "# Find the probability more than 17 cars crossing the bridge in a minute\n",
    "print(\"The probability more than 17 cars crossing the bridge in a minute is:\")\n",
    "print(1 - p_16)\n",
    "\n",
    "# Let's take a look at it\n",
    "\n",
    "data_poisson =poisson.rvs(lam,size=1000)\n",
    "ax = sns.distplot(data_poisson,\n",
    "                  kde=False,\n",
    "                  color='skyblue',\n",
    "                  hist_kws={\"linewidth\": 15,'alpha':1})\n",
    "ax.set(xlabel='Poisson', ylabel='Frequency')"
   ]
  },
  {
   "cell_type": "markdown",
   "metadata": {},
   "source": [
    "## Continuous Distributions\n",
    "\n",
    "We can define a continuous random variable based on its probability density function or PDF for short. The PDF is sort of proportional to the probability that the random variable will take a particular value. In differential calculus sense because it can take an infinite number of possible values. The key idea is that if you integrate the PDF over an interval, it gives you the probability that the random variable would be in that interval. \n",
    "\n",
    "Let :\n",
    "$$X\\sim U[0,1]$$\n",
    "\\begin{equation}\n",
    "  f(x)=\\begin{cases}\n",
    "    1, & \\text{if $0\\leq x\\leq 1$}.\\\\\n",
    "    0, & \\text{otherwise}.\n",
    "  \\end{cases} =  I_{\\{0 \\leq x\\leq 1\\}}\n",
    "\\end{equation}\n",
    "\n",
    "What's the probability that X will be between 0 and one-half?\n",
    "$$ P(0 \\leq x\\leq \\tfrac{1}{2}) = \\int_{0}^{\\tfrac{1}{2}} f(x) dx =  \\int_{0}^{\\tfrac{1}{2}} dx  =\\dfrac{1}{2} $$\n",
    "\n",
    "What's the probability that X will be one-half?\n",
    "$$ P(x = \\dfrac{1}{2}) = 0$$\n",
    "we just going to get a 0 because there are an infinite number of possible outcomes. The probability of taking any particular $x$ is going to be 0\n",
    "\n",
    "### Exponential Distribution\n",
    "\n",
    "The exponential distribution is often used to model the waiting time between random events.\n",
    "Indeed, if the waiting times between successive events are independent from an $Exp(\\lambda)$\n",
    "distribution, then for any fixed time window of length $t$, the number of events occurring in\n",
    "that window will follow a Poisson distribution with mean $t\\lambda$.\n",
    "\n",
    "$$X\\sim Exp(\\lambda)$$\n",
    "$$f(x\\mid \\lambda) = \\lambda e − \\lambda x I_{x \\geq 0} (x)$$\n",
    "$$E[X] = \\dfrac{1}{\\lambda} $$\n",
    "$$Var[X] = \\dfrac{1}{\\lambda^2} $$\n",
    "\n",
    "Similar to the Poisson distribution, the parameter λ is interpreted as the rate at which the\n",
    "events occur.\n",
    "\n",
    "**Example**\n",
    "\n",
    "The busses in a town have no schedule: they just wander around on their routes. Suppose that the distribution of interarrival times is exponential with $\\lambda = 5$."
   ]
  },
  {
   "cell_type": "code",
   "execution_count": 101,
   "metadata": {},
   "outputs": [
    {
     "name": "stdout",
     "output_type": "stream",
     "text": [
      "The probability for the next bus to come in less than 2 minutes is:\n",
      "0.3296799539643607\n"
     ]
    },
    {
     "data": {
      "text/plain": [
       "[Text(0,0.5,'Frequency'), Text(0.5,0,'Exponential')]"
      ]
     },
     "execution_count": 101,
     "metadata": {},
     "output_type": "execute_result"
    },
    {
     "data": {
      "image/png": "[encoded data removed]",
      "text/plain": [
       "<matplotlib.figure.Figure at 0x7f8dcae72c50>"
      ]
     },
     "metadata": {},
     "output_type": "display_data"
    }
   ],
   "source": [
    "from scipy.stats import expon\n",
    "import numpy as np\n",
    "lam = 5\n",
    "# Find the probability for the next bus to come in less than 2 minutes.\n",
    "p_2 = 1 - expon.pdf(2/lam)\n",
    "print(\"The probability for the next bus to come in less than 2 minutes is:\")\n",
    "print(p_2)\n",
    "\n",
    "data_exp =expon.rvs(lam,size=1000)\n",
    "ax = sns.distplot(data_exp,\n",
    "                  kde=False,\n",
    "                  color='skyblue',\n",
    "                  hist_kws={\"linewidth\": 15,'alpha':1})\n",
    "ax.set(xlabel='Exponential', ylabel='Frequency')"
   ]
  },
  {
   "cell_type": "markdown",
   "metadata": {},
   "source": [
    "\n",
    "### Gamma distribution\n",
    "\n",
    "If $X_1 , X_2 , . . . , X_n$ are independent (and identically distributed $Exp(\\lambda)$) waiting times between\n",
    "$P$ successive events, then the total waiting time for all n events to occur $Y = \\sum_{i=1}^{n}X_i$ will\n",
    "follow a gamma distribution with shape parameter $\\alpha = n$ and rate parameter $\\beta = \\lambda$.\n",
    "$$X\\sim Gamma(\\alpha, \\beta)$$\n",
    "$$f(y\\mid \\alpha, \\beta) = \\dfrac{\\beta^{\\alpha}}{\\Gamma (\\alpha)}y^{\\alpha -1}\\exp(-\\beta y)I_{\\{y \\geq 0\\}}(y)$$\n",
    "$$E[Y] = \\dfrac{\\alpha}{\\beta}$$\n",
    "$$Var[Y] = \\dfrac{\\alpha}{\\beta^2}$$\n",
    "\n",
    "where $\\Gamma (·)$ is the gamma function, a generalization of the factorial function which can accept\n",
    "non-integer arguments. If n is a positive integer, then $\\Gamma (n) = (n − 1)!$. Note also that $\\alpha > 0$\n",
    "and $\\beta > 0$.\n",
    "\n",
    "The exponential distribution is a special case of the gamma distribution with α = 1. The\n",
    "gamma distribution commonly appears in statistical problems.\n",
    "It is used to model positive-valued, continuous quantities whose distribution is right-skewed.\n",
    "As $\\alpha$ increases, the gamma distribution more closely resembles the normal distribution.\n",
    "\n",
    "**Eaxmple**\n",
    "\n",
    "Suppose you are fishing and you expect to get a fish once every 0.5 hour. "
   ]
  },
  {
   "cell_type": "code",
   "execution_count": 158,
   "metadata": {},
   "outputs": [
    {
     "name": "stdout",
     "output_type": "stream",
     "text": [
      "The probability of catching 5 fishes in under 2 hours is:\n",
      "0.003659846827343713\n",
      "The probability that you will have to wait between 2 to 4 hours before you catch 4 fishes is:\n",
      "0.2234357099907801\n"
     ]
    },
    {
     "data": {
      "text/plain": [
       "[Text(0,0.5,'Frequency'), Text(0.5,0,'Gamma')]"
      ]
     },
     "execution_count": 158,
     "metadata": {},
     "output_type": "execute_result"
    },
    {
     "data": {
      "image/png": "[encoded data removed]",
      "text/plain": [
       "<matplotlib.figure.Figure at 0x7f8dcaca0e10>"
      ]
     },
     "metadata": {},
     "output_type": "display_data"
    }
   ],
   "source": [
    "from scipy.stats import gamma\n",
    "\n",
    "beta = 2 #1/0.5\n",
    "\n",
    "# Compute the probability of catching 5 fishes in under 2 hours\n",
    "\n",
    "alpha = 5\n",
    "\n",
    "p_5_2 = gamma.cdf(2, alpha, scale = beta)\n",
    "print(\"The probability of catching 5 fishes in under 2 hours is:\")\n",
    "print(p_5_2)\n",
    "\n",
    "\n",
    "# Compute the probability that you will have to wait between 2 to 4 hours before you catch 4 fish.\n",
    "alpha = 4\n",
    "p_4_2_4 = gamma.cdf(5, alpha, scale = beta) - gamma.cdf(2, alpha, scale = beta)\n",
    "print(\"The probability that you will have to wait between 2 to 4 hours before you catch 4 fishes is:\")\n",
    "print(p_4_2_4)\n",
    "\n",
    "data_gamma =gamma.rvs(alpha,size=1000)\n",
    "ax = sns.distplot(data_gamma,\n",
    "                  kde=False,\n",
    "                  color='skyblue',\n",
    "                  hist_kws={\"linewidth\": 15,'alpha':1})\n",
    "ax.set(xlabel='Gamma', ylabel='Frequency')"
   ]
  },
  {
   "cell_type": "markdown",
   "metadata": {},
   "source": [
    "### Uniform distribution\n",
    "The uniform distribution is used for random variables whose possible values are equally likely\n",
    "over an interval. If the interval is (a, b), then the uniform probability density function (PDF)\n",
    "$f(x)$ is flat for all values in that interval and 0 everywhere else.\n",
    "\n",
    "$$X\\sim Uniform(\\alpha, \\beta)$$\n",
    "$$f(x\\mid \\alpha, \\beta) = \\dfrac{1}{\\alpha - \\beta}I_{\\alpha \\geq x \\geq \\beta} (x)$$\n",
    "$$E[X] = \\dfrac{\\alpha + \\beta}{2} $$\n",
    "$$Var[X] = \\dfrac{(\\beta - \\alpha)^{2}}{12} $$\n",
    "The standard uniform distribution is obtained when a = 0 and b = 1.\n",
    "\n",
    "**Example**\n",
    "Select ten random numbers between one and three."
   ]
  },
  {
   "cell_type": "code",
   "execution_count": 141,
   "metadata": {},
   "outputs": [
    {
     "name": "stdout",
     "output_type": "stream",
     "text": [
      "[1.3600768  2.73029287 2.11189122 2.73434973 1.9473849  1.21661112\n",
      " 2.3001373  1.07103693 1.19047348 1.67142365]\n"
     ]
    }
   ],
   "source": [
    "import numpy as np \n",
    "r = np.random.uniform(1,3,10)\n",
    "print(r)"
   ]
  },
  {
   "cell_type": "markdown",
   "metadata": {},
   "source": [
    "### Beta distribution\n",
    "\n",
    "The beta distribution is used for random variables which take on values between 0 and 1.\n",
    "For this reason, the beta distribution is\n",
    "commonly used to model probabilities.\n",
    "\n",
    "$$X\\sim Beta(\\alpha, \\beta)$$\n",
    "$$f(x\\mid \\alpha, \\beta) = \\dfrac{\\Gamma(\\alpha + \\beta)}{\\Gamma(\\alpha) \\Gamma(\\beta)}x^{\\alpha - 1}(1 - x)^{\\beta - 1}I_{\\{0 < x < 1\\}}(x)$$\n",
    "$$E[X] = \\dfrac{\\alpha}{\\alpha + \\beta} $$\n",
    "$$Var[X] = \\dfrac{\\alpha \\beta}{(\\alpha + \\beta)^{2}(\\alpha + \\beta + 1)} $$\n",
    "\n",
    "where $\\Gamma(·)$ is the gamma function introduced with the gamma distribution. Note also that\n",
    "α > 0 and β > 0. The standard Uniform(0, 1) distribution is a special case of the beta\n",
    "distribution with α = β = 1.\n",
    "\n",
    "The beta distribution is a continuous probability distribution that can be used to represent probability outcomes.\n",
    "\n",
    "**Example**\n",
    "\n",
    "What is the probability of a major receiving over 60% of the votes if his/her probability of winning can be modeled by a beta distribution with $\\alpha = 1$ and  $\\beta = 2$?\n"
   ]
  },
  {
   "cell_type": "code",
   "execution_count": 163,
   "metadata": {},
   "outputs": [
    {
     "name": "stdout",
     "output_type": "stream",
     "text": [
      "0.84\n"
     ]
    }
   ],
   "source": [
    "from scipy.stats import beta\n",
    "\n",
    "a = 1\n",
    "b = 2\n",
    "\n",
    "prob_60 = 1 - beta.cdf(0.6, a, b)\n",
    "print(prob_60)\n"
   ]
  },
  {
   "cell_type": "markdown",
   "metadata": {},
   "source": [
    "### Normal Distribution\n",
    "\n",
    "The normal, or Gaussian distribution is one of the most important distributions in statistics.\n",
    "It arises as the limiting distribution of sums (and averages) of random variables. This is\n",
    "due to the Central Limit Theorem. Because of this property, the normal distribution is often used to model the “errors,” or unexplained variation of individual observations in regression models.\n",
    "\n",
    "The standard normal distribution is given by\n",
    "\n",
    "$$X\\sim Z(0, 1)$$\n",
    "$$f(z) = \\dfrac{1}{\\sqrt(2\\pi)}\\exp(-\\dfrac{z^{2}}{2})$$\n",
    "$$E[X] = 0$$\n",
    "$$Var[X] = 1 $$\n",
    "\n",
    "Now consider $X = \\sigma Z+\\mu$ where $\\sigma > 0$ and $\\mu$ is any real constant. Then $E(X) = E(\\sigma Z+\\mu) =\n",
    "\\sigma E(Z) + \\mu = \\sigma · 0 + \\mu =\\mu$ and $Var(X) = Var(\\sigma Z + \\mu) = \\sigma^{2}Var(Z) + 0 = \\sigma^{2} · 1 = \\sigma^{2}$.\n",
    "\n",
    "\n",
    "Then, X follows a normal distribution with mean $\\mu$ and variance $\\sigma^{2}$ (standard deviation $\\sigma$)\n",
    "\n",
    "denoted as: $$X\\sim N(\\mu, \\sigma^{2})$$\n",
    "$$f(x\\mid \\mu, \\sigma^{2}) = \\dfrac{1}{\\sqrt(2\\pi \\sigma^{2})}\\exp(-\\dfrac{(x-\\mu)^{2}}{2\\sigma^{2}})$$\n",
    "\n",
    "\n",
    "The normal distribution is symmetric about the mean $\\mu$, and is often described as a “bell-\n",
    "shaped” curve. Although $X$ can take on any real value (positive or negative), more than\n",
    "99% of the probability mass is concentrated within three standard deviations of the mean.\n",
    "\n",
    "The normal distribution has several desirable properties. \n",
    "\n",
    "One is that if $X_1 \\sim  N(\\mu_{1} , \\sigma_{1}^{2})$\n",
    "and $X_2 \\sim N(\\mu_2 , \\sigma_{2}^{2})$ are independent, then $X_1 +X_2 \\sim N(\\mu_1 +\\mu_2 , \\sigma_{1}^{2} +\\sigma_{2}^{2})$. Consequently, if we take the average of n independent and identically distributed (iid) normal random variables,\n",
    "\n",
    "$$\\bar{X} = \\dfrac{1}{n}\\sum_{i = 1}^{n}X_{i},$$\n",
    "where $X_{i}\\stackrel{iid}{\\sim} N(\\mu , \\sigma^{2})$ for $i = 1, 2, ..., n$ then \n",
    "$$\\bar{X}\\sim N(\\mu , \\dfrac{\\sigma^{2}}{n}).$$\n",
    "\n",
    "** Example **\n",
    "\n",
    "Let $X \\sim N(3, 1)$ Compute the following:"
   ]
  },
  {
   "cell_type": "code",
   "execution_count": 171,
   "metadata": {},
   "outputs": [
    {
     "name": "stdout",
     "output_type": "stream",
     "text": [
      "The probability for being less than 2 is:\n",
      "0.15865525393145707\n",
      "The probability for being between 2 and 4 is:\n",
      "0.6826894921370859\n",
      "The quantile 0.5 is:\n",
      "3.0\n",
      "The quantile 0.975 is:\n",
      "4.959963984540054\n"
     ]
    },
    {
     "data": {
      "text/plain": [
       "[Text(0,0.5,'Frequency'), Text(0.5,0,'Gamma')]"
      ]
     },
     "execution_count": 171,
     "metadata": {},
     "output_type": "execute_result"
    },
    {
     "data": {
      "image/png": "[encoded data removed]",
      "text/plain": [
       "<matplotlib.figure.Figure at 0x7f8dcab2a908>"
      ]
     },
     "metadata": {},
     "output_type": "display_data"
    }
   ],
   "source": [
    "from scipy.stats import norm \n",
    "\n",
    "m = 3\n",
    "s = 1\n",
    "# P(X < 2)\n",
    "\n",
    "prob_2 = norm.cdf(x = 2, loc = m, scale = s)\n",
    "print(\"The probability for being less than 2 is:\")\n",
    "print(prob_2) # 15.8%\n",
    "\n",
    "# P(2 <= X <= 4\n",
    "prob_2_4 = norm.cdf(x = 4, loc = m, scale = s) - norm.cdf(x = 2, loc = m, scale = s)\n",
    "print(\"The probability for being between 2 and 4 is:\")\n",
    "print(prob_2_4) # 68.2%\n",
    "\n",
    "# Find the quantilies 0.025\n",
    "q_05 = norm.ppf(0.5, loc=m, scale=s)\n",
    "print(\"The quantile 0.5 is:\")\n",
    "print(q_05)  # 3 makes sense, doesn't it?\n",
    "\n",
    "# Find the quantilies 0.025\n",
    "q_975 = norm.ppf(0.975, loc=m, scale=s)\n",
    "print(\"The quantile 0.975 is:\")\n",
    "print(q_975)  # 4.95\n",
    "\n",
    "#Let's visualise the distribution\n",
    "\n",
    "data_normal =norm.rvs(loc = m,scale = s ,size=1000)\n",
    "ax = sns.distplot(data_normal,\n",
    "                  kde=False,\n",
    "                  color='skyblue',\n",
    "                  hist_kws={\"linewidth\": 15,'alpha':1})\n",
    "ax.set(xlabel='Normal', ylabel='Frequency')"
   ]
  },
  {
   "cell_type": "markdown",
   "metadata": {},
   "source": [
    "\n",
    "### t Distribution\n",
    "\n",
    "In real life, even though we may have normal data it is higly unlikely to know the standard deviation of the distribution ($\\sigma$). Therefore, we make an estimate of it, and it is calculated as : $\\dfrac{\\sum_{i}(X_{i}- \\bar{X})^{2}}{n-1}$. This distribution is not called normal, but t distribution with $ν = n − 1$\n",
    "degrees of freedom. \n",
    "\n",
    "$$Y \\sim t_{ν}$$\n",
    "$$ f(y) = \\dfrac{\\Gamma(\\dfrac{ν + 1}{2})}{\\Gamma(\\dfrac{ν}{2})\\sqrt{ν\\pi})}(1 + \\dfrac{y^{2}}{ν})^{-(\\tfrac{ν+1}{2})}$$\n",
    "$$E[Y] = 0, \\ if \\ ν>1$$\n",
    "$$Var[Y] = \\dfrac{ν}{ν - 2},\\ if \\ ν>2$$\n",
    "\n",
    "The t distribution is symmetric and resembles the normal distribution, but with thicker tails.\n",
    "As the degrees of freedom increase, the t distribution looks more and more like the standard\n",
    "normal distribution.\n",
    "\n",
    "\n",
    "**Example**\n",
    "\n",
    "Let $T_{8}$ distribution. Compute the following:"
   ]
  },
  {
   "cell_type": "code",
   "execution_count": 179,
   "metadata": {},
   "outputs": [
    {
     "name": "stdout",
     "output_type": "stream",
     "text": [
      "The probability of x being less than 1: \n",
      "0.8267032464563329\n",
      "The probability of x being greater than 2 is: \n",
      "0.040258118978631297\n",
      "The probability of x being between -1 and 1 is: \n",
      "0.6534064929126657\n",
      "The quantile 0.025 is: \n",
      "-12.706204736432102\n",
      "The quantile 0.5 is: \n",
      "8.177562772704119e-17\n",
      "The quantile 0.975 is: \n",
      "12.706204736432095\n"
     ]
    },
    {
     "data": {
      "text/plain": [
       "[Text(0,0.5,'Frequency'), Text(0.5,0,'t')]"
      ]
     },
     "execution_count": 179,
     "metadata": {},
     "output_type": "execute_result"
    },
    {
     "data": {
      "image/png": "[encoded data removed]",
      "text/plain": [
       "<matplotlib.figure.Figure at 0x7f8dcaa164a8>"
      ]
     },
     "metadata": {},
     "output_type": "display_data"
    }
   ],
   "source": [
    "from scipy.stats import t\n",
    "\n",
    "df = 8\n",
    "\n",
    "# Find the P(T_8 < 1)\n",
    "p_1 = t.cdf(1, df)\n",
    "print(\"The probability of x being less than 1: \")\n",
    "print(p_1)\n",
    "\n",
    "# Find the P(T_8 > 2)\n",
    "p_2 = 1- t.cdf(2, df)\n",
    "print(\"The probability of x being greater than 2 is: \")\n",
    "print(p_2)\n",
    "\n",
    "\n",
    "# Find the P(-1 < T_8 < 1)\n",
    "p_1_1 = t.cdf(1, df) - t.cdf(-1, df)\n",
    "print(\"The probability of x being between -1 and 1 is: \")\n",
    "print(p_1_1)\n",
    "\n",
    "\n",
    "# Find the quantile 0.025 \n",
    "q_025 = t.ppf(0.025, df=1)\n",
    "print(\"The quantile 0.025 is: \")\n",
    "print(q_025)\n",
    "\n",
    "\n",
    "# Find the quantile 0.5\n",
    "q_5 = t.ppf(0.5, df=1)\n",
    "print(\"The quantile 0.5 is: \")\n",
    "print(q_5)\n",
    "\n",
    "\n",
    "# Find the quantile 0.975\n",
    "q_975 = t.ppf(0.975, df=1)\n",
    "print(\"The quantile 0.975 is: \")\n",
    "print(q_975)\n",
    "\n",
    "\n",
    "data_t = t.rvs(df,size=5)\n",
    "ax = sns.distplot(data_t,\n",
    "                  kde=False,\n",
    "                  color='skyblue',\n",
    "                  hist_kws={\"linewidth\": 15,'alpha':1})\n",
    "ax.set(xlabel='t', ylabel='Frequency')"
   ]
  }
 ],
 "metadata": {
  "kernelspec": {
   "display_name": "Python 3",
   "language": "python",
   "name": "python3"
  },
  "language_info": {
   "codemirror_mode": {
    "name": "ipython",
    "version": 3
   },
   "file_extension": ".py",
   "mimetype": "text/x-python",
   "name": "python",
   "nbconvert_exporter": "python",
   "pygments_lexer": "ipython3",
   "version": "3.6.2"
  }
 },
 "nbformat": 4,
 "nbformat_minor": 2
}
