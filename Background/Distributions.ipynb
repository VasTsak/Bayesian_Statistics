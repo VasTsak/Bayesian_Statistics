{
 "cells": [
  {
   "cell_type": "markdown",
   "metadata": {
    "collapsed": true
   },
   "source": [
    "# Central Limit Theorem \n",
    "\n",
    "The central limit theorem states that given a distribution with a mean $\\mu$ and variance $\\sigma^2$, the sampling distribution of the mean approaches a normal distribution with a mean $\\mu$ and a variance $\\dfrac{\\sigma^2}{N}$ where $N$ is the sample size for each mean and not the number of samples. The fascinating thing about the central limit theorem is that no matter what the shape of the original distribution, the sampling distribution of the mean approaches a normal distribution. \n",
    "Two important properties of $N$ are:\n",
    "\n",
    "    1) the more it increases the distribution looks more like a normal distribution \n",
    "    2) the variance decreases.\n",
    "\n",
    "\n",
    "# Confidence Interval\n",
    "A confidence interval (CI) is a type of interval estimate (of a population parameter) that is computed from the observed data.\n",
    "\n",
    "Let assume that we toss a coin 100 times and the result is 42 heads and 58 tails. \n",
    "We can say that $X_{i} \\sim B(p)$ \n",
    "\n",
    "We can ask:\n",
    "\n",
    "    1) What is the best estimate of p\n",
    "    2) How confident are we of that estimate?.\n",
    "    \n",
    "Let's apply the Central Limit Theorem. By CLT we know that $\\sum_{i = 1}^{100} X_{i} \\underset{\\cdot}{\\overset{.}{\\sim}} N(100p, 100p(p-1)$\n",
    "\n",
    "So , 95% of the time we expect $p$ to be between $100p - 1.96 \\sqrt{100p(1-p)}$ and $100p + 1.96 \\sqrt{100p(1-p)}$\n",
    "\n",
    "In our case we have observed 42 heads, so we estimate p as $\\hat{p} = \\dfrac{42}{100} = 0.42$\n",
    "The CI will be $42 +- 1.96 \\sqrt{42 \\times 0.58} = (32.33, 51.67)$\n",
    "So we can say that we're 95% confident that p is in the interval .3233 to .5167. We're 95% confident that the true probability of getting a head is in this interval. So if we want to ask a question do we think this is a fair coin. That it is reasonable that this is a fair coin because one half is in this interval.\n",
    "\n",
    "What does it mean when I say we're 95% confident? \n",
    "\n",
    "Under the frequentist paradigm, what this means is we have to think back to our infinite hypothetical sequence of events. So if we were to repeat this trial an infinite number of times, or an arbitrary large number of times. Each time we create a confidence interval in this way based on the data we observe. Than on average 95% of the intervals we make will contain the true value of p. \n",
    "\n",
    "\n",
    "# Cumulative distribution function\n",
    "\n",
    "\n",
    "The cumulative distribution function (CDF) exists for every distribution. We define it as $F(x) = P(X\\leq x)$ for random variable X. If X is discrete-valued, then the CDF is computed with summation $F(x) = \\sum_{t = -\\inf}^{x}f(t)$ where $f(t) = P(X = x)$ is the probability mass function (PMF) that we have already seen. If X is continuous, the CDF is computed with an integral $F(x) = \\int_{t = -\\inf}^{x}f(t)dt$ where f(t) is the probability density function (PDF). \n",
    "The examples below use binomial (discrete) distribution and an exponential (continuous) distribution.\n",
    "**Example**: Suppose $$Y \\sim Binomial(5, 0.6)$$. Then $$F(1) = P(X\\leq 1) = \\sum_{-\\inf}^{1}f(t) = \\sum_{-\\inf}^{-1}0 + \\sum_{0}^{1}{5 \\choose t} ^{t}(1-0.6)^{5-t}$$ $$= {5 \\choose 0} ^{0}(1-0.6)^{5-0} + {5 \\choose 1} ^{1}(1-0.6)^{5-1} = 0.4^{5} + 5(0.6)(0.4)^{4} \\approx 0.087$$\n",
    "\n",
    "**Example** Suppose $Y \\sim Exp(1)$. Then $F(2) = P(Y \\leq 2) = \\int_{-\\inf}{2} e^{-t}I_{\\{t \\geq 0\\}}dt = \\int_{0}{2} e^{-t}dt = -e^{-t}\\bigg\\rvert_{t = 0}^{t =2} = -(e^{-2}- e^{0}) = 1 - e^{-2} \\approx 0.865$\n",
    "\n",
    "The CDF is convenient for calculating probabilities of intervals. Let a and b be any real numbers with $a < b$\n",
    "Then the probability that X falls between a and b is equal to $P(a<X≤b) =P(X≤b)−P(X≤a)=F(b)−F(a).$\n",
    "\n",
    "# Quantile function \n",
    "\n",
    "The CDF takes a value for a random variable and returns a probability. Suppose instead that we start with a number between 0 and 1, call it p, and we wish to find the value\n",
    "x so that P(X≤x) =p.The value x which satisfies this equation is called the p quantile (or 100 p percentile) of the distribution of X.\n",
    "\n",
    "**Example**:\n",
    "In a standardized test, the 97th percentile of scores among all test-takers is 23.\n",
    "Then 23 is the score you must achieve on the test in order to score higher than 97% of all\n",
    "test-takers. We could equivalently call\n",
    "q = 23 the .97 quantile of the distribution of test\n",
    "scores.\n",
    "\n",
    "**Example**:\n",
    "The middle 50% of probability mass for a continuous random variable is found\n",
    "between the .25 and .75 quantiles of its distribution. If\n",
    "$Z\\sim N(0,1)$, then the .25 quantile is −0.674 and the .75 quantile is 0.674. Therefore, $P(−0.674< Z < 0.674) =0.5$.\n",
    "\n",
    "\n",
    "# Distributions\n",
    "\n",
    "\n",
    "## Discrete Distributions\n",
    "\n",
    "A discrete random variable X is described by a probability mass functions (PMF), which we will also call “distributions,” f(x)=P(X =x). The set of x-values for which f (x) > 0 is called the support. Note, if the distribution depends on unknown parameter(s) θ we can write it as f (x; θ) (preferred by frequentists) or f(x| θ) (preferred by Bayesians). The difference between the frequentist and Bayesian paradigm will be covered later.\n",
    "\n",
    "### Bernoulli Distribution\n",
    "It's used when we have two possible outcomes, or the cases where we have a success or a failure. \n",
    "\n",
    "Well, to denote this, let's say a random variable $x$ follows a Bernoulli distribution with probability $p$, where $p$ is probability of success $X\\sim B(p)$. The failure or tales, x = 0 has probability $1- p$. \n",
    "\n",
    "We can write this as a function for all the different possible outcomes. \n",
    "\n",
    "And say what's the probability that the random variable x takes a value of little x given a specific value of p?\n",
    "\n",
    "$f(X  = x \\mid p) = f(x \\mid p) = p^{x}(1 - p)^{1 - x} I _{x \\in {0, 1}}(x)$. This is referred to as the probability mass function. It gives the probability of different outcomes of the random variable. \n",
    "\n",
    "The indicator function takes precedence in the order of operations so we always evaluate it first, this is a way we can avoid doing things such as taking the log or the square root of a negative number. \n",
    "\n",
    "The expected value of x as we sum over all possible outcomes. Little x, we sum up x times the probability random variable takes up variable x. \n",
    "\n",
    "$E[X] = \\sum_{x}P(X = x) = (1)p + (0)(1 - p)  = p$\n",
    "\n",
    "One possible outcome is one, it takes that with the probability of p. Another possible outcome is 0, it takes that with the probability 1- p. So the expected value for Bernoulli is just the probability p.\n",
    "\n",
    "Similarly we can talk about the variance which is the square root of the standard deviation. \n",
    "\n",
    "$Var(X) = p(1 - p)$ \n",
    "\n"
   ]
  },
  {
   "cell_type": "code",
   "execution_count": 42,
   "metadata": {},
   "outputs": [
    {
     "data": {
      "text/html": [
       "0.3"
      ],
      "text/latex": [
       "0.3"
      ],
      "text/markdown": [
       "0.3"
      ],
      "text/plain": [
       "[1] 0.3"
      ]
     },
     "metadata": {},
     "output_type": "display_data"
    }
   ],
   "source": [
    "#install.packages('mc2d')\n",
    "library(mc2d)# load the module that contains the 'dbern' function.\n",
    "# find the propability of X = 0 when p = 0.7\n",
    "dbern(0, 0.7) # dbern(x, p) -> 0.3"
   ]
  },
  {
   "cell_type": "markdown",
   "metadata": {},
   "source": [
    "\n",
    "### Binomial Distribution \n",
    "\n",
    "The generalization of the Bernoulli when we have N repeated trials is a binomial. It fits to repeated trials each with a dichotomous outcome such as success-failure, healthy-disease, heads-tails.\n",
    "\n",
    "Binomial is just the sum of the N independent Bernoullis. We can say X follows a binomial distribution with parameters n and p ($X\\sim Bin(n, p)$). In this case, the probability function, probability that X takes some value little x is given p. \n",
    "\n",
    "\n",
    "$$f(X  = x \\mid p) = {n \\choose x} p^{x}(1 - p)^{n - x}$$\n",
    "$${n \\choose x} =  \\dfrac{n!}{x!(n-x)!}$$ for $$x \\in \\{1,...,n\\}$$\n",
    "\n",
    "The expected value for binomial is $$E[X] = np$$ The variance for binomial is $$Var[X] = np(1- p)$$ "
   ]
  },
  {
   "cell_type": "code",
   "execution_count": 43,
   "metadata": {},
   "outputs": [
    {
     "data": {
      "image/png": "[encoded data removed]",
      "text/plain": [
       "plot without title"
      ]
     },
     "metadata": {},
     "output_type": "display_data"
    }
   ],
   "source": [
    "# Let's take a look at it\n",
    "x <- seq(0,100,by=1)\n",
    "y <- dbinom(x,100,0.6)\n",
    "plot(x, y)"
   ]
  },
  {
   "cell_type": "markdown",
   "metadata": {},
   "source": [
    "**Example** \n",
    "\n",
    "Let that that a coin $X\\sim Bin(100, 0.43)$. Compute the following: "
   ]
  },
  {
   "cell_type": "code",
   "execution_count": 44,
   "metadata": {},
   "outputs": [
    {
     "data": {
      "text/html": [
       "0.0480202964916629"
      ],
      "text/latex": [
       "0.0480202964916629"
      ],
      "text/markdown": [
       "0.0480202964916629"
      ],
      "text/plain": [
       "[1] 0.0480203"
      ]
     },
     "metadata": {},
     "output_type": "display_data"
    },
    {
     "data": {
      "text/html": [
       "0.379403243670669"
      ],
      "text/latex": [
       "0.379403243670669"
      ],
      "text/markdown": [
       "0.379403243670669"
      ],
      "text/plain": [
       "[1] 0.3794032"
      ]
     },
     "metadata": {},
     "output_type": "display_data"
    },
    {
     "data": {
      "text/html": [
       "0.24062828589424"
      ],
      "text/latex": [
       "0.24062828589424"
      ],
      "text/markdown": [
       "0.24062828589424"
      ],
      "text/plain": [
       "[1] 0.2406283"
      ]
     },
     "metadata": {},
     "output_type": "display_data"
    },
    {
     "data": {
      "text/html": [
       "0.759151640374164"
      ],
      "text/latex": [
       "0.759151640374164"
      ],
      "text/markdown": [
       "0.759151640374164"
      ],
      "text/plain": [
       "[1] 0.7591516"
      ]
     },
     "metadata": {},
     "output_type": "display_data"
    },
    {
     "data": {
      "text/html": [
       "33"
      ],
      "text/latex": [
       "33"
      ],
      "text/markdown": [
       "33"
      ],
      "text/plain": [
       "[1] 33"
      ]
     },
     "metadata": {},
     "output_type": "display_data"
    },
    {
     "data": {
      "text/html": [
       "53"
      ],
      "text/latex": [
       "53"
      ],
      "text/markdown": [
       "53"
      ],
      "text/plain": [
       "[1] 53"
      ]
     },
     "metadata": {},
     "output_type": "display_data"
    }
   ],
   "source": [
    "n <- 100 \n",
    "p <- 0.43\n",
    "# P(X  = 48)\n",
    "dbinom(48, n, p) # 4.8%\n",
    "\n",
    "# P(X >= 45)\n",
    "sum(dbinom(45:n, n, p)) # 37.9%\n",
    "\n",
    "# P(X < 40)\n",
    "1 - sum(dbinom(40:n, n, p)) # 24%\n",
    "\n",
    "# P(40 <= X <= 50)\n",
    "sum(dbinom(40:60, n, p)) # 75.9%\n",
    "\n",
    "#Find the quantiles 0.025 \n",
    "qbinom(0.025, n, p) # 33\n",
    "\n",
    "#Find the quantiles 0.975 \n",
    "qbinom(0.975, n, p) # 53"
   ]
  },
  {
   "cell_type": "markdown",
   "metadata": {},
   "source": [
    "\n",
    "### Geometric Distribution\n",
    "\n",
    "The geometric distribution is the number of trials needed to get the first success, i.e., the number of Bernoulli events until a success is observed, such as the first head when flipping a coin. It takes values on the positive integers starting with one (since at least one trial is needed to observe a success).\n",
    "$$X\\sim Geo(p)$$\n",
    "$$P(X  = x \\mid p) = p(1 - p)^{x - 1}$$\n",
    "for $$x = 1,2...$$\n",
    "$$E[X] = \\dfrac{1}{p}$$\n",
    "If the probability of getting a success is p, then the expected number of trials until the first\n",
    "success is $\\dfrac{1}{p}$.\n"
   ]
  },
  {
   "cell_type": "markdown",
   "metadata": {},
   "source": [
    "\n",
    "**Example:** What is the probability that we flip a fair coin four times and don’t see any heads?\n",
    "This is the same as asking what is $P (X > 4)$ where $X \\sim  Geo(1/2)$. $$P (X > 4) = 1 − P (X =\n",
    "1)−P (X = 2)−P (X = 3)−P (X = 4) $$ $$= 1−(1/2)−(1/2)(1/2)−(1/2)(1/2)^{2} −(1/2)(1/2)^{3}$$ $$=\n",
    "1/16$$. Of course, we could also have just computed it directly, but here we see an example\n",
    "of using the geometric distribution and we can also see that we got the right answer."
   ]
  },
  {
   "cell_type": "code",
   "execution_count": 45,
   "metadata": {},
   "outputs": [
    {
     "data": {
      "text/html": [
       "0.0625"
      ],
      "text/latex": [
       "0.0625"
      ],
      "text/markdown": [
       "0.0625"
      ],
      "text/plain": [
       "[1] 0.0625"
      ]
     },
     "metadata": {},
     "output_type": "display_data"
    },
    {
     "data": {
      "text/html": [
       "5"
      ],
      "text/latex": [
       "5"
      ],
      "text/markdown": [
       "5"
      ],
      "text/plain": [
       "[1] 5"
      ]
     },
     "metadata": {},
     "output_type": "display_data"
    },
    {
     "data": {
      "image/png": "[encoded data removed]",
      "text/plain": [
       "plot without title"
      ]
     },
     "metadata": {},
     "output_type": "display_data"
    }
   ],
   "source": [
    "p <- 0.5\n",
    "\n",
    "# P(X  > 4)\n",
    "1 - sum(dgeom(0:3, p))\n",
    "\n",
    "#Find the quantiles 0.975\n",
    "qgeom(0.975, p) # 5 tosses\n",
    "\n",
    "# Let's take a look at it\n",
    "x <- seq(0,10,by=1)\n",
    "y <- dgeom(x, 0.5)\n",
    "plot(x, y)"
   ]
  },
  {
   "cell_type": "markdown",
   "metadata": {},
   "source": [
    "### Multinomial Distribution\n",
    "\n",
    "Another generalization of the Bernoulli and the binomial is the multinomial distribution,\n",
    "which is like a binomial when there are more than two possible outcomes. Suppose we have\n",
    "$n$ trials and there are $k$ different possible outcomes which occur with probabilities $p_{1}$ , , $p_{k}$ .\n",
    "For example, we are rolling a six-sided die that might be loaded so that the sides are not\n",
    "equally likely, then $n$ is the total number of rolls, $k = 6, p1$ is the probability of rolling a one,\n",
    "and we denote by $x_{1}$ , . . . , $x_{6}$ a possible outcome for the number of times we observe rolls of each of one through six, where $\\sum_{i = 1}^{6}x_{i} = n$ and $\\sum_{i = 1}^{6}p_{i} = 1$.\n",
    "$$p(x_1,...,x_n\\mid p_1,...,p_n) = \\dfrac{n!}{x_{1}!...x_{k}!}p_{1}^{x_1}...p_{k}^{x_k}$$\n",
    "The expected number of observations in category i is \n",
    "$$E[X_{i}] = np_{i}$$\n",
    "$$Var[X_{i}] = np_{i}(1- p_{i})$$\n",
    "\n",
    "**Example**\n",
    "\n",
    "Let's assume that we have observed a player of paper-rock-scissor and have calculated the followng probabilities for each move : $P_{paper} = 0.2$, $P_{rock} = 0.3$, $P_{scissor} = 0.5$. "
   ]
  },
  {
   "cell_type": "code",
   "execution_count": 46,
   "metadata": {},
   "outputs": [
    {
     "data": {
      "text/html": [
       "0.5"
      ],
      "text/latex": [
       "0.5"
      ],
      "text/markdown": [
       "0.5"
      ],
      "text/plain": [
       "[1] 0.5"
      ]
     },
     "metadata": {},
     "output_type": "display_data"
    },
    {
     "data": {
      "text/html": [
       "0.0183891708000001"
      ],
      "text/latex": [
       "0.0183891708000001"
      ],
      "text/markdown": [
       "0.0183891708000001"
      ],
      "text/plain": [
       "[1] 0.01838917"
      ]
     },
     "metadata": {},
     "output_type": "display_data"
    },
    {
     "data": {
      "text/html": [
       "0.001953125"
      ],
      "text/latex": [
       "0.001953125"
      ],
      "text/markdown": [
       "0.001953125"
      ],
      "text/plain": [
       "[1] 0.001953125"
      ]
     },
     "metadata": {},
     "output_type": "display_data"
    }
   ],
   "source": [
    "p1<- 0.2; p2<- 0.3; p3<- 0.5; \n",
    "\n",
    "# Find the probability of the other player playing scissors\n",
    "dmultinom(c(0,0,1), prob=c(p1,p2,p3))\n",
    "\n",
    "# Find the probability for the other player playing 5 of each\n",
    "dmultinom(c(5,5,5), prob=c(p1,p2,p3))  \n",
    "\n",
    "# Find the probability for the other player playing 9 times scissor\n",
    "dmultinom(c(0,0,9), prob=c(p1,p2,p3)) \n"
   ]
  },
  {
   "cell_type": "markdown",
   "metadata": {},
   "source": [
    "### Poisson Distribution\n",
    "\n",
    "The Poisson distribution is used for counts, and arises in a variety of situations. The parameter $\\lambda > 0$ is the rate at which we expect to observe the thing we are counting.\n",
    "$$X\\sim Pois(\\lambda)$$\n",
    "$$P(X  = x \\mid \\lambda) = \\dfrac{\\lambda^{x}\\exp(-\\lambda)}{x!}$$ for for x = 0, 1, 2, . . .\n",
    "$$E[X] = \\lambda$$\n",
    "$$Var[X] = \\lambda$$\n",
    "\n",
    "** Example** \n",
    "If there are twelve cars crossing a bridge per minute on average. Compute the following: "
   ]
  },
  {
   "cell_type": "code",
   "execution_count": 47,
   "metadata": {},
   "outputs": [
    {
     "data": {
      "text/html": [
       "0.898708992560162"
      ],
      "text/latex": [
       "0.898708992560162"
      ],
      "text/markdown": [
       "0.898708992560162"
      ],
      "text/plain": [
       "[1] 0.898709"
      ]
     },
     "metadata": {},
     "output_type": "display_data"
    },
    {
     "data": {
      "text/html": [
       "0.101291007439838"
      ],
      "text/latex": [
       "0.101291007439838"
      ],
      "text/markdown": [
       "0.101291007439838"
      ],
      "text/plain": [
       "[1] 0.101291"
      ]
     },
     "metadata": {},
     "output_type": "display_data"
    },
    {
     "data": {
      "text/html": [
       "0.101291007439838"
      ],
      "text/latex": [
       "0.101291007439838"
      ],
      "text/markdown": [
       "0.101291007439838"
      ],
      "text/plain": [
       "[1] 0.101291"
      ]
     },
     "metadata": {},
     "output_type": "display_data"
    },
    {
     "data": {
      "image/png": "[encoded data removed]",
      "text/plain": [
       "plot without title"
      ]
     },
     "metadata": {},
     "output_type": "display_data"
    }
   ],
   "source": [
    "lambda <- 12\n",
    "# Find the probability of having sixteen or less cars crossing the bridge in a particular minute.\n",
    "ppois(16, lambda) \n",
    "\n",
    "# Find the probability more than 17 cars crossing the bridge in a minute\n",
    "1 - ppois(16, lambda)\n",
    "\n",
    "#OR \n",
    "\n",
    "ppois(16, lambda, lower = FALSE) # upper tail\n",
    "\n",
    "#Let's visualise the following distribution\n",
    "x <- 1:20\n",
    "y <- dpois(x, lambda)\n",
    "plot(x, y)"
   ]
  },
  {
   "cell_type": "markdown",
   "metadata": {},
   "source": [
    "## Continuous Distributions\n",
    "\n",
    "We can define a continuous random variable based on its probability density function or PDF for short. The PDF is sort of proportional to the probability that the random variable will take a particular value. In differential calculus sense because it can take an infinite number of possible values. The key idea is that if you integrate the PDF over an interval, it gives you the probability that the random variable would be in that interval. \n",
    "\n",
    "Let :\n",
    "$$X\\sim U[0,1]$$\n",
    "\\begin{equation}\n",
    "  f(x)=\\begin{cases}\n",
    "    1, & \\text{if $0\\leq x\\leq 1$}.\\\\\n",
    "    0, & \\text{otherwise}.\n",
    "  \\end{cases} =  I_{\\{0 \\leq x\\leq 1\\}}\n",
    "\\end{equation}\n",
    "\n",
    "What's the probability that X will be between 0 and one-half?\n",
    "$$ P(0 \\leq x\\leq \\tfrac{1}{2}) = \\int_{0}^{\\tfrac{1}{2}} f(x) dx =  \\int_{0}^{\\tfrac{1}{2}} dx  =\\dfrac{1}{2} $$\n",
    "\n",
    "What's the probability that X will be one-half?\n",
    "$$ P(x = \\dfrac{1}{2}) = 0$$\n",
    "we just going to get a 0 because there are an infinite number of possible outcomes. The probability of taking any particular $x$ is going to be 0\n",
    "\n",
    "### Exponential Distribution\n",
    "\n",
    "The exponential distribution is often used to model the waiting time between random events.\n",
    "Indeed, if the waiting times between successive events are independent from an $Exp(\\lambda)$\n",
    "distribution, then for any fixed time window of length $t$, the number of events occurring in\n",
    "that window will follow a Poisson distribution with mean $t\\lambda$.\n",
    "\n",
    "$$X\\sim Exp(\\lambda)$$\n",
    "$$f(x\\mid \\lambda) = \\lambda e − \\lambda x I_{x \\geq 0} (x)$$\n",
    "$$E[X] = \\dfrac{1}{\\lambda} $$\n",
    "$$Var[X] = \\dfrac{1}{\\lambda^2} $$\n",
    "\n",
    "Similar to the Poisson distribution, the parameter λ is interpreted as the rate at which the\n",
    "events occur.\n",
    "\n",
    "**Example**\n",
    "\n",
    "The busses in a town have no schedule: they just wander around on their routes. Suppose that the distribution of interarrival times is exponential with $\\lambda = 5$."
   ]
  },
  {
   "cell_type": "code",
   "execution_count": 48,
   "metadata": {},
   "outputs": [
    {
     "data": {
      "text/html": [
       "0.329679953964361"
      ],
      "text/latex": [
       "0.329679953964361"
      ],
      "text/markdown": [
       "0.329679953964361"
      ],
      "text/plain": [
       "[1] 0.32968"
      ]
     },
     "metadata": {},
     "output_type": "display_data"
    },
    {
     "data": {
      "image/png": "[encoded data removed]",
      "text/plain": [
       "plot without title"
      ]
     },
     "metadata": {},
     "output_type": "display_data"
    }
   ],
   "source": [
    "lambda <- 5\n",
    "# Find the probability for the next bus to come in less than 2 minutes.\n",
    "pexp(2, rate=1/lambda) \n",
    "\n",
    "#Let's visualise it\n",
    "x <- 1:10\n",
    "y <- dexp(x, rate = 1/lambda)\n",
    "plot(x, y)"
   ]
  },
  {
   "cell_type": "markdown",
   "metadata": {},
   "source": [
    "\n",
    "### Gamma distribution\n",
    "\n",
    "If $X_1 , X_2 , . . . , X_n$ are independent (and identically distributed $Exp(\\lambda)$) waiting times between\n",
    "$P$ successive events, then the total waiting time for all n events to occur $Y = \\sum_{i=1}^{n}X_i$ will\n",
    "follow a gamma distribution with shape parameter $\\alpha = n$ and rate parameter $\\beta = \\lambda$.\n",
    "$$X\\sim Gamma(\\alpha, \\beta)$$\n",
    "$$f(y\\mid \\alpha, \\beta) = \\dfrac{\\beta^{\\alpha}}{\\Gamma (\\alpha)}y^{\\alpha -1}\\exp(-\\beta y)I_{\\{y \\geq 0\\}}(y)$$\n",
    "$$E[Y] = \\dfrac{\\alpha}{\\beta}$$\n",
    "$$Var[Y] = \\dfrac{\\alpha}{\\beta^2}$$\n",
    "\n",
    "where $\\Gamma (·)$ is the gamma function, a generalization of the factorial function which can accept\n",
    "non-integer arguments. If n is a positive integer, then $\\Gamma (n) = (n − 1)!$. Note also that $\\alpha > 0$\n",
    "and $\\beta > 0$.\n",
    "\n",
    "The exponential distribution is a special case of the gamma distribution with α = 1. The\n",
    "gamma distribution commonly appears in statistical problems.\n",
    "It is used to model positive-valued, continuous quantities whose distribution is right-skewed.\n",
    "As $\\alpha$ increases, the gamma distribution more closely resembles the normal distribution.\n",
    "\n",
    "**Eaxmple**\n",
    "\n",
    "Suppose you are fishing and you expect to get a fish once every 0.5 hour. "
   ]
  },
  {
   "cell_type": "code",
   "execution_count": 49,
   "metadata": {},
   "outputs": [
    {
     "data": {
      "text/html": [
       "0.00365984682734371"
      ],
      "text/latex": [
       "0.00365984682734371"
      ],
      "text/markdown": [
       "0.00365984682734371"
      ],
      "text/plain": [
       "[1] 0.003659847"
      ]
     },
     "metadata": {},
     "output_type": "display_data"
    },
    {
     "data": {
      "text/html": [
       "0.123888382625299"
      ],
      "text/latex": [
       "0.123888382625299"
      ],
      "text/markdown": [
       "0.123888382625299"
      ],
      "text/plain": [
       "[1] 0.1238884"
      ]
     },
     "metadata": {},
     "output_type": "display_data"
    },
    {
     "data": {
      "image/png": "[encoded data removed]",
      "text/plain": [
       "plot without title"
      ]
     },
     "metadata": {},
     "output_type": "display_data"
    }
   ],
   "source": [
    "beta <- 2 # 1/0.5\n",
    "\n",
    "# Compute the probability of catching 5 fishes in under 2 hours\n",
    "alpha <- 5\n",
    "pgamma(2, shape=alpha,scale=beta, lower.tail=TRUE) #  nearly impossible \n",
    "\n",
    "# Compute the probability that you will have to wait between 2 to 4 hours before you catch 4 fish.\n",
    "alpha <- 4\n",
    "pgamma(4, shape=alpha,scale=beta, lower.tail=TRUE) - pgamma(2, shape=alpha,scale=beta,lower.tail=TRUE)\n",
    "\n",
    "#Let's visualise it for alpha = 4 and beta = 2 \n",
    "x <- 1:10\n",
    "y <- dgamma(x, alpha, beta)\n",
    "plot(x, y)"
   ]
  },
  {
   "cell_type": "markdown",
   "metadata": {},
   "source": [
    "\n",
    "### Uniform distribution\n",
    "The uniform distribution is used for random variables whose possible values are equally likely\n",
    "over an interval. If the interval is (a, b), then the uniform probability density function (PDF)\n",
    "$f(x)$ is flat for all values in that interval and 0 everywhere else.\n",
    "\n",
    "$$X\\sim Uniform(\\alpha, \\beta)$$\n",
    "$$f(x\\mid \\alpha, \\beta) = \\dfrac{1}{\\alpha - \\beta}I_{\\alpha \\geq x \\geq \\beta} (x)$$\n",
    "$$E[X] = \\dfrac{\\alpha + \\beta}{2} $$\n",
    "$$Var[X] = \\dfrac{(\\beta - \\alpha)^{2}}{12} $$\n",
    "The standard uniform distribution is obtained when a = 0 and b = 1.\n",
    "\n",
    "**Example**\n",
    "Select ten random numbers between one and three."
   ]
  },
  {
   "cell_type": "code",
   "execution_count": 50,
   "metadata": {},
   "outputs": [
    {
     "data": {
      "text/html": [
       "<ol class=list-inline>\n",
       "\t<li>1.13250032672659</li>\n",
       "\t<li>1.52847378887236</li>\n",
       "\t<li>2.13511152938008</li>\n",
       "\t<li>1.89702115161344</li>\n",
       "\t<li>1.038373043295</li>\n",
       "\t<li>2.72564477985725</li>\n",
       "\t<li>1.96969000948593</li>\n",
       "\t<li>2.14560577506199</li>\n",
       "\t<li>2.16961722914129</li>\n",
       "\t<li>1.72979898145422</li>\n",
       "</ol>\n"
      ],
      "text/latex": [
       "\\begin{enumerate*}\n",
       "\\item 1.13250032672659\n",
       "\\item 1.52847378887236\n",
       "\\item 2.13511152938008\n",
       "\\item 1.89702115161344\n",
       "\\item 1.038373043295\n",
       "\\item 2.72564477985725\n",
       "\\item 1.96969000948593\n",
       "\\item 2.14560577506199\n",
       "\\item 2.16961722914129\n",
       "\\item 1.72979898145422\n",
       "\\end{enumerate*}\n"
      ],
      "text/markdown": [
       "1. 1.13250032672659\n",
       "2. 1.52847378887236\n",
       "3. 2.13511152938008\n",
       "4. 1.89702115161344\n",
       "5. 1.038373043295\n",
       "6. 2.72564477985725\n",
       "7. 1.96969000948593\n",
       "8. 2.14560577506199\n",
       "9. 2.16961722914129\n",
       "10. 1.72979898145422\n",
       "\n",
       "\n"
      ],
      "text/plain": [
       " [1] 1.132500 1.528474 2.135112 1.897021 1.038373 2.725645 1.969690 2.145606\n",
       " [9] 2.169617 1.729799"
      ]
     },
     "metadata": {},
     "output_type": "display_data"
    }
   ],
   "source": [
    "runif(10, min=1, max=3) "
   ]
  },
  {
   "cell_type": "markdown",
   "metadata": {},
   "source": [
    "### Beta distribution\n",
    "\n",
    "The beta distribution is used for random variables which take on values between 0 and 1.\n",
    "For this reason, the beta distribution is\n",
    "commonly used to model probabilities.\n",
    "\n",
    "$$X\\sim Beta(\\alpha, \\beta)$$\n",
    "$$f(x\\mid \\alpha, \\beta) = \\dfrac{\\Gamma(\\alpha + \\beta)}{\\Gamma(\\alpha) \\Gamma(\\beta)}x^{\\alpha - 1}(1 - x)^{\\beta - 1}I_{\\{0 < x < 1\\}}(x)$$\n",
    "$$E[X] = \\dfrac{\\alpha}{\\alpha + \\beta} $$\n",
    "$$Var[X] = \\dfrac{\\alpha \\beta}{(\\alpha + \\beta)^{2}(\\alpha + \\beta + 1)} $$\n",
    "\n",
    "where $\\Gamma(·)$ is the gamma function introduced with the gamma distribution. Note also that\n",
    "α > 0 and β > 0. The standard Uniform(0, 1) distribution is a special case of the beta\n",
    "distribution with α = β = 1.\n",
    "\n"
   ]
  },
  {
   "cell_type": "markdown",
   "metadata": {},
   "source": [
    "### Normal Distribution\n",
    "\n",
    "The normal, or Gaussian distribution is one of the most important distributions in statistics.\n",
    "It arises as the limiting distribution of sums (and averages) of random variables. This is\n",
    "due to the Central Limit Theorem. Because of this property, the normal distribution is often used to model the “errors,” or unexplained variation of individual observations in regression models.\n",
    "\n",
    "The standard normal distribution is given by\n",
    "\n",
    "$$X\\sim Z(0, 1)$$\n",
    "$$f(z) = \\dfrac{1}{\\sqrt(2\\pi)}\\exp(-\\dfrac{z^{2}}{2})$$\n",
    "$$E[X] = 0$$\n",
    "$$Var[X] = 1 $$\n",
    "\n",
    "Now consider $X = \\sigma Z+\\mu$ where $\\sigma > 0$ and $\\mu$ is any real constant. Then $E(X) = E(\\sigma Z+\\mu) =\n",
    "\\sigma E(Z) + \\mu = \\sigma · 0 + \\mu =\\mu$ and $Var(X) = Var(\\sigma Z + \\mu) = \\sigma^{2}Var(Z) + 0 = \\sigma^{2} · 1 = \\sigma^{2}$.\n",
    "\n",
    "\n",
    "Then, X follows a normal distribution with mean $\\mu$ and variance $\\sigma^{2}$ (standard deviation $\\sigma$)\n",
    "\n",
    "denoted as: $$X\\sim N(\\mu, \\sigma^{2})$$\n",
    "$$f(x\\mid \\mu, \\sigma^{2}) = \\dfrac{1}{\\sqrt(2\\pi \\sigma^{2})}\\exp(-\\dfrac{(x-\\mu)^{2}}{2\\sigma^{2}})$$\n",
    "\n",
    "\n",
    "The normal distribution is symmetric about the mean $\\mu$, and is often described as a “bell-\n",
    "shaped” curve. Although $X$ can take on any real value (positive or negative), more than\n",
    "99% of the probability mass is concentrated within three standard deviations of the mean.\n",
    "\n",
    "The normal distribution has several desirable properties. \n",
    "\n",
    "One is that if $X_1 \\sim  N(\\mu_{1} , \\sigma_{1}^{2})$\n",
    "and $X_2 \\sim N(\\mu_2 , \\sigma_{2}^{2})$ are independent, then $X_1 +X_2 \\sim N(\\mu_1 +\\mu_2 , \\sigma_{1}^{2} +\\sigma_{2}^{2})$. Consequently, if we take the average of n independent and identically distributed (iid) normal random variables,\n",
    "\n",
    "$$\\bar{X} = \\dfrac{1}{n}\\sum_{i = 1}^{n}X_{i},$$\n",
    "where $X_{i}\\stackrel{iid}{\\sim} N(\\mu , \\sigma^{2})$ for $i = 1, 2, ..., n$ then \n",
    "$$\\bar{X}\\sim N(\\mu , \\dfrac{\\sigma^{2}}{n}).$$\n",
    "\n",
    "** Example **\n",
    "\n",
    "Let $X \\sim N(3, 1)$ Compute the following:"
   ]
  },
  {
   "cell_type": "code",
   "execution_count": 51,
   "metadata": {},
   "outputs": [
    {
     "data": {
      "text/html": [
       "0.158655253931457"
      ],
      "text/latex": [
       "0.158655253931457"
      ],
      "text/markdown": [
       "0.158655253931457"
      ],
      "text/plain": [
       "[1] 0.1586553"
      ]
     },
     "metadata": {},
     "output_type": "display_data"
    },
    {
     "data": {
      "text/html": [
       "0.682689492137086"
      ],
      "text/latex": [
       "0.682689492137086"
      ],
      "text/markdown": [
       "0.682689492137086"
      ],
      "text/plain": [
       "[1] 0.6826895"
      ]
     },
     "metadata": {},
     "output_type": "display_data"
    },
    {
     "data": {
      "text/html": [
       "1.04003601545995"
      ],
      "text/latex": [
       "1.04003601545995"
      ],
      "text/markdown": [
       "1.04003601545995"
      ],
      "text/plain": [
       "[1] 1.040036"
      ]
     },
     "metadata": {},
     "output_type": "display_data"
    },
    {
     "data": {
      "text/html": [
       "3"
      ],
      "text/latex": [
       "3"
      ],
      "text/markdown": [
       "3"
      ],
      "text/plain": [
       "[1] 3"
      ]
     },
     "metadata": {},
     "output_type": "display_data"
    },
    {
     "data": {
      "text/html": [
       "4.95996398454005"
      ],
      "text/latex": [
       "4.95996398454005"
      ],
      "text/markdown": [
       "4.95996398454005"
      ],
      "text/plain": [
       "[1] 4.959964"
      ]
     },
     "metadata": {},
     "output_type": "display_data"
    },
    {
     "data": {
      "image/png": "[encoded data removed]",
      "text/plain": [
       "plot without title"
      ]
     },
     "metadata": {},
     "output_type": "display_data"
    }
   ],
   "source": [
    "m <- 3\n",
    "s <- 1\n",
    "\n",
    "# P(X < 2)\n",
    "pnorm(2, m, s) # 15.8%\n",
    "\n",
    "# P(2 <= X <= 4)\n",
    "pnorm(4, m, s) - pnorm(2, m, s) # 68.2%\n",
    "\n",
    "# Find the quantilies 0.025\n",
    "qnorm(0.025, m, s) # 1.04\n",
    "\n",
    "# Find the quantiles 0.5\n",
    "qnorm(0.5, m, s) # 3 makes sense, doesn't it?\n",
    "\n",
    "# Find the quantiles 0.975\n",
    "qnorm(0.975, m, s) # 4.95\n",
    "\n",
    "#Let's visualise the distribution\n",
    "x <- seq(-1,7,0.01)\n",
    "y <- dnorm(x, m, s)\n",
    "plot(x, y)"
   ]
  },
  {
   "cell_type": "markdown",
   "metadata": {},
   "source": [
    "\n",
    "### t Distribution\n",
    "\n",
    "In real life, even though we may have normal data it is higly unlikely to know the standard deviation of the distribution ($\\sigma$). Therefore, we make an estimate of it, and it is calculated as : $\\dfrac{\\sum_{i}(X_{i}- \\bar{X})^{2}}{n-1}$. This distribution is not called normal, but t distribution with $ν = n − 1$\n",
    "degrees of freedom. \n",
    "\n",
    "$$Y \\sim t_{ν}$$\n",
    "$$ f(y) = \\dfrac{\\Gamma(\\dfrac{ν + 1}{2})}{\\Gamma(\\dfrac{ν}{2})\\sqrt{ν\\pi})}(1 + \\dfrac{y^{2}}{ν})^{-(\\tfrac{ν+1}{2})}$$\n",
    "$$E[Y] = 0, \\ if \\ ν>1$$\n",
    "$$Var[Y] = \\dfrac{ν}{ν - 2},\\ if \\ ν>2$$\n",
    "\n",
    "The t distribution is symmetric and resembles the normal distribution, but with thicker tails.\n",
    "As the degrees of freedom increase, the t distribution looks more and more like the standard\n",
    "normal distribution.\n",
    "\n",
    "**Example**\n",
    "\n",
    "Let $T_{8}$ distribution. Compute the following:"
   ]
  },
  {
   "cell_type": "code",
   "execution_count": 52,
   "metadata": {},
   "outputs": [
    {
     "data": {
      "text/html": [
       "0.826703246456333"
      ],
      "text/latex": [
       "0.826703246456333"
      ],
      "text/markdown": [
       "0.826703246456333"
      ],
      "text/plain": [
       "[1] 0.8267032"
      ]
     },
     "metadata": {},
     "output_type": "display_data"
    },
    {
     "data": {
      "text/html": [
       "0.0402581189786313"
      ],
      "text/latex": [
       "0.0402581189786313"
      ],
      "text/markdown": [
       "0.0402581189786313"
      ],
      "text/plain": [
       "[1] 0.04025812"
      ]
     },
     "metadata": {},
     "output_type": "display_data"
    },
    {
     "data": {
      "text/html": [
       "0.653406492912666"
      ],
      "text/latex": [
       "0.653406492912666"
      ],
      "text/markdown": [
       "0.653406492912666"
      ],
      "text/plain": [
       "[1] 0.6534065"
      ]
     },
     "metadata": {},
     "output_type": "display_data"
    },
    {
     "data": {
      "text/html": [
       "-2.30600413520417"
      ],
      "text/latex": [
       "-2.30600413520417"
      ],
      "text/markdown": [
       "-2.30600413520417"
      ],
      "text/plain": [
       "[1] -2.306004"
      ]
     },
     "metadata": {},
     "output_type": "display_data"
    },
    {
     "data": {
      "text/html": [
       "0"
      ],
      "text/latex": [
       "0"
      ],
      "text/markdown": [
       "0"
      ],
      "text/plain": [
       "[1] 0"
      ]
     },
     "metadata": {},
     "output_type": "display_data"
    },
    {
     "data": {
      "text/html": [
       "2.30600413520417"
      ],
      "text/latex": [
       "2.30600413520417"
      ],
      "text/markdown": [
       "2.30600413520417"
      ],
      "text/plain": [
       "[1] 2.306004"
      ]
     },
     "metadata": {},
     "output_type": "display_data"
    },
    {
     "data": {
      "image/png": "[encoded data removed]",
      "text/plain": [
       "plot without title"
      ]
     },
     "metadata": {},
     "output_type": "display_data"
    }
   ],
   "source": [
    "df <- 8\n",
    "\n",
    "# Find the P(T_8 < 1)\n",
    "pt(1, df)\n",
    "\n",
    "# Find the P(T_8 > 2)\n",
    "1 - pt(2, df)\n",
    "\n",
    "# Find the P(-1 < T_8 < 1)\n",
    "pt(1, df) - pt(-1, df)\n",
    "\n",
    "# Find the quantile 0.025 \n",
    "qt(0.025, df)\n",
    "\n",
    "# Find the quantile 0.5\n",
    "qt(0.5, df)\n",
    "\n",
    "# Find the quantile 0.975\n",
    "qt(0.975, df)\n",
    "x <- seq(-3, 3, 0.01)\n",
    "y <- dt(x, df)\n",
    "plot(x, y)"
   ]
  },
  {
   "cell_type": "markdown",
   "metadata": {},
   "source": [
    "    \n",
    "# Frequentist Paradigm\n",
    "You're not sure of it's the loaded coin or if it's just a fair one. So he gives you a chance to flip it five times and just check it out. You flip it five times and you get two heads and three tails. And now you have a decision point to make. Which coin do you think it is and how sure are you about that? \n",
    "\n",
    "So in order to perform inference, we need to define a likelihood. In this case, we'll start by defining the unknown parameter $\\theta$, and this is either that the coin is fair or it's a loaded coin.\n",
    "\n",
    "So our unknown parameters, which coin it is. Is it a fair coin or is it the loaded coin? \n",
    "\n",
    "Our data are going to be 5 flips of this coin, so the binomial of 5 flips and the question is what's that probability? \n",
    "\n",
    "So we can write a likelihood,  $$f(x|\\theta)= \\begin{equation}\n",
    "  f(x)=\\begin{cases}\n",
    "    {5 \\choose x} \\dfrac{1}{2}^{5}, & \\text{if $\\theta = fair$}.\\\\\n",
    "    {x \\choose 5} (0.7)^{x}(0.3)^{5-x}, & \\text{if $\\theta = loaded$}.\n",
    "  \\end{cases}\n",
    "\\end{equation}$$\n",
    "\n",
    "$$={5 \\choose x} \\dfrac{1}{2}^{5} I_{\\{\\theta = fair\\}} + {x \\choose 5} (0.7)^{x}(0.3)^{5-x}  I_{\\{\\theta = loaded\\}}$$\n",
    "\n",
    "## Example\n",
    "Let's assume that $X = 2$:\n",
    "        $$L(\\theta|X = 2) = \\begin{cases} 0.3122 & \\text{if $\\theta = fair$}.\\\\ 0.1323 & \\text{if $\\theta = loaded$}. \\end{cases} $$\n",
    "\n",
    " So we see that having observed two heads, the likelihood is higher for theta equals fair than for theta equals loaded. \n",
    " We can say that the MLE ($\\hat{\\theta}$) is that it is a fair coin.\n",
    " \n",
    "**How sure are you?**\n",
    "\n",
    "This is not a question that's easily answered in the frequentist paradigm. Another question is that we might like to know what is the probability that theta equals fair, given, we observed two heads. \n",
    "\n",
    "In the frequentist paradigm, the coin is a physical quantity. It's a fixed coin, and therefore it has a fixed probability of coming up heads. It either is the fair coin, or it's the loaded coin. \n",
    "\n",
    "In this case, the probability is fair given x=2 is just a probability that's fair because it's a fixed coin. And this probability is either 0 or 1. This is not a particularly satisfying answer. As a result, Let’s take a look at how we solve this problem under Bayesian inference and see what type of answer we get there. \n",
    "\n",
    "\n",
    "# Bayes' Theorem\n",
    "\n",
    "Bayes' theorem describes the probability of an event, based on prior knowledge of conditions that might be related to the event. It is the theoretical underpinning of most of what we do within the Bayesian statistical framework.\n",
    "\n",
    "## Conditional probability\n",
    "Conditional probability is when we're trying to consider two events that are related to each other. So we can ask, what is the probability of event A given that we know event B happened? This is defined as the probability that both events A and B happened divided by the probability that event B happens. $$P(A \\mid B) = \\dfrac{P(A \\cap B)}{P(B)}$$\n",
    "\n",
    "* In case events $A$ and $B$ are independent, $P(A \\mid B) = P(A)$ and $P(A \\cap B) = P(A)P(B)$\n",
    "\n",
    "## Bayes' Theorem for discrete distributions\n",
    "Bayes' Theorem is used to reverse the direction of conditioning. Suppose we want to ask what's the $P(A \\mid B)$ but we know it in terms of $P(B \\mid A)$. So we can write : $$P(A \\mid B) = \\dfrac{P(B \\mid A) P(A)}{P(B/A) P(A) + P(B \\mid A^C) P(A^C)}$$ This does work out back to be the same as : $$\\dfrac{P(A \\cap B)}{P(B)}$$. \n",
    "\n",
    "When there are multiple possible outcomes, $A_1, \\dots, A_n$ (exactly one of the A_i ’s must occur, the A_i ’s are mutually exclusive and $\\sum_{i=1}^{m} = 1$) then we can write Bayes' Theorem as: $$P(A_i \\mid B) = \\dfrac{P(B \\mid A_i) P(A_i)}{\\sum_i^m P(B \\mid A_i) P(A_i)}$$\n",
    "\n",
    "Exaple: \n",
    "The probability of someone being positive to a specific test of HIV given that he is infected by the virus is 97,7%. The probability of someone being negative to the same test while he is not affected by the virus is 92,6%. The probability of someone having HIV is 0.26%. What is the probability of someone being having the virus given that his test is positive? \n",
    "\n",
    "Is it a good test?\n"
   ]
  },
  {
   "cell_type": "code",
   "execution_count": 53,
   "metadata": {},
   "outputs": [
    {
     "name": "stdout",
     "output_type": "stream",
     "text": [
      "[1] 0.09969231\n"
     ]
    }
   ],
   "source": [
    "p_p_h <- 0.977 # prob(+|HIV)\n",
    "p_n_nh <- 0.926 # prob(-|noHIV)\n",
    "p_p <- 0.0026 # prob(positive)\n",
    "p_n <- 1- p_p # prob(negative)\n",
    "p_p_nh <- 1 - p_p_h  # prob(+|noHIV)\n",
    "p_h_p <- (p_p_h * p_p)/(p_p_h * p_p + p_p_nh * p_n) # prob(HIV|+)\n",
    "print(p_h_p)"
   ]
  },
  {
   "cell_type": "markdown",
   "metadata": {},
   "source": [
    "## Bayes' Theorem for continuous distributions\n",
    "\n",
    "When dealing with a continuous random variable $\\theta$, we can write the conditional density for $\\theta$ given $y$ as:\n",
    "$$ f(\\theta|y) = \\dfrac{f(y|\\theta)f(\\theta)}{\\int f(y|\\theta)f(\\theta)d\\theta}$$\n",
    "\n",
    "All we are doing is integrating over all possible values of $\\theta$, in the denominator rather than take the sum over these values. It does the same thing as the Bayes' Theorem shown at the previous section.\n",
    "\n",
    "# Bayesian Paradigm\n",
    "\n",
    "An advantage of the Bayesian approach is that it allows you to easily incorporate prior information, when you know something in advance of the looking at the data. This is difficult to do under the Frequentist paradigm. \n",
    "\n",
    "In this case, we're talking about your brother. You probably know him pretty well. Because you've been around him a bunch, and this isn't the first time he's come to you with a coin, you may have some information on this that you want to incorporate into the problem. So suppose you think that before you've looked at the coin, there's a 60% probability that your brother is using a loaded coin. ($P(\\theta = loaded) = 0.6$)\n",
    "Notice that $\\theta$ can take only 2 values, fair or loaded.\n",
    "\n",
    "$$f(\\theta | x ) = \\dfrac{f(x| \\theta) \\times f(\\theta)}{\\sum_{\\theta} f(x | \\theta)} \\times f(\\theta)$$\n",
    "$$= \\dfrac{{5 \\choose x}[{1 \\choose 2}^{5}(0.4)I_{\\{\\theta = fair\\}} + (0.7)^{x}(0.3)^{5-x}(0.6)I_{\\{\\theta = loaded \\}}]}{{5 \\choose x}[{1 \\choose 2}^{5}0.4 + (0.7)^{5}(0.3)^{5-x}(0.6)]}$$\n",
    "$$f(\\theta | x = 2) = \\dfrac{0.0125 I_{\\{ \\theta = fair \\}} + 0.0079 I_{\\{ \\theta = loaded \\}}}{0.0125 + 0.0079}$$\n",
    "$$ = 0.612 I_{\\{\\theta = fail \\}} + 0.388 I_{\\{\\theta = loaded \\}}$$\n",
    "\n",
    "So, what we get is: \n",
    "$$P(\\theta = loaded | X = 2) = 0.388$$\n",
    "\n",
    "\n",
    "What if you have no idea ($P(\\theta = loaded) = 0.5$) about your brother behavior? \n",
    "\n",
    "Using the formula we used before we come up with $P(\\theta = loaded | X = 2) = 0.297$.\n",
    "\n",
    "What if we know our brother too well and he is a scum ($P(\\theta = loaded) = 0.9$)? \n",
    "\n",
    "The probability is $P(\\theta = loaded | X = 2) = 0.792$\n",
    "\n",
    "In this case, the Bayesian approach is inherently subjective. It represents your own personal perspective, and this is an important part of the paradigm. If you have a different perspective, you will get different answers, and that's okay. It's all done in a mathematically vigorous framework, and it's all mathematically consistent and coherent. \n",
    "\n",
    "**Under the Frequentist paradigm, we can't get a good answer for what is the probability the coin is loaded. The machinery just is not set up that way. **\n",
    "\n",
    "Under the Bayesian paradigm, we're explicit that this is a subjective and personal approach. But we can also be explicit about what all of our assumptions are, and then see how our answers depend on our assumptions. \n",
    "\n",
    "# Posterior Intervals \n",
    "\n",
    "Let's take a look at plotting the prior and the posterior.\n",
    "\n",
    "So plotting the prior density. Let $\\theta \\sim U[0,1]\n",
    "plot(theta, likelihood(400, 72, theta))"
   ]
  },
  {
   "cell_type": "code",
   "execution_count": 54,
   "metadata": {},
   "outputs": [
    {
     "data": {
      "image/png": "[encoded data removed]",
      "text/plain": [
       "plot without title"
      ]
     },
     "metadata": {},
     "output_type": "display_data"
    }
   ],
   "source": [
    "theta = seq(0.01, 0.99, by = 0.01)\n",
    "f = function(x){return(rep(1, length(theta)))}\n",
    "plot(theta, f(theta), type = \"l\")"
   ]
  },
  {
   "cell_type": "markdown",
   "metadata": {},
   "source": [
    "The posterior for the uniform distribution is calculated as follows: \n",
    "$$ f(\\theta | Y = 1) = \\dfrac{ \\theta (1 - \\theta)^{0} I_{\\{0 \\leq \\theta \\leq 1 \\}}}{\\int_{- \\infty }^{+ \\infty } \\theta^{1}(1 - \\theta)^{0}I_{\\{0 \\leq \\theta \\leq 1 \\}}}d\\theta = \\dfrac{\\theta I_{\\{0 \\leq \\theta \\leq 1 \\}}}{\\int_{0}^{1}\\theta} = 2\\theta I_{\\{0 \\leq \\theta \\leq 1 \\}} = 2\\theta I_{\\{0 \\leq \\theta \\leq 1 \\}}$$\n"
   ]
  },
  {
   "cell_type": "code",
   "execution_count": 55,
   "metadata": {},
   "outputs": [
    {
     "data": {
      "image/png": "[encoded data removed]",
      "text/plain": [
       "plot without title"
      ]
     },
     "metadata": {},
     "output_type": "display_data"
    }
   ],
   "source": [
    "post = function(x){return(2* x)}\n",
    "plot(theta, post(theta), type = \"l\")"
   ]
  },
  {
   "cell_type": "code",
   "execution_count": 56,
   "metadata": {},
   "outputs": [
    {
     "data": {
      "text/html": [
       "0.95"
      ],
      "text/latex": [
       "0.95"
      ],
      "text/markdown": [
       "0.95"
      ],
      "text/plain": [
       "[1] 0.95"
      ]
     },
     "metadata": {},
     "output_type": "display_data"
    },
    {
     "data": {
      "text/html": [
       "0.95"
      ],
      "text/latex": [
       "0.95"
      ],
      "text/markdown": [
       "0.95"
      ],
      "text/plain": [
       "[1] 0.95"
      ]
     },
     "metadata": {},
     "output_type": "display_data"
    },
    {
     "name": "stdout",
     "output_type": "stream",
     "text": [
      "[1] \"p(0.025 <= x <= 0.975) = 0.95\"\n",
      "[1] \"p(x > 0.05) = 0.95\"\n"
     ]
    }
   ],
   "source": [
    "# Prior interval estimates for p(0.025 <= x <= 0.975)\n",
    "punif(0.95, min = 0, max = 1, lower.tail = TRUE, log.p = FALSE) \n",
    "# P(X > 0.05)\n",
    "punif(0.05, min = 0, max = 1, lower.tail = FALSE, log.p = FALSE) \n",
    "\n",
    "# A cool way to print out results is:\n",
    "\n",
    "p_0.025_0.975 <- punif(0.95, min = 0, max = 1, lower.tail = TRUE, log.p = FALSE) \n",
    "print(paste(\"p(0.025 <= x <= 0.975) =\", p_0.025_0.975))\n",
    "\n",
    "p_0.05 <- punif(0.05, min = 0, max = 1, lower.tail = FALSE, log.p = FALSE) \n",
    "print(paste(\"p(x > 0.05) =\", p_0.05))"
   ]
  },
  {
   "cell_type": "code",
   "execution_count": 57,
   "metadata": {},
   "outputs": [
    {
     "data": {
      "text/plain": [
       "0.95 with absolute error < 1.1e-14"
      ]
     },
     "metadata": {},
     "output_type": "display_data"
    },
    {
     "data": {
      "image/png": "[encoded data removed]",
      "text/plain": [
       "plot without title"
      ]
     },
     "metadata": {},
     "output_type": "display_data"
    }
   ],
   "source": [
    "# Posterior interval estimates for p(0.025 <= X <= 0.975)\n",
    "integrand <- function(x) {2*x}\n",
    "integrate(integrand, lower = 0.025, upper = 0.975) # same as prior's interval, 0.95\n",
    "\n",
    "# We plot the area that we DON'T take into considetation, because at the next task will make things clear\n",
    "\n",
    "cord.x <- c(0)\n",
    "cord.y <- c(0)\n",
    "cord.x <- c(cord.x,0)\n",
    "cord.y <- c(cord.y,post(0))\n",
    "cord.x <- c(cord.x,0.025,0.025)\n",
    "cord.y <- c(cord.y,post(0.025),0)\n",
    "\n",
    "cord.x <- c(cord.x,0.975)\n",
    "cord.y <- c(cord.y, 0)\n",
    "cord.x <- c(cord.x,0.975)\n",
    "cord.y <- c(cord.y,post(0.975))\n",
    "cord.x <- c(cord.x,1,1)\n",
    "cord.y <- c(cord.y,post(1),0)\n",
    "plot(theta, post(theta), type = \"l\")\n",
    "polygon(cord.x,cord.y,col='skyblue')\n"
   ]
  },
  {
   "cell_type": "code",
   "execution_count": 58,
   "metadata": {},
   "outputs": [
    {
     "data": {
      "text/plain": [
       "0.9975 with absolute error < 1.1e-14"
      ]
     },
     "metadata": {},
     "output_type": "display_data"
    },
    {
     "data": {
      "image/png": "[encoded data removed]",
      "text/plain": [
       "plot without title"
      ]
     },
     "metadata": {},
     "output_type": "display_data"
    }
   ],
   "source": [
    "\n",
    "# Posterior interval estimates for p(X > 0.05)\n",
    "integrate(integrand, lower = 0.05, upper = 1) # Different. Does't it make sense?\n",
    "\n",
    "# If it doesn't look at the plot below. The area covered is way less than above. \n",
    "# It is important to remember that integral returns the area below the curve\n",
    "# from the lower limit to the upper limit we integrate. \n",
    "\n",
    "# We plot the area that we DON'T take into considetation. \n",
    "plot(theta, post(theta), type = \"l\")\n",
    "\n",
    "cord.x <- c(0)\n",
    "cord.y <- c(0)\n",
    "cord.x <- c(cord.x,0)\n",
    "cord.y <- c(cord.y,post(0))\n",
    "cord.x <- c(cord.x,0.05,0.05)\n",
    "cord.y <- c(cord.y,post(0.05),0)\n",
    "plot(theta, post(theta), type = \"l\")\n",
    "polygon(cord.x,cord.y,col='skyblue')"
   ]
  },
  {
   "cell_type": "markdown",
   "metadata": {},
   "source": [
    "In some cases, we may want to ask, what is the posterior interval of interest? What's a interval that contains 95% of posterior probability in some meaningful way? We put the equal amount of probability in each tail. So to make a 95% interval we'll put .025 in each tail. \n",
    "\n",
    "To be able to do this, we're going to have to figure out what the quantiles are. So we're going to need some value, q,  where $$P<(\\theta <q | Y = 1) = \\int_{0}^{q} 2\\theta d\\theta = q^{2}$$\n",
    "\n",
    "$$ P(\\sqrt{0.025} \\leq \\theta \\leq \\sqrt{0.975}) = P(0.158 \\leq \\theta \\leq 0.987) $$\n",
    "\n",
    "Let's visualise it: "
   ]
  },
  {
   "cell_type": "code",
   "execution_count": 59,
   "metadata": {},
   "outputs": [
    {
     "data": {
      "image/png": "[encoded data removed]",
      "text/plain": [
       "plot without title"
      ]
     },
     "metadata": {},
     "output_type": "display_data"
    }
   ],
   "source": [
    "# Once again, the coloured are is the one we exclude. The reason we do that is the same, \n",
    "#to demonstrate the difference\n",
    "\n",
    "plot(theta, post(theta), type = \"l\")\n",
    "\n",
    "cord.x <- c(0)\n",
    "cord.y <- c(0)\n",
    "cord.x <- c(cord.x,0)\n",
    "cord.y <- c(cord.y,post(0))\n",
    "cord.x <- c(cord.x,0.158,0.158)\n",
    "cord.y <- c(cord.y,post(0.158),0)\n",
    "\n",
    "cord.x <- c(cord.x,0.987)\n",
    "cord.y <- c(cord.y, 0)\n",
    "cord.x <- c(cord.x,0.987)\n",
    "cord.y <- c(cord.y,post(0.987))\n",
    "cord.x <- c(cord.x,1,1)\n",
    "cord.y <- c(cord.y,post(1),0)\n",
    "plot(theta, post(theta), type = \"l\")\n",
    "polygon(cord.x,cord.y,col='skyblue')"
   ]
  },
  {
   "cell_type": "markdown",
   "metadata": {},
   "source": [
    "Another approach is what we refer to as Highest Posterior Density or HPD. \n",
    "Here we want to ask where in the density is it highest? And so in this case we want to say, well, about here are the highest levels. And so this interval's going to go between these two points. \n",
    "\n",
    "Theoretically this will the shortest possible interval that contains the given probability, in this case a 95% probability.\n",
    "\n",
    "We can see here that it's going to go all the way up to 1 just from the graph. So we're asking, what's the probability Theta is bigger than some value. And looking at the quantiles again, that value's going to be the square root of .05. \n",
    "\n",
    "$$HPD P(\\theta > \\sqrt{0.05} | Y = 1) = P(\\theta > 0.224 | Y = 1)  = 0.95$$\n",
    "\n"
   ]
  },
  {
   "cell_type": "code",
   "execution_count": 60,
   "metadata": {},
   "outputs": [
    {
     "data": {
      "image/png": "[encoded data removed]",
      "text/plain": [
       "plot without title"
      ]
     },
     "metadata": {},
     "output_type": "display_data"
    }
   ],
   "source": [
    "plot(theta, post(theta), type = \"l\")\n",
    "\n",
    "cord.x <- c(0.05)\n",
    "cord.y <- c(0)\n",
    "cord.x <- c(cord.x,0.05)\n",
    "cord.y <- c(cord.y,post(0.05))\n",
    "cord.x <- c(cord.x,1,1)\n",
    "cord.y <- c(cord.y,post(1),0)\n",
    "plot(theta, post(theta), type = \"l\")\n",
    "polygon(cord.x,cord.y,col='skyblue')"
   ]
  },
  {
   "cell_type": "markdown",
   "metadata": {},
   "source": [
    "And so we can say the probability $\\theta$ is greater than .224 is .95. So this is the shortest possible interval that under the posterior has probability .95 it's $\\theta$ going from .224 up to 1. Let's think about what we have here. \n",
    "\n",
    "The posterior distribution describes our understanding of our uncertainty combining our prior beliefs and the data. With a probability density function, so at the end of the day, we can make intervals and talk about probabilities of data being in the interval. \n",
    "\n",
    "With a probability density function, so at the end of the day, we can make intervals and talk about probabilities of data being in the interval. \n",
    "This is a much more satisfying approach, than the frequentest approach, where we get confidence intervals. \n",
    "But we can't say a whole lot about the actual parameter relative to this confidence interval. We can only make long run frequency statements about a lot of hypothetical intervals. \n",
    "\n",
    "In this case, we can legitimately say, the posterior probability $\\theta$ is bigger than .05, is .9975. Or, we believe there's a 95% probability the $\\theta$ is in between .158 and .987. Frequentest can't do this. \n",
    "\n",
    "# Review \n",
    "** Question 1 **\n",
    "Although the likelihood function is not always a product of f(yi|θ) for i=1,2,…,n, this product form is convenient mathematically. What assumption about the observations y allows us to multiply their individual likelihood components?\n",
    "\n",
    "**Answer 1 **\n",
    "Independence\n",
    "\n",
    "**Question 2**\n",
    "One nice property of MLEs is that they are transformation invariant. That is, if $\\hat{\\theta}$ is the MLE for $θ$, then the MLE for $g(θ)$ is $g(\\hat{\\theta})$ for any function $g(⋅)$.\n",
    "\n",
    "Suppose you conduct 25 Bernoulli trials and observe 10 successes. What is the MLE for the odds of success? Round your answer to two decimal places.\n",
    "\n",
    "**Answer 2** "
   ]
  },
  {
   "cell_type": "code",
   "execution_count": 61,
   "metadata": {},
   "outputs": [
    {
     "data": {
      "text/html": [
       "0.666666666666667"
      ],
      "text/latex": [
       "0.666666666666667"
      ],
      "text/markdown": [
       "0.666666666666667"
      ],
      "text/plain": [
       "[1] 0.6666667"
      ]
     },
     "metadata": {},
     "output_type": "display_data"
    }
   ],
   "source": [
    "p = 0.4 # or 10/25\n",
    "p/(1 - p) "
   ]
  },
  {
   "cell_type": "markdown",
   "metadata": {},
   "source": [
    "**Question 3**\n",
    "Recall the scenario in which your brother brings you a coin which may be fair (probability of heads 0.5) or loaded (probability of heads 0.7).\n",
    "\n",
    "Another sibling wants to place bets on whether the coin is loaded. If the coin is actually loaded, she will pay you \\$1. If it is not loaded, you will pay her \\$$x$.\n",
    "\n",
    "Using your prior probability of 0.6 that the coin is loaded and assuming a fair game, determine the amount $x$ that would make the bet fair (with prior expectation \\$0). Round your answer to one decimal place.\n",
    "\n",
    "**Answer 3**"
   ]
  },
  {
   "cell_type": "code",
   "execution_count": 62,
   "metadata": {},
   "outputs": [
    {
     "data": {
      "text/html": [
       "1.5"
      ],
      "text/latex": [
       "1.5"
      ],
      "text/markdown": [
       "1.5"
      ],
      "text/plain": [
       "[1] 1.5"
      ]
     },
     "metadata": {},
     "output_type": "display_data"
    }
   ],
   "source": [
    "#1 * p(loaded) - x*p(not loaded)\n",
    "x = 0.6/0.4; x"
   ]
  },
  {
   "cell_type": "markdown",
   "metadata": {},
   "source": [
    "**Question 4**\n",
    "\n",
    "Before taking the bet, you agree to flip the coin once. It lands heads. Your sister argues that this is evidence for the loaded coin (in which case she pays you \\$1) and demands you increase $x$ to 2.\n",
    "\n",
    "Should you accept this new bet? Base your answer on your updated (posterior) probability that the coin is loaded.\n",
    "\n",
    "** Answer 4**"
   ]
  },
  {
   "cell_type": "code",
   "execution_count": 63,
   "metadata": {},
   "outputs": [
    {
     "data": {
      "text/html": [
       "0.67741935483871"
      ],
      "text/latex": [
       "0.67741935483871"
      ],
      "text/markdown": [
       "0.67741935483871"
      ],
      "text/plain": [
       "[1] 0.6774194"
      ]
     },
     "metadata": {},
     "output_type": "display_data"
    }
   ],
   "source": [
    "# The posterior probability that the coin is loaded is \n",
    "prob <- 0.7*0.6/(0.7*0.6+0.5*0.4)\n",
    "prob"
   ]
  },
  {
   "cell_type": "code",
   "execution_count": 64,
   "metadata": {},
   "outputs": [
    {
     "data": {
      "text/html": [
       "0.0322580645161289"
      ],
      "text/latex": [
       "0.0322580645161289"
      ],
      "text/markdown": [
       "0.0322580645161289"
      ],
      "text/plain": [
       "[1] 0.03225806"
      ]
     },
     "metadata": {},
     "output_type": "display_data"
    }
   ],
   "source": [
    "# Thus your posterior expected payoff is \n",
    "prob -2*(1-prob) # It is greater than 0. So you are cool with her terms."
   ]
  }
 ],
 "metadata": {
  "kernelspec": {
   "display_name": "R",
   "language": "R",
   "name": "ir"
  },
  "language_info": {
   "codemirror_mode": "r",
   "file_extension": ".r",
   "mimetype": "text/x-r-source",
   "name": "R",
   "pygments_lexer": "r",
   "version": "3.4.2"
  }
 },
 "nbformat": 4,
 "nbformat_minor": 2
}
