{
 "cells": [
  {
   "cell_type": "markdown",
   "metadata": {},
   "source": [
    "# Definition\n",
    "\n",
    "If we have a sequence of random variables $X_{1},X_{2},…X_{n}$ where the indices $1,2,…,n$ represent successive points in time, we can use the chain rule of probability to calculate the probability of the entire sequence:\n",
    "\n",
    "$$p(X1,X2,…Xn)=p(X1)⋅p(X2|X1)⋅p(X3|X2,X1)⋅…⋅p(Xn|Xn−1,Xn−2,…,X2,X1)$$\n",
    "\n",
    "Markov chains (type of markov process) simplify this expression by using the Markov assumption. The assumption is that given the entire past history, the probability distribution for the random variable at the next time step** only depends on the current variable**. Mathematically, the assumption is written like this:\n",
    "\n",
    "$$p(Xt+1|Xt,Xt−1,…,X2,X1)=p(Xt+1|Xt)$$\n",
    "\n",
    "for all $t=2,…,n$. Under this assumption, we can write the first expression as \n",
    "\n",
    "$$p(X1,X2,…Xn)=p(X1)⋅p(X2|X1)⋅p(X3|X2)⋅p(X4|X3)⋅…⋅p(Xn|Xn−1),$$\n",
    "\n",
    "which is much simpler than the original. It consists of an initial distribution for the first variable, p(X1), and $n−1$ transition probabilities. We usually make one more assumption: that the transition probabilities do not change with time. Hence, the transition from time t to time t+1 depends only on the value of $X_{t}$.\n",
    "\n",
    "# Examples of Markov Chains\n",
    "\n",
    "## Discrete Markov Chains\n",
    "\n",
    "Suppose you have a secret number (make it an integer) between 1 and 5. We will call it your initial number at step 1. Now for each time step, your secret number will change according to the following rules:\n",
    "    1. Flip a coin.\n",
    "    2.    a. If the coin turns up heads, then increase your secret number by one (5 increases to 1).\n",
    "          b. If the coin turns up tails, then decrease your secret number by one (1 decreases to 5).\n",
    "    3. Repeat n times, and record the evolving history of your secret number.\n",
    "    \n",
    "Before the experiment, we can think of the sequence of secret numbers as a sequence of random variables, each taking on a value in {1,2,3,4,5}.\n",
    "\n",
    "Assume that the coin is fair, so that with each flip, the probability of heads and tails are both 0.5.\n",
    "\n",
    "Does this game qualify as a true Markov chain? Suppose your secret number is currently 4 and that the history of your secret numbers is (2,1,2,3). \n",
    "\n",
    "What is the probability that on the next step, your secret number will be 5? What about the other four possibilities? Because of the rules of this game, the probability of the next transition will depend only on the fact that your current number is 4. The numbers further back in your history are irrelevant, so this is a Markov chain.\n",
    "\n",
    "This is an example of a discrete Markov chain, where the possible values of the random variables come from a discrete set. Those possible values (secret numbers in this example) are called states of the chain. The states are usually numbers, as in this example, but they can represent anything. In one common example, the states describe the weather on a particular day, which could be labeled as 1-fair, 2-poor.\n",
    "\n",
    "## Random Walks (continuous)\n",
    "\n",
    "Now let’s look at a continuous example of a Markov chain. Say $X_{t}=0$ and we have the following transition model: $p(Xt+1|Xt=xt)=N(x_{t},1)$. That is, the probability distribution for the next state is Normal with variance 1 and mean equal to the current state. This is often referred to as a “random walk.” Clearly, it is a Markov chain because the transition to the next state Xt+1 only depends on the current state $X_{t}$.\n",
    "\n",
    "This example is straightforward to code in R:"
   ]
  },
  {
   "cell_type": "code",
   "execution_count": 3,
   "metadata": {},
   "outputs": [
    {
     "data": {
      "image/png": "[encoded data removed]",
      "text/plain": [
       "plot without title"
      ]
     },
     "metadata": {},
     "output_type": "display_data"
    }
   ],
   "source": [
    "set.seed(34)\n",
    "\n",
    "n = 100\n",
    "x = numeric(n)\n",
    "\n",
    "for (i in 2:n) {\n",
    "  x[i] = rnorm(1, mean=x[i-1], sd=1.0)\n",
    "}\n",
    "\n",
    "plot.ts(x)"
   ]
  },
  {
   "cell_type": "markdown",
   "metadata": {},
   "source": [
    "# Transition Matrix \n",
    "\n",
    "Let’s return to our example of the discrete Markov chain. If we assume that transition probabilities do not change with time, then there are a total of 25 potential transition probabilities. Potential transition probabilities would be from State 1 to State 2, State 1 to State 3, and so forth. These transition probabilities can be arranged into a matrix Q:\n",
    "$$Q=\\begin{bmatrix}\n",
    "0 &.5 &0& 0& .5\\\\\n",
    ".5& 0& .5& 0& 0\\\\\n",
    "0& .5& 0 &.5& 0 \\\\\n",
    "0& 0 &.5 &0 &.5\\\\\n",
    ".5& 0& 0 &.5& 0\n",
    "\\end{bmatrix}$$\n",
    "\n",
    "where the transitions from State 1 are in the first row, the transitions from State 2 are in the second row, etc. For example, the probability p(Xt+1=5∣Xt=4)\n",
    "\n",
    "can be found in the fourth row, fifth column.\n",
    "\n",
    "The transition matrix is especially useful if we want to find the probabilities associated with multiple steps of the chain. For example, we might want to know $p(X_{t}+2=3∣X_{t}=1)$\n",
    ", the probability of your secret number being 3 two steps from now, given that your number is currently 1. We can calculate this as $\\sum_{k=1}^{5}= p(X_{t+2}=3∣X_{t+1}=k)⋅p(X_{t+1}=k∣X_{t}=1)$, which conveniently is found in the first row and third column of $Q^2$.\n",
    "\n",
    "We can perform this matrix multiplication easily in R:"
   ]
  },
  {
   "cell_type": "code",
   "execution_count": 4,
   "metadata": {},
   "outputs": [
    {
     "data": {
      "text/html": [
       "<table>\n",
       "<tbody>\n",
       "\t<tr><td>0.50</td><td>0.00</td><td>0.25</td><td>0.25</td><td>0.00</td></tr>\n",
       "\t<tr><td>0.00</td><td>0.50</td><td>0.00</td><td>0.25</td><td>0.25</td></tr>\n",
       "\t<tr><td>0.25</td><td>0.00</td><td>0.50</td><td>0.00</td><td>0.25</td></tr>\n",
       "\t<tr><td>0.25</td><td>0.25</td><td>0.00</td><td>0.50</td><td>0.00</td></tr>\n",
       "\t<tr><td>0.00</td><td>0.25</td><td>0.25</td><td>0.00</td><td>0.50</td></tr>\n",
       "</tbody>\n",
       "</table>\n"
      ],
      "text/latex": [
       "\\begin{tabular}{lllll}\n",
       "\t 0.50 & 0.00 & 0.25 & 0.25 & 0.00\\\\\n",
       "\t 0.00 & 0.50 & 0.00 & 0.25 & 0.25\\\\\n",
       "\t 0.25 & 0.00 & 0.50 & 0.00 & 0.25\\\\\n",
       "\t 0.25 & 0.25 & 0.00 & 0.50 & 0.00\\\\\n",
       "\t 0.00 & 0.25 & 0.25 & 0.00 & 0.50\\\\\n",
       "\\end{tabular}\n"
      ],
      "text/markdown": [
       "\n",
       "| 0.50 | 0.00 | 0.25 | 0.25 | 0.00 | \n",
       "| 0.00 | 0.50 | 0.00 | 0.25 | 0.25 | \n",
       "| 0.25 | 0.00 | 0.50 | 0.00 | 0.25 | \n",
       "| 0.25 | 0.25 | 0.00 | 0.50 | 0.00 | \n",
       "| 0.00 | 0.25 | 0.25 | 0.00 | 0.50 | \n",
       "\n",
       "\n"
      ],
      "text/plain": [
       "     [,1] [,2] [,3] [,4] [,5]\n",
       "[1,] 0.50 0.00 0.25 0.25 0.00\n",
       "[2,] 0.00 0.50 0.00 0.25 0.25\n",
       "[3,] 0.25 0.00 0.50 0.00 0.25\n",
       "[4,] 0.25 0.25 0.00 0.50 0.00\n",
       "[5,] 0.00 0.25 0.25 0.00 0.50"
      ]
     },
     "metadata": {},
     "output_type": "display_data"
    }
   ],
   "source": [
    "Q = matrix(c(0.0, 0.5, 0.0, 0.0, 0.5,\n",
    "             0.5, 0.0, 0.5, 0.0, 0.0,\n",
    "             0.0, 0.5, 0.0, 0.5, 0.0,\n",
    "             0.0, 0.0, 0.5, 0.0, 0.5,\n",
    "             0.5, 0.0, 0.0, 0.5, 0.0), \n",
    "           nrow=5, byrow=TRUE)\n",
    "\n",
    "Q %*% Q # Matrix multiplication in R. This is Q^2."
   ]
  },
  {
   "cell_type": "code",
   "execution_count": 5,
   "metadata": {},
   "outputs": [
    {
     "data": {
      "text/html": [
       "0.25"
      ],
      "text/latex": [
       "0.25"
      ],
      "text/markdown": [
       "0.25"
      ],
      "text/plain": [
       "[1] 0.25"
      ]
     },
     "metadata": {},
     "output_type": "display_data"
    }
   ],
   "source": [
    "(Q %*% Q)[1,3]"
   ]
  },
  {
   "cell_type": "markdown",
   "metadata": {},
   "source": [
    "# Stationary distribution\n",
    "\n",
    "Suppose we want to know the probability distribution of the your secret number in the distant future, say $p(X_{t+h}|X_{t})$ where h is a large number. Let’s calculate this for a few different values of h.\n",
    "\n"
   ]
  },
  {
   "cell_type": "code",
   "execution_count": 6,
   "metadata": {},
   "outputs": [
    {
     "data": {
      "text/html": [
       "<table>\n",
       "<tbody>\n",
       "\t<tr><td>0.062</td><td>0.312</td><td>0.156</td><td>0.156</td><td>0.312</td></tr>\n",
       "\t<tr><td>0.312</td><td>0.062</td><td>0.312</td><td>0.156</td><td>0.156</td></tr>\n",
       "\t<tr><td>0.156</td><td>0.312</td><td>0.062</td><td>0.312</td><td>0.156</td></tr>\n",
       "\t<tr><td>0.156</td><td>0.156</td><td>0.312</td><td>0.062</td><td>0.312</td></tr>\n",
       "\t<tr><td>0.312</td><td>0.156</td><td>0.156</td><td>0.312</td><td>0.062</td></tr>\n",
       "</tbody>\n",
       "</table>\n"
      ],
      "text/latex": [
       "\\begin{tabular}{lllll}\n",
       "\t 0.062 & 0.312 & 0.156 & 0.156 & 0.312\\\\\n",
       "\t 0.312 & 0.062 & 0.312 & 0.156 & 0.156\\\\\n",
       "\t 0.156 & 0.312 & 0.062 & 0.312 & 0.156\\\\\n",
       "\t 0.156 & 0.156 & 0.312 & 0.062 & 0.312\\\\\n",
       "\t 0.312 & 0.156 & 0.156 & 0.312 & 0.062\\\\\n",
       "\\end{tabular}\n"
      ],
      "text/markdown": [
       "\n",
       "| 0.062 | 0.312 | 0.156 | 0.156 | 0.312 | \n",
       "| 0.312 | 0.062 | 0.312 | 0.156 | 0.156 | \n",
       "| 0.156 | 0.312 | 0.062 | 0.312 | 0.156 | \n",
       "| 0.156 | 0.156 | 0.312 | 0.062 | 0.312 | \n",
       "| 0.312 | 0.156 | 0.156 | 0.312 | 0.062 | \n",
       "\n",
       "\n"
      ],
      "text/plain": [
       "     [,1]  [,2]  [,3]  [,4]  [,5] \n",
       "[1,] 0.062 0.312 0.156 0.156 0.312\n",
       "[2,] 0.312 0.062 0.312 0.156 0.156\n",
       "[3,] 0.156 0.312 0.062 0.312 0.156\n",
       "[4,] 0.156 0.156 0.312 0.062 0.312\n",
       "[5,] 0.312 0.156 0.156 0.312 0.062"
      ]
     },
     "metadata": {},
     "output_type": "display_data"
    }
   ],
   "source": [
    "Q5 = Q %*% Q %*% Q %*% Q %*% Q # h=5 steps in the future\n",
    "round(Q5, 3)"
   ]
  },
  {
   "cell_type": "code",
   "execution_count": 7,
   "metadata": {},
   "outputs": [
    {
     "data": {
      "text/html": [
       "<table>\n",
       "<tbody>\n",
       "\t<tr><td>0.248</td><td>0.161</td><td>0.215</td><td>0.215</td><td>0.161</td></tr>\n",
       "\t<tr><td>0.161</td><td>0.248</td><td>0.161</td><td>0.215</td><td>0.215</td></tr>\n",
       "\t<tr><td>0.215</td><td>0.161</td><td>0.248</td><td>0.161</td><td>0.215</td></tr>\n",
       "\t<tr><td>0.215</td><td>0.215</td><td>0.161</td><td>0.248</td><td>0.161</td></tr>\n",
       "\t<tr><td>0.161</td><td>0.215</td><td>0.215</td><td>0.161</td><td>0.248</td></tr>\n",
       "</tbody>\n",
       "</table>\n"
      ],
      "text/latex": [
       "\\begin{tabular}{lllll}\n",
       "\t 0.248 & 0.161 & 0.215 & 0.215 & 0.161\\\\\n",
       "\t 0.161 & 0.248 & 0.161 & 0.215 & 0.215\\\\\n",
       "\t 0.215 & 0.161 & 0.248 & 0.161 & 0.215\\\\\n",
       "\t 0.215 & 0.215 & 0.161 & 0.248 & 0.161\\\\\n",
       "\t 0.161 & 0.215 & 0.215 & 0.161 & 0.248\\\\\n",
       "\\end{tabular}\n"
      ],
      "text/markdown": [
       "\n",
       "| 0.248 | 0.161 | 0.215 | 0.215 | 0.161 | \n",
       "| 0.161 | 0.248 | 0.161 | 0.215 | 0.215 | \n",
       "| 0.215 | 0.161 | 0.248 | 0.161 | 0.215 | \n",
       "| 0.215 | 0.215 | 0.161 | 0.248 | 0.161 | \n",
       "| 0.161 | 0.215 | 0.215 | 0.161 | 0.248 | \n",
       "\n",
       "\n"
      ],
      "text/plain": [
       "     [,1]  [,2]  [,3]  [,4]  [,5] \n",
       "[1,] 0.248 0.161 0.215 0.215 0.161\n",
       "[2,] 0.161 0.248 0.161 0.215 0.215\n",
       "[3,] 0.215 0.161 0.248 0.161 0.215\n",
       "[4,] 0.215 0.215 0.161 0.248 0.161\n",
       "[5,] 0.161 0.215 0.215 0.161 0.248"
      ]
     },
     "metadata": {},
     "output_type": "display_data"
    }
   ],
   "source": [
    "Q10 = Q %*% Q %*% Q %*% Q %*% Q %*% Q %*% Q %*% Q %*% Q %*% Q # h=10 steps in the future\n",
    "round(Q10, 3)"
   ]
  },
  {
   "cell_type": "code",
   "execution_count": 8,
   "metadata": {},
   "outputs": [
    {
     "data": {
      "text/html": [
       "<table>\n",
       "<tbody>\n",
       "\t<tr><td>0.201</td><td>0.199</td><td>0.200</td><td>0.200</td><td>0.199</td></tr>\n",
       "\t<tr><td>0.199</td><td>0.201</td><td>0.199</td><td>0.200</td><td>0.200</td></tr>\n",
       "\t<tr><td>0.200</td><td>0.199</td><td>0.201</td><td>0.199</td><td>0.200</td></tr>\n",
       "\t<tr><td>0.200</td><td>0.200</td><td>0.199</td><td>0.201</td><td>0.199</td></tr>\n",
       "\t<tr><td>0.199</td><td>0.200</td><td>0.200</td><td>0.199</td><td>0.201</td></tr>\n",
       "</tbody>\n",
       "</table>\n"
      ],
      "text/latex": [
       "\\begin{tabular}{lllll}\n",
       "\t 0.201 & 0.199 & 0.200 & 0.200 & 0.199\\\\\n",
       "\t 0.199 & 0.201 & 0.199 & 0.200 & 0.200\\\\\n",
       "\t 0.200 & 0.199 & 0.201 & 0.199 & 0.200\\\\\n",
       "\t 0.200 & 0.200 & 0.199 & 0.201 & 0.199\\\\\n",
       "\t 0.199 & 0.200 & 0.200 & 0.199 & 0.201\\\\\n",
       "\\end{tabular}\n"
      ],
      "text/markdown": [
       "\n",
       "| 0.201 | 0.199 | 0.200 | 0.200 | 0.199 | \n",
       "| 0.199 | 0.201 | 0.199 | 0.200 | 0.200 | \n",
       "| 0.200 | 0.199 | 0.201 | 0.199 | 0.200 | \n",
       "| 0.200 | 0.200 | 0.199 | 0.201 | 0.199 | \n",
       "| 0.199 | 0.200 | 0.200 | 0.199 | 0.201 | \n",
       "\n",
       "\n"
      ],
      "text/plain": [
       "     [,1]  [,2]  [,3]  [,4]  [,5] \n",
       "[1,] 0.201 0.199 0.200 0.200 0.199\n",
       "[2,] 0.199 0.201 0.199 0.200 0.200\n",
       "[3,] 0.200 0.199 0.201 0.199 0.200\n",
       "[4,] 0.200 0.200 0.199 0.201 0.199\n",
       "[5,] 0.199 0.200 0.200 0.199 0.201"
      ]
     },
     "metadata": {},
     "output_type": "display_data"
    }
   ],
   "source": [
    "Q30 = Q\n",
    "for (i in 2:30) {\n",
    "  Q30 = Q30 %*% Q\n",
    "}\n",
    "round(Q30, 3) # h=30 steps in the future"
   ]
  },
  {
   "cell_type": "markdown",
   "metadata": {},
   "source": [
    "Notice that as the future horizon gets more distant, the transition distributions appear to converge. The state you are currently in becomes less important in determining the more distant future. If we let h get really large, and take it to the limit, all the rows of the long-range transition matrix will become equal to $(.2,.2,.2,.2,.2)$. That is, if you run the Markov chain for a very long time, the probability that you will end up in any particular state is $\\dfrac{1}{5}=.2$\n",
    "\n",
    "for each of the five states. These long-range probabilities are equal to what is called the stationary distribution of the Markov chain.\n",
    "\n",
    "The stationary distribution of a chain is the initial state distribution for which performing a transition will not change the probability of ending up in any given state. That is,"
   ]
  },
  {
   "cell_type": "code",
   "execution_count": 9,
   "metadata": {},
   "outputs": [
    {
     "data": {
      "text/html": [
       "<table>\n",
       "<tbody>\n",
       "\t<tr><td>0.2</td><td>0.2</td><td>0.2</td><td>0.2</td><td>0.2</td></tr>\n",
       "</tbody>\n",
       "</table>\n"
      ],
      "text/latex": [
       "\\begin{tabular}{lllll}\n",
       "\t 0.2 & 0.2 & 0.2 & 0.2 & 0.2\\\\\n",
       "\\end{tabular}\n"
      ],
      "text/markdown": [
       "\n",
       "| 0.2 | 0.2 | 0.2 | 0.2 | 0.2 | \n",
       "\n",
       "\n"
      ],
      "text/plain": [
       "     [,1] [,2] [,3] [,4] [,5]\n",
       "[1,] 0.2  0.2  0.2  0.2  0.2 "
      ]
     },
     "metadata": {},
     "output_type": "display_data"
    }
   ],
   "source": [
    "c(0.2, 0.2, 0.2, 0.2, 0.2) %*% Q"
   ]
  },
  {
   "cell_type": "markdown",
   "metadata": {},
   "source": [
    "One consequence of this property is that once a chain reaches its stationary distribution, the stationary distribution will remain the distribution of the states thereafter.\n",
    "\n",
    "We can also demonstrate the stationary distribution by simulating a long chain from this example."
   ]
  },
  {
   "cell_type": "code",
   "execution_count": 10,
   "metadata": {
    "collapsed": true
   },
   "outputs": [],
   "source": [
    "n = 5000\n",
    "x = numeric(n)\n",
    "x[1] = 1 # fix the state as 1 for time 1\n",
    "for (i in 2:n) {\n",
    "  x[i] = sample.int(5, size=1, prob=Q[x[i-1],]) # draw the next state from the intergers 1 to 5 with probabilities from the transition matrix Q, based on the previous value of X.\n",
    "}"
   ]
  },
  {
   "cell_type": "markdown",
   "metadata": {},
   "source": [
    "Now that we have simulated the chain, let’s look at the distribution of visits to the five states."
   ]
  },
  {
   "cell_type": "code",
   "execution_count": 11,
   "metadata": {},
   "outputs": [
    {
     "data": {
      "text/plain": [
       "x\n",
       "     1      2      3      4      5 \n",
       "0.1996 0.2020 0.1980 0.1994 0.2010 "
      ]
     },
     "metadata": {},
     "output_type": "display_data"
    }
   ],
   "source": [
    "table(x) / n"
   ]
  },
  {
   "cell_type": "markdown",
   "metadata": {},
   "source": [
    "The overall distribution of the visits to the states is approximately equal to the stationary distribution.\n",
    "\n",
    "As we have just seen, if you simulate a Markov chain for many iterations, the samples can be used as a Monte Carlo sample from the stationary distribution. This is exactly how we are going to use Markov chains for Bayesian inference. In order to simulate from a complicated posterior distribution, we will set up and run a Markov chain whose stationary distribution is the posterior distribution.\n",
    "\n",
    "It is important to note that the stationary distribution doesn’t always exist for any given Markov chain. The Markov chain must have certain properties, which we won’t discuss here. However, the Markov chain algorithms we’ll use in future lessons for Monte Carlo estimation are guaranteed to produce stationary distributions."
   ]
  },
  {
   "cell_type": "markdown",
   "metadata": {},
   "source": [
    "# Continuous example\n",
    "\n",
    "The continuous random walk example we gave earlier does not have a stationary distribution. However, we can modify it so that it does have a stationary distribution.\n",
    "\n",
    "Let the transition distribution be $p(X_{t+1}|X_{t}=x_{t})=N(ϕx_{t},1)$\n",
    "where $−1<ϕ<1$. That is, the probability distribution for the next state is Normal with variance 1 and mean equal to $ϕ$ times the current state. As long as $ϕ$ is between −1 and 1, then the stationary distribution will exist for this model.\n",
    "\n",
    "Let’s simulate this chain for $ϕ=−0.6$."
   ]
  },
  {
   "cell_type": "code",
   "execution_count": 12,
   "metadata": {},
   "outputs": [
    {
     "data": {
      "image/png": "[encoded data removed]",
      "text/plain": [
       "plot without title"
      ]
     },
     "metadata": {},
     "output_type": "display_data"
    }
   ],
   "source": [
    "set.seed(38)\n",
    "\n",
    "n = 1500\n",
    "x = numeric(n)\n",
    "phi = -0.6\n",
    "\n",
    "for (i in 2:n) {\n",
    "  x[i] = rnorm(1, mean=phi*x[i-1], sd=1.0)\n",
    "}\n",
    "\n",
    "plot.ts(x)"
   ]
  },
  {
   "cell_type": "markdown",
   "metadata": {},
   "source": [
    "The theoretical stationary distribution for this chain is normal with mean 0 and variance $\\dfrac{1}{(1−ϕ^{2})}$, which in our example approximately equals 1.562. Let’s look at a histogram of our chain and compare that with the theoretical stationary distribution."
   ]
  },
  {
   "cell_type": "code",
   "execution_count": 13,
   "metadata": {},
   "outputs": [
    {
     "data": {
      "image/png": "[encoded data removed]",
      "text/plain": [
       "Plot with title \"Histogram of x\""
      ]
     },
     "metadata": {},
     "output_type": "display_data"
    }
   ],
   "source": [
    "hist(x, freq=FALSE)\n",
    "curve(dnorm(x, mean=0.0, sd=sqrt(1.0/(1.0-phi^2))), col=\"red\", add=TRUE)\n",
    "legend(\"topright\", legend=\"theoretical stationary\\ndistribution\", col=\"red\", lty=1, bty=\"n\")"
   ]
  },
  {
   "cell_type": "markdown",
   "metadata": {},
   "source": [
    "It appears that the chain has reached the stationary distribution. Therefore, we could treat this simulation from the chain like a Monte Carlo sample from the stationary distribution, a normal with mean 0 and variance 1.562.\n",
    "\n",
    "Because most posterior distributions we will look at are continuous, our Monte Carlo simulations with Markov chains will be similar to this example."
   ]
  }
 ],
 "metadata": {
  "kernelspec": {
   "display_name": "R",
   "language": "R",
   "name": "ir"
  },
  "language_info": {
   "codemirror_mode": "r",
   "file_extension": ".r",
   "mimetype": "text/x-r-source",
   "name": "R",
   "pygments_lexer": "r",
   "version": "3.4.4"
  }
 },
 "nbformat": 4,
 "nbformat_minor": 2
}
